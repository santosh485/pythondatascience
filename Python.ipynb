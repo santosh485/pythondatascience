{
 "cells": [
  {
   "cell_type": "code",
   "execution_count": 1,
   "id": "19c62f9f",
   "metadata": {},
   "outputs": [],
   "source": [
    "import numpy as np\n",
    "import pandas as pd"
   ]
  },
  {
   "cell_type": "code",
   "execution_count": 2,
   "id": "37d7b830",
   "metadata": {},
   "outputs": [
    {
     "data": {
      "text/plain": [
       "[3, 4, 9, 12]"
      ]
     },
     "execution_count": 2,
     "metadata": {},
     "output_type": "execute_result"
    }
   ],
   "source": [
    "l=[3,4,9,12]\n",
    "l"
   ]
  },
  {
   "cell_type": "code",
   "execution_count": 3,
   "id": "0ffb1ea1",
   "metadata": {},
   "outputs": [
    {
     "ename": "NameError",
     "evalue": "name 'Series' is not defined",
     "output_type": "error",
     "traceback": [
      "\u001b[1;31m---------------------------------------------------------------------------\u001b[0m",
      "\u001b[1;31mNameError\u001b[0m                                 Traceback (most recent call last)",
      "\u001b[1;32m<ipython-input-3-5011ebec2ce3>\u001b[0m in \u001b[0;36m<module>\u001b[1;34m\u001b[0m\n\u001b[1;32m----> 1\u001b[1;33m \u001b[0mobj\u001b[0m\u001b[1;33m=\u001b[0m\u001b[0mSeries\u001b[0m\u001b[1;33m(\u001b[0m\u001b[0ml\u001b[0m\u001b[1;33m)\u001b[0m\u001b[1;33m\u001b[0m\u001b[1;33m\u001b[0m\u001b[0m\n\u001b[0m",
      "\u001b[1;31mNameError\u001b[0m: name 'Series' is not defined"
     ]
    }
   ],
   "source": [
    "obj=Series(l)"
   ]
  },
  {
   "cell_type": "code",
   "execution_count": null,
   "id": "d2597cae",
   "metadata": {},
   "outputs": [],
   "source": [
    "ww2_cas = Series([8700000,4300000,3000000,2100000,400000],index=['USSR','Germany','China','Japan','USA'])\n",
    "ww2_cas"
   ]
  },
  {
   "cell_type": "code",
   "execution_count": null,
   "id": "5d95f28b",
   "metadata": {},
   "outputs": [],
   "source": [
    "people = {\n",
    "    \"first\": [\"Charlie\", 'Jane', 'Uncle'], \n",
    "    \"last\": [\"Chaplin\", 'Does', 'Ben'], \n",
    "    \"email\": [\"chaplin@gmail.com\", 'JaneDoes@email.com', 'ben@email.com']\n",
    "}\n",
    "df1=pd.DataFrame(people)\n",
    "df1"
   ]
  },
  {
   "cell_type": "code",
   "execution_count": null,
   "id": "ac346a8f",
   "metadata": {},
   "outputs": [],
   "source": [
    "people={\"first\":[\"Ram\", \"Shyam\", \"Hari\"], \"last\":[\"Basnet\", \"Karki\", \"Thapa\"], \"email\":[\"basfsfsnssnfs#\", \"bsnetef322!@\", \"sfslsf\"]}\n",
    "df=pd.DataFrame(people)\n",
    "df"
   ]
  },
  {
   "cell_type": "code",
   "execution_count": null,
   "id": "3f0d3207",
   "metadata": {},
   "outputs": [],
   "source": [
    "df.to_csv(\"Ram.txt\")"
   ]
  },
  {
   "cell_type": "code",
   "execution_count": null,
   "id": "12e92f3c",
   "metadata": {},
   "outputs": [],
   "source": [
    "import csv\n",
    "people={\"first\":[\"Ram\", \"Shyam\", \"Hari\"], \"last\":[\"Basnet\", \"Karki\", \"Thapa\"], \"email\":[\"basfsfsnssnfs#\", \"bsnetef322!@\", \"sfslsf\"]}\n",
    "\n",
    "with open('ram.csv','a') as f: #new way to open not necessory to close\n",
    "    x = csv.writer(f)\n",
    "    x.writerow(people)"
   ]
  },
  {
   "cell_type": "code",
   "execution_count": null,
   "id": "75d898d3",
   "metadata": {},
   "outputs": [],
   "source": [
    "people2 = {\n",
    "    \"first\":[\"Ram\", \"Shyam\", \"Hari\"], \n",
    "    \"age\": [30, 40, 50], \n",
    "    \"country\": [\"USA\", 'Trinidad', 'UK']\n",
    "}\n",
    "df2=pd.DataFrame(people2)\n",
    "df2"
   ]
  },
  {
   "cell_type": "code",
   "execution_count": null,
   "id": "2e21796a",
   "metadata": {},
   "outputs": [],
   "source": [
    "final=df.merge(df2, on ='first')"
   ]
  },
  {
   "cell_type": "code",
   "execution_count": null,
   "id": "9506c6af",
   "metadata": {},
   "outputs": [],
   "source": [
    "final"
   ]
  },
  {
   "cell_type": "code",
   "execution_count": null,
   "id": "ec4f6f3e",
   "metadata": {},
   "outputs": [],
   "source": [
    "finalNew=pd.concat([df, df2])"
   ]
  },
  {
   "cell_type": "code",
   "execution_count": null,
   "id": "68d2ff6b",
   "metadata": {},
   "outputs": [],
   "source": [
    "finalNew"
   ]
  },
  {
   "cell_type": "code",
   "execution_count": null,
   "id": "dd009a1a",
   "metadata": {},
   "outputs": [],
   "source": [
    "finalNew.to_csv(\"final.csv\")"
   ]
  },
  {
   "cell_type": "code",
   "execution_count": null,
   "id": "b1c6f190",
   "metadata": {},
   "outputs": [],
   "source": [
    "finalNew"
   ]
  },
  {
   "cell_type": "code",
   "execution_count": null,
   "id": "980cb706",
   "metadata": {},
   "outputs": [],
   "source": [
    "xyz=finalNew\n",
    "xyz"
   ]
  },
  {
   "cell_type": "code",
   "execution_count": null,
   "id": "a5ed300b",
   "metadata": {},
   "outputs": [],
   "source": [
    "xyz.T"
   ]
  },
  {
   "cell_type": "code",
   "execution_count": null,
   "id": "fde7ec91",
   "metadata": {},
   "outputs": [],
   "source": [
    "xyz.T.drop_duplicates()"
   ]
  },
  {
   "cell_type": "code",
   "execution_count": null,
   "id": "59f758e5",
   "metadata": {},
   "outputs": [],
   "source": [
    "xyz"
   ]
  },
  {
   "cell_type": "code",
   "execution_count": null,
   "id": "dafdbf48",
   "metadata": {},
   "outputs": [],
   "source": [
    "df"
   ]
  },
  {
   "cell_type": "code",
   "execution_count": null,
   "id": "47f4cccd",
   "metadata": {},
   "outputs": [],
   "source": [
    "df2"
   ]
  },
  {
   "cell_type": "code",
   "execution_count": null,
   "id": "c2fe3479",
   "metadata": {},
   "outputs": [],
   "source": [
    "final2=pd.concat([df, df2])"
   ]
  },
  {
   "cell_type": "code",
   "execution_count": null,
   "id": "3db11403",
   "metadata": {},
   "outputs": [],
   "source": [
    "final2"
   ]
  },
  {
   "cell_type": "code",
   "execution_count": null,
   "id": "02fbee0a",
   "metadata": {},
   "outputs": [],
   "source": [
    "final2=pd.concat([df,df2],join='inner')\n",
    "final2"
   ]
  },
  {
   "cell_type": "code",
   "execution_count": null,
   "id": "832fe714",
   "metadata": {},
   "outputs": [],
   "source": [
    "final4=pd.concat([df, df2],join='outer')"
   ]
  },
  {
   "cell_type": "code",
   "execution_count": null,
   "id": "b69a31b9",
   "metadata": {},
   "outputs": [],
   "source": [
    "final4"
   ]
  },
  {
   "cell_type": "code",
   "execution_count": null,
   "id": "bcaa97b8",
   "metadata": {},
   "outputs": [],
   "source": [
    "from pandas import Series, DataFrame"
   ]
  },
  {
   "cell_type": "code",
   "execution_count": null,
   "id": "67523370",
   "metadata": {},
   "outputs": [],
   "source": [
    "import webbrowser\n",
    "website = 'http://en.wikipedia.org/wiki/NFL_win-loss_records'\n",
    "webbrowser.open(website)"
   ]
  },
  {
   "cell_type": "code",
   "execution_count": null,
   "id": "5542909d",
   "metadata": {},
   "outputs": [],
   "source": [
    "frame=pd.read_clipboard()"
   ]
  },
  {
   "cell_type": "code",
   "execution_count": null,
   "id": "df4ffda9",
   "metadata": {},
   "outputs": [],
   "source": [
    "frame"
   ]
  },
  {
   "cell_type": "code",
   "execution_count": null,
   "id": "864935e5",
   "metadata": {},
   "outputs": [],
   "source": [
    "type(frame)"
   ]
  },
  {
   "cell_type": "code",
   "execution_count": null,
   "id": "e17375ad",
   "metadata": {},
   "outputs": [],
   "source": [
    "frame.columns"
   ]
  },
  {
   "cell_type": "code",
   "execution_count": null,
   "id": "6629227c",
   "metadata": {},
   "outputs": [],
   "source": [
    "DataFrame(frame,columns=[\"Team\", \"Won\", 'Lost'])"
   ]
  },
  {
   "cell_type": "code",
   "execution_count": null,
   "id": "0bc903b7",
   "metadata": {},
   "outputs": [],
   "source": [
    "frame.columns"
   ]
  },
  {
   "cell_type": "code",
   "execution_count": null,
   "id": "2c72a9c4",
   "metadata": {},
   "outputs": [],
   "source": [
    "frame.Team.head()"
   ]
  },
  {
   "cell_type": "code",
   "execution_count": null,
   "id": "cb4b49b2",
   "metadata": {},
   "outputs": [],
   "source": [
    "frame['Lost'].tail()"
   ]
  },
  {
   "cell_type": "code",
   "execution_count": null,
   "id": "e06a75df",
   "metadata": {},
   "outputs": [],
   "source": [
    "frame.iloc[3]"
   ]
  },
  {
   "cell_type": "code",
   "execution_count": null,
   "id": "2bb4a7bb",
   "metadata": {},
   "outputs": [],
   "source": [
    "frame"
   ]
  },
  {
   "cell_type": "code",
   "execution_count": null,
   "id": "d5925cd2",
   "metadata": {},
   "outputs": [],
   "source": [
    "obj=Series([3,4,5,5])"
   ]
  },
  {
   "cell_type": "code",
   "execution_count": null,
   "id": "4d503661",
   "metadata": {},
   "outputs": [],
   "source": [
    "obj"
   ]
  },
  {
   "cell_type": "code",
   "execution_count": null,
   "id": "0232193d",
   "metadata": {},
   "outputs": [],
   "source": [
    "dir(obj)"
   ]
  },
  {
   "cell_type": "code",
   "execution_count": null,
   "id": "4011a779",
   "metadata": {},
   "outputs": [],
   "source": [
    "obj.values"
   ]
  },
  {
   "cell_type": "code",
   "execution_count": null,
   "id": "9ca1b3eb",
   "metadata": {},
   "outputs": [],
   "source": [
    "obj.index"
   ]
  },
  {
   "cell_type": "code",
   "execution_count": null,
   "id": "3ed992c7",
   "metadata": {},
   "outputs": [],
   "source": [
    "ww2=Series([8700000,4300000,3000000,2100000,400000],index=['USSR','Germany','China','Japan','USA'])\n",
    "ww2"
   ]
  },
  {
   "cell_type": "code",
   "execution_count": null,
   "id": "853242ad",
   "metadata": {},
   "outputs": [],
   "source": [
    "ww2['USSR']"
   ]
  },
  {
   "cell_type": "code",
   "execution_count": null,
   "id": "ca0939cc",
   "metadata": {},
   "outputs": [],
   "source": [
    "[ww2>55555555555]"
   ]
  },
  {
   "cell_type": "code",
   "execution_count": null,
   "id": "8ff9f9f1",
   "metadata": {},
   "outputs": [],
   "source": [
    "'USSR' in ww2"
   ]
  },
  {
   "cell_type": "code",
   "execution_count": null,
   "id": "fe7876fc",
   "metadata": {},
   "outputs": [],
   "source": [
    "'Nepal' in ww2"
   ]
  },
  {
   "cell_type": "code",
   "execution_count": null,
   "id": "244c1bde",
   "metadata": {},
   "outputs": [],
   "source": [
    "ww_dict=ww2.to_dict()"
   ]
  },
  {
   "cell_type": "code",
   "execution_count": null,
   "id": "ea91cd07",
   "metadata": {},
   "outputs": [],
   "source": [
    "ww_dict"
   ]
  },
  {
   "cell_type": "code",
   "execution_count": null,
   "id": "1fd0aa97",
   "metadata": {},
   "outputs": [],
   "source": [
    "ww2_series=Series(ww2)"
   ]
  },
  {
   "cell_type": "code",
   "execution_count": null,
   "id": "2b29899f",
   "metadata": {},
   "outputs": [],
   "source": [
    "ww2_series"
   ]
  },
  {
   "cell_type": "code",
   "execution_count": null,
   "id": "dbfbe05e",
   "metadata": {},
   "outputs": [],
   "source": [
    "ww2_series=Series(ww_dict)"
   ]
  },
  {
   "cell_type": "code",
   "execution_count": null,
   "id": "a7fba7f5",
   "metadata": {},
   "outputs": [],
   "source": [
    "ww2_series"
   ]
  },
  {
   "cell_type": "code",
   "execution_count": null,
   "id": "42046da2",
   "metadata": {},
   "outputs": [],
   "source": [
    "countries = ['China','Germany','Japan','USA','USSR','Argentina']\n"
   ]
  },
  {
   "cell_type": "code",
   "execution_count": null,
   "id": "1ff5e5dc",
   "metadata": {},
   "outputs": [],
   "source": [
    "obj2=Series(ww_dict, index=countries)\n",
    "obj2"
   ]
  },
  {
   "cell_type": "code",
   "execution_count": null,
   "id": "9b6b2939",
   "metadata": {},
   "outputs": [],
   "source": [
    "pd.isnull(obj2)"
   ]
  },
  {
   "cell_type": "code",
   "execution_count": null,
   "id": "ce0ebb09",
   "metadata": {},
   "outputs": [],
   "source": [
    "pd.notnull(obj2)"
   ]
  },
  {
   "cell_type": "code",
   "execution_count": null,
   "id": "a6f16a4a",
   "metadata": {},
   "outputs": [],
   "source": [
    "ww2_series"
   ]
  },
  {
   "cell_type": "code",
   "execution_count": null,
   "id": "d1862e70",
   "metadata": {},
   "outputs": [],
   "source": [
    "from numpy.random import randn"
   ]
  },
  {
   "cell_type": "code",
   "execution_count": null,
   "id": "39061c31",
   "metadata": {},
   "outputs": [],
   "source": [
    "ser1 = Series([1,2,3,4],index=['A','B','C','D'])"
   ]
  },
  {
   "cell_type": "code",
   "execution_count": null,
   "id": "db49c3ad",
   "metadata": {},
   "outputs": [],
   "source": [
    "ser1"
   ]
  },
  {
   "cell_type": "code",
   "execution_count": null,
   "id": "b55987fc",
   "metadata": {},
   "outputs": [],
   "source": [
    "ser1=Series([1,2,3,4], index=['A','B','C','D'])"
   ]
  },
  {
   "cell_type": "code",
   "execution_count": null,
   "id": "d7923b36",
   "metadata": {},
   "outputs": [],
   "source": [
    "ser1"
   ]
  },
  {
   "cell_type": "code",
   "execution_count": null,
   "id": "4460d776",
   "metadata": {},
   "outputs": [],
   "source": [
    "ser2=ser1.reindex(['A','B','C','D','E','F'])\n",
    "ser2"
   ]
  },
  {
   "cell_type": "code",
   "execution_count": null,
   "id": "aa97fca4",
   "metadata": {},
   "outputs": [],
   "source": [
    "ser2.std()"
   ]
  },
  {
   "cell_type": "code",
   "execution_count": null,
   "id": "28931a3e",
   "metadata": {},
   "outputs": [],
   "source": [
    "ser2.reindex(['A','B','C','D','E','F','G'],fill_value=0)"
   ]
  },
  {
   "cell_type": "code",
   "execution_count": null,
   "id": "49018f13",
   "metadata": {},
   "outputs": [],
   "source": [
    "ser3=Series(['USA','Mexico','Canada'],index=[0,5,10])\n",
    "ser3"
   ]
  },
  {
   "cell_type": "code",
   "execution_count": null,
   "id": "98e80c61",
   "metadata": {},
   "outputs": [],
   "source": [
    "ser3.reindex(range(15))"
   ]
  },
  {
   "cell_type": "code",
   "execution_count": null,
   "id": "cad7c552",
   "metadata": {},
   "outputs": [],
   "source": [
    "ser3.reindex(range(50))"
   ]
  },
  {
   "cell_type": "code",
   "execution_count": null,
   "id": "2219f25d",
   "metadata": {},
   "outputs": [],
   "source": [
    "ser3.reindex(range(15),method='ffill')"
   ]
  },
  {
   "cell_type": "code",
   "execution_count": null,
   "id": "94d20114",
   "metadata": {},
   "outputs": [],
   "source": [
    "dframe=DataFrame(randn(25).reshape((5,5)),index=['A','B','C','D','E'], columns=['1','2','3','4','5'])\n",
    "dframe"
   ]
  },
  {
   "cell_type": "code",
   "execution_count": null,
   "id": "ff186ae2",
   "metadata": {},
   "outputs": [],
   "source": [
    "drame2=dframe.reindex(['A','B','C','D','H'])"
   ]
  },
  {
   "cell_type": "code",
   "execution_count": null,
   "id": "819b63c9",
   "metadata": {},
   "outputs": [],
   "source": [
    "drame2"
   ]
  },
  {
   "cell_type": "code",
   "execution_count": null,
   "id": "6ad4379e",
   "metadata": {},
   "outputs": [],
   "source": [
    "new_columns=['col1','col2','col3','col4','col5']\n",
    "drame2.reindex(columns=new_columns)"
   ]
  },
  {
   "cell_type": "code",
   "execution_count": null,
   "id": "e3f6731a",
   "metadata": {},
   "outputs": [],
   "source": [
    "dframe.loc[['A','B']],new_columns"
   ]
  },
  {
   "cell_type": "code",
   "execution_count": null,
   "id": "27ac17c9",
   "metadata": {},
   "outputs": [],
   "source": [
    "ser1=Series(np.arange(3),index=['a','b','c'])\n",
    "ser1"
   ]
  },
  {
   "cell_type": "code",
   "execution_count": null,
   "id": "7d7e4e7b",
   "metadata": {},
   "outputs": [],
   "source": [
    "ser1.drop('b')"
   ]
  },
  {
   "cell_type": "code",
   "execution_count": null,
   "id": "187d506e",
   "metadata": {},
   "outputs": [],
   "source": [
    "ser1"
   ]
  },
  {
   "cell_type": "code",
   "execution_count": null,
   "id": "80938d9d",
   "metadata": {},
   "outputs": [],
   "source": [
    "dframe=DataFrame(np.arange(9).reshape((3,3)),index=['SF','LA','NY'],columns=['pop','size','year'])\n",
    "dframe"
   ]
  },
  {
   "cell_type": "code",
   "execution_count": null,
   "id": "c6fcf0b9",
   "metadata": {},
   "outputs": [],
   "source": [
    "dframe.drop('LA')"
   ]
  },
  {
   "cell_type": "code",
   "execution_count": null,
   "id": "d50096b2",
   "metadata": {},
   "outputs": [],
   "source": [
    "dframe.drop('year',axis=1)"
   ]
  },
  {
   "cell_type": "code",
   "execution_count": null,
   "id": "92de10d5",
   "metadata": {},
   "outputs": [],
   "source": [
    "ser1 = Series(np.arange(3),index=['A','B','C'])\n",
    "ser1"
   ]
  },
  {
   "cell_type": "code",
   "execution_count": null,
   "id": "6de771c3",
   "metadata": {},
   "outputs": [],
   "source": [
    "ser1['B']"
   ]
  },
  {
   "cell_type": "code",
   "execution_count": null,
   "id": "34f64e27",
   "metadata": {},
   "outputs": [],
   "source": [
    "ser1[1]"
   ]
  },
  {
   "cell_type": "code",
   "execution_count": null,
   "id": "76a87711",
   "metadata": {},
   "outputs": [],
   "source": [
    "ser1[0:3]"
   ]
  },
  {
   "cell_type": "code",
   "execution_count": null,
   "id": "c8408bd6",
   "metadata": {},
   "outputs": [],
   "source": [
    "ser1[['A','B','C']]"
   ]
  },
  {
   "cell_type": "code",
   "execution_count": null,
   "id": "3585d708",
   "metadata": {},
   "outputs": [],
   "source": [
    "ser1[ser1>3]"
   ]
  },
  {
   "cell_type": "code",
   "execution_count": null,
   "id": "2a479d33",
   "metadata": {},
   "outputs": [],
   "source": [
    "ser1"
   ]
  },
  {
   "cell_type": "code",
   "execution_count": null,
   "id": "19a00e75",
   "metadata": {},
   "outputs": [],
   "source": [
    "ser1[['A','B']]"
   ]
  },
  {
   "cell_type": "code",
   "execution_count": null,
   "id": "4398c7ae",
   "metadata": {},
   "outputs": [],
   "source": [
    "#Now let's see sleection in a DataFrame\n",
    "\n",
    "dframe = DataFrame(np.arange(25).reshape((5,5)),index=['NYC','LA','SF','DC','Chi'],columns=['A','B','C','D','E'])\n",
    "\n",
    "#Show\n",
    "dframe"
   ]
  },
  {
   "cell_type": "code",
   "execution_count": null,
   "id": "f9e66b18",
   "metadata": {},
   "outputs": [],
   "source": [
    "dframe[dframe['C']>8]"
   ]
  },
  {
   "cell_type": "code",
   "execution_count": null,
   "id": "fee7d6bc",
   "metadata": {},
   "outputs": [],
   "source": [
    "dframe[dframe['C']>8]['C']"
   ]
  },
  {
   "cell_type": "code",
   "execution_count": null,
   "id": "50b2aa63",
   "metadata": {},
   "outputs": [],
   "source": [
    "dframe[dframe['C']>8]['C']=19"
   ]
  },
  {
   "cell_type": "code",
   "execution_count": null,
   "id": "a9939f0c",
   "metadata": {},
   "outputs": [],
   "source": [
    "dframe.loc['DC','C']=19"
   ]
  },
  {
   "cell_type": "code",
   "execution_count": null,
   "id": "199d5c04",
   "metadata": {},
   "outputs": [],
   "source": [
    "dframe"
   ]
  },
  {
   "cell_type": "code",
   "execution_count": null,
   "id": "3d866b3f",
   "metadata": {},
   "outputs": [],
   "source": [
    "dframe.loc[['DC','SF','Chi'],'C']=29"
   ]
  },
  {
   "cell_type": "code",
   "execution_count": null,
   "id": "53ed3e4a",
   "metadata": {},
   "outputs": [],
   "source": [
    "dframe"
   ]
  },
  {
   "cell_type": "code",
   "execution_count": null,
   "id": "ced18b87",
   "metadata": {},
   "outputs": [],
   "source": [
    "dframe>10"
   ]
  },
  {
   "cell_type": "code",
   "execution_count": null,
   "id": "05a8109e",
   "metadata": {},
   "outputs": [],
   "source": [
    "dframe<10"
   ]
  },
  {
   "cell_type": "code",
   "execution_count": null,
   "id": "9a50e9a0",
   "metadata": {},
   "outputs": [],
   "source": [
    "dframe.ix['LA']"
   ]
  },
  {
   "cell_type": "code",
   "execution_count": null,
   "id": "54454670",
   "metadata": {},
   "outputs": [],
   "source": [
    "ser1 = Series([0,1,2],index=['A','B','C'])\n",
    "ser1"
   ]
  },
  {
   "cell_type": "code",
   "execution_count": null,
   "id": "5230b00e",
   "metadata": {},
   "outputs": [],
   "source": [
    "ser2 = Series([3,4,5,6],index=['A','B','C','D'])\n",
    "ser2"
   ]
  },
  {
   "cell_type": "code",
   "execution_count": null,
   "id": "b27c037d",
   "metadata": {},
   "outputs": [],
   "source": [
    "ser1+ser2"
   ]
  },
  {
   "cell_type": "code",
   "execution_count": null,
   "id": "3694cf6f",
   "metadata": {},
   "outputs": [],
   "source": [
    "ser1=Series([3,4,5,6,3],index=['A','B','C','D','E'])\n",
    "ser1"
   ]
  },
  {
   "cell_type": "code",
   "execution_count": null,
   "id": "e72481b2",
   "metadata": {},
   "outputs": [],
   "source": [
    "ser2=Series([5,6],index=['A','B'])"
   ]
  },
  {
   "cell_type": "code",
   "execution_count": null,
   "id": "d99159d3",
   "metadata": {},
   "outputs": [],
   "source": [
    "ser2+ser1"
   ]
  },
  {
   "cell_type": "code",
   "execution_count": null,
   "id": "97ecd750",
   "metadata": {},
   "outputs": [],
   "source": [
    "dframe1=DataFrame(np.arange(4).reshape(2,2),columns=list('AB'),index=['NYC','LA'])\n",
    "dframe1"
   ]
  },
  {
   "cell_type": "code",
   "execution_count": null,
   "id": "2e3bcb4a",
   "metadata": {},
   "outputs": [],
   "source": [
    "dframe2=DataFrame(np.arange(9).reshape(3,3),columns=list('ADC'),index=['NYC','SF','LA'])\n",
    "dframe2"
   ]
  },
  {
   "cell_type": "code",
   "execution_count": null,
   "id": "b5d2c6a3",
   "metadata": {},
   "outputs": [],
   "source": [
    "dframe1+dframe2"
   ]
  },
  {
   "cell_type": "code",
   "execution_count": null,
   "id": "cdb41a23",
   "metadata": {},
   "outputs": [],
   "source": [
    "dframe1.add(dframe2,fill_value=0)"
   ]
  },
  {
   "cell_type": "code",
   "execution_count": null,
   "id": "be9567ac",
   "metadata": {},
   "outputs": [],
   "source": [
    "ser1 = Series(range(3),index=['C','A','B'])\n",
    "ser1"
   ]
  },
  {
   "cell_type": "code",
   "execution_count": null,
   "id": "197232a3",
   "metadata": {},
   "outputs": [],
   "source": [
    "ser1.sort_index()"
   ]
  },
  {
   "cell_type": "code",
   "execution_count": null,
   "id": "21698dbf",
   "metadata": {},
   "outputs": [],
   "source": [
    "from numpy.random import randn\n",
    "ser2=Series(randn(10))\n",
    "ser2"
   ]
  },
  {
   "cell_type": "code",
   "execution_count": null,
   "id": "b6affa05",
   "metadata": {},
   "outputs": [],
   "source": [
    "ser2.rank()"
   ]
  },
  {
   "cell_type": "code",
   "execution_count": null,
   "id": "80e25f7e",
   "metadata": {},
   "outputs": [],
   "source": [
    "ser2.min()"
   ]
  },
  {
   "cell_type": "code",
   "execution_count": null,
   "id": "e391eb70",
   "metadata": {},
   "outputs": [],
   "source": [
    "ser2.max()"
   ]
  },
  {
   "cell_type": "code",
   "execution_count": null,
   "id": "11ba2450",
   "metadata": {},
   "outputs": [],
   "source": [
    "person = {\n",
    "    \"first\": [\"Charlie\", 'Jane', 'Uncle'], \n",
    "    \"last\": [\"Chaplin\", 'Does', 'Ben'], \n",
    "    \"email\": [\"chaplin@gmail.com\", 'JaneDoes@email.com', 'ben@email.com']\n",
    "}\n",
    "persons=pd.DataFrame(person,index=['one','two','three'])\n",
    "persons"
   ]
  },
  {
   "cell_type": "code",
   "execution_count": null,
   "id": "010e6294",
   "metadata": {},
   "outputs": [],
   "source": [
    "type(persons['email'])"
   ]
  },
  {
   "cell_type": "code",
   "execution_count": null,
   "id": "3162faab",
   "metadata": {},
   "outputs": [],
   "source": [
    "newrow1=pd.Series({'email':'kpbaa@gmail.com','first': 'K.P.', 'last': 'Oli'})\n",
    "newrow1"
   ]
  },
  {
   "cell_type": "code",
   "execution_count": null,
   "id": "ea2df3df",
   "metadata": {},
   "outputs": [],
   "source": [
    "person = {\n",
    "    \"first\": [\"Charlie\", 'Jane', 'Uncle'], \n",
    "    \"last\": [\"Chaplin\", 'Does', 'Ben'], \n",
    "    \"email\": [\"chaplin@gmail.com\", 'JaneDoes@email.com', 'ben@email.com']\n",
    "}\n",
    "persons=pd.DataFrame(person,index=['one','two','three'])\n",
    "persons"
   ]
  },
  {
   "cell_type": "code",
   "execution_count": null,
   "id": "371bca47",
   "metadata": {},
   "outputs": [],
   "source": [
    "type(persons['email'])"
   ]
  },
  {
   "cell_type": "code",
   "execution_count": null,
   "id": "b6b01d04",
   "metadata": {},
   "outputs": [],
   "source": [
    "newrow1=pd.Series({'email':'kpbaa@gmail.com','first': 'K.P.', 'last': 'Oli'})\n",
    "newrow1"
   ]
  },
  {
   "cell_type": "code",
   "execution_count": null,
   "id": "ed35604f",
   "metadata": {},
   "outputs": [],
   "source": [
    "person1=persons.append(newrow1, ignore_index=True)\n",
    "person1"
   ]
  },
  {
   "cell_type": "code",
   "execution_count": null,
   "id": "c27c33de",
   "metadata": {},
   "outputs": [],
   "source": [
    "newrow2=pd.Series({'email':'kpbaa@gmail.com','first': 'K.P.', 'last': 'Oli'},name='four')\n",
    "person2=persons.append(newrow2)\n",
    "person2"
   ]
  },
  {
   "cell_type": "code",
   "execution_count": null,
   "id": "0e3bc7c9",
   "metadata": {},
   "outputs": [],
   "source": [
    "persons"
   ]
  },
  {
   "cell_type": "code",
   "execution_count": null,
   "id": "3d1cf153",
   "metadata": {},
   "outputs": [],
   "source": [
    "newrow3=pd.Series({'email':'newmail@gmail.com','first': 'XYZ', 'last': 'BLC'},name='four')\n",
    "person2=person2.append(newrow3)\n",
    "person2"
   ]
  },
  {
   "cell_type": "code",
   "execution_count": null,
   "id": "3c71c5b5",
   "metadata": {},
   "outputs": [],
   "source": [
    "person2.index"
   ]
  },
  {
   "cell_type": "code",
   "execution_count": null,
   "id": "9ed10f9e",
   "metadata": {},
   "outputs": [],
   "source": [
    "person2.loc['four']"
   ]
  },
  {
   "cell_type": "code",
   "execution_count": null,
   "id": "53b560e8",
   "metadata": {},
   "outputs": [],
   "source": [
    "person2.iloc[4]"
   ]
  },
  {
   "cell_type": "code",
   "execution_count": null,
   "id": "1d5695bb",
   "metadata": {},
   "outputs": [],
   "source": [
    "persondf=person2\n",
    "persondf"
   ]
  },
  {
   "cell_type": "code",
   "execution_count": null,
   "id": "5c6e46ff",
   "metadata": {},
   "outputs": [],
   "source": [
    "newDF=pd.DataFrame({\"first\": [\"Raj\", 'Snow'], \"last\":[\"Bhandari\",\"White\"]})"
   ]
  },
  {
   "cell_type": "code",
   "execution_count": null,
   "id": "faa11783",
   "metadata": {},
   "outputs": [],
   "source": [
    "newDF"
   ]
  },
  {
   "cell_type": "code",
   "execution_count": null,
   "id": "f5340a52",
   "metadata": {},
   "outputs": [],
   "source": [
    "persondf=persondf.append(newDF)\n",
    "persondf"
   ]
  },
  {
   "cell_type": "code",
   "execution_count": null,
   "id": "da623027",
   "metadata": {},
   "outputs": [],
   "source": [
    "persondf.loc[1]"
   ]
  },
  {
   "cell_type": "code",
   "execution_count": null,
   "id": "dc86e482",
   "metadata": {},
   "outputs": [],
   "source": [
    "persondf.iloc[1]"
   ]
  },
  {
   "cell_type": "code",
   "execution_count": null,
   "id": "74da2303",
   "metadata": {},
   "outputs": [],
   "source": [
    "person2.index"
   ]
  },
  {
   "cell_type": "code",
   "execution_count": null,
   "id": "df430d92",
   "metadata": {},
   "outputs": [],
   "source": [
    "person2.index.duplicated()"
   ]
  },
  {
   "cell_type": "code",
   "execution_count": null,
   "id": "3b40330b",
   "metadata": {},
   "outputs": [],
   "source": [
    "persondf.index"
   ]
  },
  {
   "cell_type": "code",
   "execution_count": null,
   "id": "f494745b",
   "metadata": {},
   "outputs": [],
   "source": [
    "persondf = persondf.rename(index={0:'zero',1:'newone',2:'newtwo'})"
   ]
  },
  {
   "cell_type": "code",
   "execution_count": null,
   "id": "539cb8c6",
   "metadata": {},
   "outputs": [],
   "source": [
    "persondf"
   ]
  },
  {
   "cell_type": "code",
   "execution_count": null,
   "id": "40ad0b04",
   "metadata": {},
   "outputs": [],
   "source": [
    "df=persondf\n",
    "df"
   ]
  },
  {
   "cell_type": "code",
   "execution_count": null,
   "id": "8f7ccf98",
   "metadata": {},
   "outputs": [],
   "source": [
    "df.reset_index(inplace=True)\n",
    "df"
   ]
  },
  {
   "cell_type": "code",
   "execution_count": null,
   "id": "8a4c708f",
   "metadata": {},
   "outputs": [],
   "source": [
    "df.columns"
   ]
  },
  {
   "cell_type": "code",
   "execution_count": null,
   "id": "8f08400b",
   "metadata": {},
   "outputs": [],
   "source": [
    "df.iloc[3]"
   ]
  },
  {
   "cell_type": "code",
   "execution_count": null,
   "id": "82e11d6b",
   "metadata": {},
   "outputs": [],
   "source": [
    "df.loc[4,'index']"
   ]
  },
  {
   "cell_type": "code",
   "execution_count": null,
   "id": "1f9fb27f",
   "metadata": {},
   "outputs": [],
   "source": [
    "df.loc[4,'index']='five'"
   ]
  },
  {
   "cell_type": "code",
   "execution_count": null,
   "id": "585cadbf",
   "metadata": {},
   "outputs": [],
   "source": [
    "df"
   ]
  },
  {
   "cell_type": "code",
   "execution_count": null,
   "id": "ccc03c7f",
   "metadata": {},
   "outputs": [],
   "source": [
    "arr=np.arange(11)\n",
    "arr"
   ]
  },
  {
   "cell_type": "code",
   "execution_count": null,
   "id": "092d27aa",
   "metadata": {},
   "outputs": [],
   "source": [
    "np.sqrt(arr)"
   ]
  },
  {
   "cell_type": "code",
   "execution_count": null,
   "id": "e7e93234",
   "metadata": {},
   "outputs": [],
   "source": [
    "np.exp(arr)"
   ]
  },
  {
   "cell_type": "code",
   "execution_count": null,
   "id": "3a274cdf",
   "metadata": {},
   "outputs": [],
   "source": [
    "A=np.random.randn(10)"
   ]
  },
  {
   "cell_type": "code",
   "execution_count": null,
   "id": "8cc39673",
   "metadata": {},
   "outputs": [],
   "source": [
    "A"
   ]
  },
  {
   "cell_type": "code",
   "execution_count": null,
   "id": "6d427290",
   "metadata": {},
   "outputs": [],
   "source": [
    "B = np.random.randn(10)"
   ]
  },
  {
   "cell_type": "code",
   "execution_count": null,
   "id": "adbe82f1",
   "metadata": {},
   "outputs": [],
   "source": [
    "B\n"
   ]
  },
  {
   "cell_type": "code",
   "execution_count": null,
   "id": "8fbbbe32",
   "metadata": {},
   "outputs": [],
   "source": [
    "np.add(A,B)"
   ]
  },
  {
   "cell_type": "code",
   "execution_count": null,
   "id": "767c6dc3",
   "metadata": {},
   "outputs": [],
   "source": [
    "np.maximum(A,B)"
   ]
  },
  {
   "cell_type": "code",
   "execution_count": null,
   "id": "28adfced",
   "metadata": {},
   "outputs": [],
   "source": [
    "np.minimum(A,B)"
   ]
  },
  {
   "cell_type": "code",
   "execution_count": null,
   "id": "79fe7b36",
   "metadata": {},
   "outputs": [],
   "source": [
    "np.random.randint(10)"
   ]
  },
  {
   "cell_type": "code",
   "execution_count": null,
   "id": "f04ba2ad",
   "metadata": {},
   "outputs": [],
   "source": [
    "ran=np.random.randint(1,10,20).reshape(5,4)\n",
    "ran"
   ]
  },
  {
   "cell_type": "code",
   "execution_count": null,
   "id": "05821628",
   "metadata": {},
   "outputs": [],
   "source": [
    "ran.max()"
   ]
  },
  {
   "cell_type": "code",
   "execution_count": null,
   "id": "2d143604",
   "metadata": {},
   "outputs": [],
   "source": [
    "ran.min()"
   ]
  },
  {
   "cell_type": "code",
   "execution_count": null,
   "id": "012dc789",
   "metadata": {},
   "outputs": [],
   "source": [
    "np.nonzero(ran)"
   ]
  },
  {
   "cell_type": "code",
   "execution_count": null,
   "id": "a65adc7c",
   "metadata": {},
   "outputs": [],
   "source": [
    "np.count_nonzero(ran)"
   ]
  },
  {
   "cell_type": "code",
   "execution_count": null,
   "id": "a00e1f27",
   "metadata": {},
   "outputs": [],
   "source": [
    "np.random.normal((3,4))"
   ]
  },
  {
   "cell_type": "code",
   "execution_count": null,
   "id": "426118c9",
   "metadata": {},
   "outputs": [],
   "source": [
    "a=np.random.normal(size=(2,2))"
   ]
  },
  {
   "cell_type": "code",
   "execution_count": null,
   "id": "5220a704",
   "metadata": {},
   "outputs": [],
   "source": [
    "a.ravel()"
   ]
  },
  {
   "cell_type": "code",
   "execution_count": null,
   "id": "089f758f",
   "metadata": {},
   "outputs": [],
   "source": [
    "my_list1=[1,2,3,4]\n",
    "my_array1=np.array(my_list1)"
   ]
  },
  {
   "cell_type": "code",
   "execution_count": null,
   "id": "d4475b1c",
   "metadata": {},
   "outputs": [],
   "source": [
    "my_array1"
   ]
  },
  {
   "cell_type": "code",
   "execution_count": null,
   "id": "8891009a",
   "metadata": {},
   "outputs": [],
   "source": [
    "print(my_array1)"
   ]
  },
  {
   "cell_type": "code",
   "execution_count": null,
   "id": "fde55b6a",
   "metadata": {},
   "outputs": [],
   "source": [
    "type(my_array1)"
   ]
  },
  {
   "cell_type": "code",
   "execution_count": null,
   "id": "16142707",
   "metadata": {},
   "outputs": [],
   "source": [
    "np.ndim(my_array1)"
   ]
  },
  {
   "cell_type": "code",
   "execution_count": null,
   "id": "6eadab4c",
   "metadata": {},
   "outputs": [],
   "source": [
    "my_list1"
   ]
  },
  {
   "cell_type": "code",
   "execution_count": null,
   "id": "49420376",
   "metadata": {},
   "outputs": [],
   "source": [
    "my_list2=[11,22,33,44]\n",
    "my_list2"
   ]
  },
  {
   "cell_type": "code",
   "execution_count": null,
   "id": "3fa00a96",
   "metadata": {},
   "outputs": [],
   "source": [
    "my_lists=[my_list1, my_list2]"
   ]
  },
  {
   "cell_type": "markdown",
   "id": "d3e3873f",
   "metadata": {},
   "source": [
    "my_lists"
   ]
  },
  {
   "cell_type": "code",
   "execution_count": null,
   "id": "22e3d95d",
   "metadata": {},
   "outputs": [],
   "source": [
    "print(my_lists)"
   ]
  },
  {
   "cell_type": "code",
   "execution_count": null,
   "id": "3b873b1b",
   "metadata": {},
   "outputs": [],
   "source": [
    "my_array=np.array(my_lists)"
   ]
  },
  {
   "cell_type": "code",
   "execution_count": null,
   "id": "1a062d3b",
   "metadata": {},
   "outputs": [],
   "source": [
    "my_array.shape"
   ]
  },
  {
   "cell_type": "code",
   "execution_count": null,
   "id": "b13d364d",
   "metadata": {},
   "outputs": [],
   "source": [
    "my_array.dtype"
   ]
  },
  {
   "cell_type": "code",
   "execution_count": null,
   "id": "22ac4e18",
   "metadata": {},
   "outputs": [],
   "source": [
    "np.zeros((5,5))"
   ]
  },
  {
   "cell_type": "code",
   "execution_count": null,
   "id": "3f9558b3",
   "metadata": {},
   "outputs": [],
   "source": [
    "np.ones((5,5), dtype=int)"
   ]
  },
  {
   "cell_type": "code",
   "execution_count": null,
   "id": "7d054dd4",
   "metadata": {},
   "outputs": [],
   "source": [
    "np.empty(5)"
   ]
  },
  {
   "cell_type": "code",
   "execution_count": null,
   "id": "1cdc8a1d",
   "metadata": {},
   "outputs": [],
   "source": [
    "np.empty((3,4))"
   ]
  },
  {
   "cell_type": "code",
   "execution_count": null,
   "id": "8aa16f7f",
   "metadata": {},
   "outputs": [],
   "source": [
    "np.empty((3,4), dtype=int)"
   ]
  },
  {
   "cell_type": "code",
   "execution_count": null,
   "id": "51166a25",
   "metadata": {},
   "outputs": [],
   "source": [
    "np.full((5,3), [1,9,2])"
   ]
  },
  {
   "cell_type": "code",
   "execution_count": null,
   "id": "373807dd",
   "metadata": {},
   "outputs": [],
   "source": [
    "np.full(2,2),[2,3]"
   ]
  },
  {
   "cell_type": "code",
   "execution_count": null,
   "id": "2a6bf258",
   "metadata": {},
   "outputs": [],
   "source": [
    "np.eye(4)"
   ]
  },
  {
   "cell_type": "code",
   "execution_count": null,
   "id": "b0b318b7",
   "metadata": {},
   "outputs": [],
   "source": [
    "np.eye(100)"
   ]
  },
  {
   "cell_type": "code",
   "execution_count": null,
   "id": "372f08f7",
   "metadata": {},
   "outputs": [],
   "source": [
    "np.eye(2,2)"
   ]
  },
  {
   "cell_type": "code",
   "execution_count": null,
   "id": "f416dca4",
   "metadata": {},
   "outputs": [],
   "source": [
    "np.identity(10)"
   ]
  },
  {
   "cell_type": "code",
   "execution_count": null,
   "id": "6d526023",
   "metadata": {},
   "outputs": [],
   "source": [
    "np.identity(4)"
   ]
  },
  {
   "cell_type": "code",
   "execution_count": null,
   "id": "adff0178",
   "metadata": {},
   "outputs": [],
   "source": [
    "np.diag(np.identity(4))"
   ]
  },
  {
   "cell_type": "code",
   "execution_count": null,
   "id": "52998f25",
   "metadata": {},
   "outputs": [],
   "source": [
    "np.arange(10)"
   ]
  },
  {
   "cell_type": "code",
   "execution_count": null,
   "id": "40efb097",
   "metadata": {},
   "outputs": [],
   "source": [
    "np.arange(1,16)"
   ]
  },
  {
   "cell_type": "code",
   "execution_count": null,
   "id": "0e428235",
   "metadata": {},
   "outputs": [],
   "source": [
    "np.arange(1,50,2)"
   ]
  },
  {
   "cell_type": "code",
   "execution_count": null,
   "id": "f8a18149",
   "metadata": {},
   "outputs": [],
   "source": [
    "np.arange(1,50,5)"
   ]
  },
  {
   "cell_type": "code",
   "execution_count": null,
   "id": "da538deb",
   "metadata": {},
   "outputs": [],
   "source": [
    "np.arange(1,50,2).reshape((5,5))"
   ]
  },
  {
   "cell_type": "code",
   "execution_count": null,
   "id": "0dc2b496",
   "metadata": {},
   "outputs": [],
   "source": [
    "np.arange(0,30).reshape((15,2))"
   ]
  },
  {
   "cell_type": "code",
   "execution_count": null,
   "id": "86183015",
   "metadata": {},
   "outputs": [],
   "source": [
    "np.arange(0,30).reshape(15,2)"
   ]
  },
  {
   "cell_type": "code",
   "execution_count": null,
   "id": "8d8e6a43",
   "metadata": {},
   "outputs": [],
   "source": [
    "np.arange(0,30).reshape((15,2)).T"
   ]
  },
  {
   "cell_type": "code",
   "execution_count": null,
   "id": "45bc6df2",
   "metadata": {},
   "outputs": [],
   "source": [
    "arr1=np.array([[1,2,3],[8,9,10]a=])"
   ]
  },
  {
   "cell_type": "code",
   "execution_count": null,
   "id": "471a8f11",
   "metadata": {},
   "outputs": [],
   "source": [
    "arr1"
   ]
  },
  {
   "cell_type": "code",
   "execution_count": null,
   "id": "6f2e77a8",
   "metadata": {},
   "outputs": [],
   "source": [
    "arr1 = np.array([[1,2,3],[8,9,10]])\n"
   ]
  },
  {
   "cell_type": "code",
   "execution_count": null,
   "id": "97624c66",
   "metadata": {},
   "outputs": [],
   "source": [
    "a=np.arange(10)"
   ]
  },
  {
   "cell_type": "code",
   "execution_count": null,
   "id": "d0350940",
   "metadata": {},
   "outputs": [],
   "source": [
    "a"
   ]
  },
  {
   "cell_type": "code",
   "execution_count": null,
   "id": "621883b6",
   "metadata": {},
   "outputs": [],
   "source": [
    "a=np.arange(10)\n",
    "a"
   ]
  },
  {
   "cell_type": "code",
   "execution_count": null,
   "id": "d97cfe54",
   "metadata": {},
   "outputs": [],
   "source": [
    "a.dtype"
   ]
  },
  {
   "cell_type": "code",
   "execution_count": null,
   "id": "139ecc29",
   "metadata": {},
   "outputs": [],
   "source": [
    "a.shape"
   ]
  },
  {
   "cell_type": "code",
   "execution_count": null,
   "id": "f40fa66d",
   "metadata": {},
   "outputs": [],
   "source": [
    "a.ndim"
   ]
  },
  {
   "cell_type": "code",
   "execution_count": null,
   "id": "2287c5b8",
   "metadata": {},
   "outputs": [],
   "source": [
    "z=np.zeros"
   ]
  },
  {
   "cell_type": "code",
   "execution_count": null,
   "id": "19b0348f",
   "metadata": {},
   "outputs": [],
   "source": [
    "z"
   ]
  },
  {
   "cell_type": "code",
   "execution_count": null,
   "id": "d6dd99cd",
   "metadata": {},
   "outputs": [],
   "source": [
    "z=np.zeros((3,4))\n",
    "a"
   ]
  },
  {
   "cell_type": "code",
   "execution_count": null,
   "id": "e73e9ff6",
   "metadata": {},
   "outputs": [],
   "source": [
    "z"
   ]
  },
  {
   "cell_type": "code",
   "execution_count": null,
   "id": "99d1e1f6",
   "metadata": {},
   "outputs": [],
   "source": [
    "z.ndim"
   ]
  },
  {
   "cell_type": "code",
   "execution_count": null,
   "id": "45103ab7",
   "metadata": {},
   "outputs": [],
   "source": [
    "xyz3d=np.arange(1,60,2).reshape((5,2,3))\n",
    "xyz3d"
   ]
  },
  {
   "cell_type": "code",
   "execution_count": null,
   "id": "5e2f80f3",
   "metadata": {},
   "outputs": [],
   "source": [
    "xyz3d=np.arange(1,60,2).reshape((2,5,3))\n",
    "xyz3d"
   ]
  },
  {
   "cell_type": "code",
   "execution_count": null,
   "id": "31e861be",
   "metadata": {},
   "outputs": [],
   "source": [
    "xyz3d.shape"
   ]
  },
  {
   "cell_type": "code",
   "execution_count": null,
   "id": "fee8d04c",
   "metadata": {},
   "outputs": [],
   "source": [
    "xyz3d.ndim"
   ]
  },
  {
   "cell_type": "code",
   "execution_count": null,
   "id": "1a7a413d",
   "metadata": {},
   "outputs": [],
   "source": [
    "arr1"
   ]
  },
  {
   "cell_type": "code",
   "execution_count": null,
   "id": "b3cf8940",
   "metadata": {},
   "outputs": [],
   "source": [
    "arr1.dtype"
   ]
  },
  {
   "cell_type": "code",
   "execution_count": null,
   "id": "fb8068db",
   "metadata": {},
   "outputs": [],
   "source": [
    "arr2=np.array([23,45,1,2,3,4,5,8,9,0])"
   ]
  },
  {
   "cell_type": "code",
   "execution_count": null,
   "id": "faebbd50",
   "metadata": {},
   "outputs": [],
   "source": [
    "arr2"
   ]
  },
  {
   "cell_type": "code",
   "execution_count": null,
   "id": "b34b3fcc",
   "metadata": {},
   "outputs": [],
   "source": [
    "arr2.dtype"
   ]
  },
  {
   "cell_type": "code",
   "execution_count": null,
   "id": "b861b57e",
   "metadata": {},
   "outputs": [],
   "source": [
    "arr2.astype(arr1.dtype)"
   ]
  },
  {
   "cell_type": "code",
   "execution_count": null,
   "id": "cbf3becc",
   "metadata": {},
   "outputs": [],
   "source": [
    "arr2"
   ]
  },
  {
   "cell_type": "code",
   "execution_count": null,
   "id": "c769a304",
   "metadata": {},
   "outputs": [],
   "source": [
    "strArr=np.array(['4.5', '5.2', '4.0'])\n",
    "strArr"
   ]
  },
  {
   "cell_type": "code",
   "execution_count": null,
   "id": "31a1a52c",
   "metadata": {},
   "outputs": [],
   "source": [
    "strArr1=strArr.astype(float)\n",
    "strArr1\n"
   ]
  },
  {
   "cell_type": "code",
   "execution_count": null,
   "id": "23c2e164",
   "metadata": {},
   "outputs": [],
   "source": [
    "strArr2=strArr1.astype(int)\n",
    "strArr2"
   ]
  },
  {
   "cell_type": "code",
   "execution_count": null,
   "id": "927d322e",
   "metadata": {},
   "outputs": [],
   "source": [
    "xy = np.array([[1,23,45],[56,6,7],[78,34,25]])\n",
    "xy"
   ]
  },
  {
   "cell_type": "code",
   "execution_count": null,
   "id": "a4928ff2",
   "metadata": {},
   "outputs": [],
   "source": [
    "xy<40"
   ]
  },
  {
   "cell_type": "code",
   "execution_count": null,
   "id": "c55ab303",
   "metadata": {},
   "outputs": [],
   "source": [
    "xy[xy<40]"
   ]
  },
  {
   "cell_type": "code",
   "execution_count": null,
   "id": "1a9f3d6c",
   "metadata": {},
   "outputs": [],
   "source": [
    "xy=np.array([[1,23,45],[56,6,7],[78,34,25]])\n",
    "xy"
   ]
  },
  {
   "cell_type": "code",
   "execution_count": null,
   "id": "c9e33f56",
   "metadata": {},
   "outputs": [],
   "source": [
    "[xy<40]"
   ]
  },
  {
   "cell_type": "code",
   "execution_count": 4,
   "id": "e2c6c3c9",
   "metadata": {},
   "outputs": [
    {
     "data": {
      "text/plain": [
       "array([[ 1, 23, 45],\n",
       "       [56,  6,  7],\n",
       "       [78, 34, 25]])"
      ]
     },
     "execution_count": 4,
     "metadata": {},
     "output_type": "execute_result"
    }
   ],
   "source": [
    "xy=np.array([[1,23,45],[56,6,7],[78,34,25]])\n",
    "xy"
   ]
  },
  {
   "cell_type": "code",
   "execution_count": 5,
   "id": "6065e6c9",
   "metadata": {},
   "outputs": [
    {
     "data": {
      "text/plain": [
       "[array([[ True,  True, False],\n",
       "        [False,  True,  True],\n",
       "        [False,  True,  True]])]"
      ]
     },
     "execution_count": 5,
     "metadata": {},
     "output_type": "execute_result"
    }
   ],
   "source": [
    "[xy<40]"
   ]
  },
  {
   "cell_type": "code",
   "execution_count": 6,
   "id": "2fe3959d",
   "metadata": {},
   "outputs": [
    {
     "data": {
      "text/plain": [
       "array([ 1, 23,  6,  7, 34, 25])"
      ]
     },
     "execution_count": 6,
     "metadata": {},
     "output_type": "execute_result"
    }
   ],
   "source": [
    "xy[xy<40]"
   ]
  },
  {
   "cell_type": "code",
   "execution_count": 7,
   "id": "6c55cdfb",
   "metadata": {},
   "outputs": [
    {
     "data": {
      "text/plain": [
       "array([1, 6, 7])"
      ]
     },
     "execution_count": 7,
     "metadata": {},
     "output_type": "execute_result"
    }
   ],
   "source": [
    "xy[xy<10]"
   ]
  },
  {
   "cell_type": "code",
   "execution_count": 8,
   "id": "06007add",
   "metadata": {},
   "outputs": [
    {
     "data": {
      "text/plain": [
       "array([ 1, 23, 45])"
      ]
     },
     "execution_count": 8,
     "metadata": {},
     "output_type": "execute_result"
    }
   ],
   "source": [
    "xy[0]"
   ]
  },
  {
   "cell_type": "code",
   "execution_count": 9,
   "id": "1beadc4d",
   "metadata": {},
   "outputs": [
    {
     "data": {
      "text/plain": [
       "23"
      ]
     },
     "execution_count": 9,
     "metadata": {},
     "output_type": "execute_result"
    }
   ],
   "source": [
    "xy[0][1]"
   ]
  },
  {
   "cell_type": "code",
   "execution_count": 10,
   "id": "06eab77a",
   "metadata": {},
   "outputs": [
    {
     "data": {
      "text/plain": [
       "1"
      ]
     },
     "execution_count": 10,
     "metadata": {},
     "output_type": "execute_result"
    }
   ],
   "source": [
    "xy[0][0]"
   ]
  },
  {
   "cell_type": "code",
   "execution_count": 11,
   "id": "fa3e2612",
   "metadata": {},
   "outputs": [
    {
     "data": {
      "text/plain": [
       "array([6, 7])"
      ]
     },
     "execution_count": 11,
     "metadata": {},
     "output_type": "execute_result"
    }
   ],
   "source": [
    "xy[1][xy[1]<40]"
   ]
  },
  {
   "cell_type": "code",
   "execution_count": 14,
   "id": "832446fa",
   "metadata": {},
   "outputs": [],
   "source": [
    "arr1=np.array([[1,2,3],[8,9,10]])"
   ]
  },
  {
   "cell_type": "code",
   "execution_count": 15,
   "id": "7e48822f",
   "metadata": {},
   "outputs": [
    {
     "data": {
      "text/plain": [
       "array([[ 1,  2,  3],\n",
       "       [ 8,  9, 10]])"
      ]
     },
     "execution_count": 15,
     "metadata": {},
     "output_type": "execute_result"
    }
   ],
   "source": [
    "arr1"
   ]
  },
  {
   "cell_type": "code",
   "execution_count": 16,
   "id": "5d55e12d",
   "metadata": {},
   "outputs": [
    {
     "data": {
      "text/plain": [
       "array([[  1,   4,   9],\n",
       "       [ 64,  81, 100]])"
      ]
     },
     "execution_count": 16,
     "metadata": {},
     "output_type": "execute_result"
    }
   ],
   "source": [
    "arr1*arr1"
   ]
  },
  {
   "cell_type": "code",
   "execution_count": 17,
   "id": "930afcd1",
   "metadata": {},
   "outputs": [
    {
     "data": {
      "text/plain": [
       "array([[ 2,  4,  6],\n",
       "       [16, 18, 20]])"
      ]
     },
     "execution_count": 17,
     "metadata": {},
     "output_type": "execute_result"
    }
   ],
   "source": [
    "arr1+arr1"
   ]
  },
  {
   "cell_type": "code",
   "execution_count": 18,
   "id": "1597d28d",
   "metadata": {},
   "outputs": [
    {
     "data": {
      "text/plain": [
       "array([[0, 0, 0],\n",
       "       [0, 0, 0]])"
      ]
     },
     "execution_count": 18,
     "metadata": {},
     "output_type": "execute_result"
    }
   ],
   "source": [
    "arr1-arr1"
   ]
  },
  {
   "cell_type": "code",
   "execution_count": 19,
   "id": "5932e9a5",
   "metadata": {},
   "outputs": [
    {
     "data": {
      "text/plain": [
       "array([[1.        , 0.5       , 0.33333333],\n",
       "       [0.125     , 0.11111111, 0.1       ]])"
      ]
     },
     "execution_count": 19,
     "metadata": {},
     "output_type": "execute_result"
    }
   ],
   "source": [
    "1/arr1"
   ]
  },
  {
   "cell_type": "code",
   "execution_count": 20,
   "id": "f07f10a5",
   "metadata": {},
   "outputs": [
    {
     "data": {
      "text/plain": [
       "array([[0.5, 1. , 1.5],\n",
       "       [4. , 4.5, 5. ]])"
      ]
     },
     "execution_count": 20,
     "metadata": {},
     "output_type": "execute_result"
    }
   ],
   "source": [
    "arr1/2"
   ]
  },
  {
   "cell_type": "code",
   "execution_count": 21,
   "id": "96f42b14",
   "metadata": {},
   "outputs": [
    {
     "data": {
      "text/plain": [
       "array([[   1,    8,   27],\n",
       "       [ 512,  729, 1000]], dtype=int32)"
      ]
     },
     "execution_count": 21,
     "metadata": {},
     "output_type": "execute_result"
    }
   ],
   "source": [
    "arr1**3"
   ]
  },
  {
   "cell_type": "code",
   "execution_count": 22,
   "id": "2aec520e",
   "metadata": {},
   "outputs": [
    {
     "data": {
      "text/plain": [
       "array([[ 3,  6,  9],\n",
       "       [24, 27, 30]])"
      ]
     },
     "execution_count": 22,
     "metadata": {},
     "output_type": "execute_result"
    }
   ],
   "source": [
    "arr1*3"
   ]
  },
  {
   "cell_type": "code",
   "execution_count": 23,
   "id": "184f8a2a",
   "metadata": {},
   "outputs": [],
   "source": [
    "arr=np.arange(0,11)"
   ]
  },
  {
   "cell_type": "code",
   "execution_count": 24,
   "id": "8f949551",
   "metadata": {},
   "outputs": [
    {
     "data": {
      "text/plain": [
       "array([ 0,  1,  2,  3,  4,  5,  6,  7,  8,  9, 10])"
      ]
     },
     "execution_count": 24,
     "metadata": {},
     "output_type": "execute_result"
    }
   ],
   "source": [
    "arr"
   ]
  },
  {
   "cell_type": "code",
   "execution_count": 25,
   "id": "3c91d507",
   "metadata": {},
   "outputs": [
    {
     "data": {
      "text/plain": [
       "8"
      ]
     },
     "execution_count": 25,
     "metadata": {},
     "output_type": "execute_result"
    }
   ],
   "source": [
    "arr[8]"
   ]
  },
  {
   "cell_type": "code",
   "execution_count": 27,
   "id": "f2d59b81",
   "metadata": {},
   "outputs": [
    {
     "data": {
      "text/plain": [
       "array([1, 2, 3, 4])"
      ]
     },
     "execution_count": 27,
     "metadata": {},
     "output_type": "execute_result"
    }
   ],
   "source": [
    "arr[1:5]"
   ]
  },
  {
   "cell_type": "code",
   "execution_count": 28,
   "id": "00210dc0",
   "metadata": {},
   "outputs": [
    {
     "data": {
      "text/plain": [
       "array([0, 1, 2, 3, 4])"
      ]
     },
     "execution_count": 28,
     "metadata": {},
     "output_type": "execute_result"
    }
   ],
   "source": [
    "arr[0:5]"
   ]
  },
  {
   "cell_type": "code",
   "execution_count": 29,
   "id": "9bdb4cc1",
   "metadata": {},
   "outputs": [
    {
     "data": {
      "text/plain": [
       "array([ 0,  1,  2,  3,  4,  5,  6,  7,  8,  9, 10])"
      ]
     },
     "execution_count": 29,
     "metadata": {},
     "output_type": "execute_result"
    }
   ],
   "source": [
    "arr"
   ]
  },
  {
   "cell_type": "code",
   "execution_count": 30,
   "id": "4bc8c8c9",
   "metadata": {},
   "outputs": [
    {
     "data": {
      "text/plain": [
       "array([ 0,  1,  2,  3,  4,  5,  6,  7,  8,  9, 10])"
      ]
     },
     "execution_count": 30,
     "metadata": {},
     "output_type": "execute_result"
    }
   ],
   "source": [
    "arr=np.arange(0,11)\n",
    "arr"
   ]
  },
  {
   "cell_type": "code",
   "execution_count": 39,
   "id": "af3d56be",
   "metadata": {},
   "outputs": [],
   "source": [
    "slice_of_arr=arr[0:9]"
   ]
  },
  {
   "cell_type": "code",
   "execution_count": 40,
   "id": "17e87542",
   "metadata": {},
   "outputs": [
    {
     "data": {
      "text/plain": [
       "array([99, 99, 99, 99, 99, 99,  6,  7,  8])"
      ]
     },
     "execution_count": 40,
     "metadata": {},
     "output_type": "execute_result"
    }
   ],
   "source": [
    "slice_of_arr"
   ]
  },
  {
   "cell_type": "code",
   "execution_count": 41,
   "id": "59dd6e2b",
   "metadata": {},
   "outputs": [
    {
     "data": {
      "text/plain": [
       "array([99, 99, 99, 99, 99, 99, 99, 99, 99])"
      ]
     },
     "execution_count": 41,
     "metadata": {},
     "output_type": "execute_result"
    }
   ],
   "source": [
    "slice_of_arr[:]=99\n",
    "slice_of_arr"
   ]
  },
  {
   "cell_type": "code",
   "execution_count": 42,
   "id": "63cdba0c",
   "metadata": {},
   "outputs": [
    {
     "data": {
      "text/plain": [
       "array([99, 99, 99, 99, 99, 99, 99, 99, 99,  9, 10])"
      ]
     },
     "execution_count": 42,
     "metadata": {},
     "output_type": "execute_result"
    }
   ],
   "source": [
    "arr"
   ]
  },
  {
   "cell_type": "code",
   "execution_count": 43,
   "id": "2c185168",
   "metadata": {},
   "outputs": [
    {
     "data": {
      "text/plain": [
       "array([99, 99, 99, 99, 99, 99, 99, 99, 99,  9, 10])"
      ]
     },
     "execution_count": 43,
     "metadata": {},
     "output_type": "execute_result"
    }
   ],
   "source": [
    "arr_copy=arr.copy()\n",
    "arr_copy"
   ]
  },
  {
   "cell_type": "code",
   "execution_count": 44,
   "id": "278be5e9",
   "metadata": {},
   "outputs": [
    {
     "data": {
      "text/plain": [
       "array([99, 99, 99, 99, 99, 99, 99, 99, 99,  9, 10])"
      ]
     },
     "execution_count": 44,
     "metadata": {},
     "output_type": "execute_result"
    }
   ],
   "source": [
    "arr"
   ]
  },
  {
   "cell_type": "code",
   "execution_count": 45,
   "id": "79db61cc",
   "metadata": {},
   "outputs": [
    {
     "data": {
      "text/plain": [
       "array([ 0, 99, 99, 99, 99, 99, 99, 99, 99,  9, 10])"
      ]
     },
     "execution_count": 45,
     "metadata": {},
     "output_type": "execute_result"
    }
   ],
   "source": [
    "arr_copy[0]=0\n",
    "arr_copy"
   ]
  },
  {
   "cell_type": "code",
   "execution_count": 46,
   "id": "2e26e918",
   "metadata": {},
   "outputs": [
    {
     "data": {
      "text/plain": [
       "array([99, 99, 99, 99, 99, 99, 99, 99, 99,  9, 10])"
      ]
     },
     "execution_count": 46,
     "metadata": {},
     "output_type": "execute_result"
    }
   ],
   "source": [
    "arr"
   ]
  },
  {
   "cell_type": "code",
   "execution_count": 47,
   "id": "adf352e3",
   "metadata": {},
   "outputs": [
    {
     "data": {
      "text/plain": [
       "array([[ 5, 10, 15],\n",
       "       [20, 25, 30],\n",
       "       [35, 40, 45]])"
      ]
     },
     "execution_count": 47,
     "metadata": {},
     "output_type": "execute_result"
    }
   ],
   "source": [
    "arr_2d = np.array(([5,10,15],[20,25,30],[35,40,45]))\n",
    "arr_2d"
   ]
  },
  {
   "cell_type": "code",
   "execution_count": 48,
   "id": "370acbbe",
   "metadata": {},
   "outputs": [
    {
     "data": {
      "text/plain": [
       "array([20, 25, 30])"
      ]
     },
     "execution_count": 48,
     "metadata": {},
     "output_type": "execute_result"
    }
   ],
   "source": [
    "arr_2d[1]"
   ]
  },
  {
   "cell_type": "code",
   "execution_count": 49,
   "id": "da83f0d4",
   "metadata": {},
   "outputs": [
    {
     "data": {
      "text/plain": [
       "10"
      ]
     },
     "execution_count": 49,
     "metadata": {},
     "output_type": "execute_result"
    }
   ],
   "source": [
    "arr_2d[0][1]"
   ]
  },
  {
   "cell_type": "code",
   "execution_count": 50,
   "id": "a2ba2562",
   "metadata": {},
   "outputs": [
    {
     "data": {
      "text/plain": [
       "45"
      ]
     },
     "execution_count": 50,
     "metadata": {},
     "output_type": "execute_result"
    }
   ],
   "source": [
    "arr_2d[2,2]"
   ]
  },
  {
   "cell_type": "code",
   "execution_count": 51,
   "id": "bb1c3f89",
   "metadata": {},
   "outputs": [
    {
     "data": {
      "text/plain": [
       "array([[ 5, 10, 15],\n",
       "       [20, 25, 30],\n",
       "       [35, 40, 45]])"
      ]
     },
     "execution_count": 51,
     "metadata": {},
     "output_type": "execute_result"
    }
   ],
   "source": [
    "arr_2d"
   ]
  },
  {
   "cell_type": "code",
   "execution_count": 52,
   "id": "7385c30b",
   "metadata": {},
   "outputs": [
    {
     "data": {
      "text/plain": [
       "array([40, 45])"
      ]
     },
     "execution_count": 52,
     "metadata": {},
     "output_type": "execute_result"
    }
   ],
   "source": [
    "arr_2d[2,1:]"
   ]
  },
  {
   "cell_type": "code",
   "execution_count": 53,
   "id": "4e234df9",
   "metadata": {},
   "outputs": [
    {
     "data": {
      "text/plain": [
       "array([ 5, 20])"
      ]
     },
     "execution_count": 53,
     "metadata": {},
     "output_type": "execute_result"
    }
   ],
   "source": [
    "arr_2d[:2,0]"
   ]
  },
  {
   "cell_type": "code",
   "execution_count": 54,
   "id": "569ef8dd",
   "metadata": {},
   "outputs": [
    {
     "data": {
      "text/plain": [
       "array([35, 40, 45])"
      ]
     },
     "execution_count": 54,
     "metadata": {},
     "output_type": "execute_result"
    }
   ],
   "source": [
    "arr_2d[2,:]"
   ]
  },
  {
   "cell_type": "code",
   "execution_count": 58,
   "id": "71cc8080",
   "metadata": {},
   "outputs": [
    {
     "data": {
      "text/plain": [
       "array([[ 2.,  2.,  2.,  2.,  2.,  2.,  2.,  2.,  2.,  2.],\n",
       "       [ 3.,  3.,  3.,  3.,  3.,  3.,  3.,  3.,  3.,  3.],\n",
       "       [ 4.,  4.,  4.,  4.,  4.,  4.,  4.,  4.,  4.,  4.],\n",
       "       [ 5.,  5.,  5.,  5.,  5.,  5.,  5.,  5.,  5.,  5.],\n",
       "       [ 6.,  6.,  6.,  6.,  6.,  6.,  6.,  6.,  6.,  6.],\n",
       "       [ 7.,  7.,  7.,  7.,  7.,  7.,  7.,  7.,  7.,  7.],\n",
       "       [ 8.,  8.,  8.,  8.,  8.,  8.,  8.,  8.,  8.,  8.],\n",
       "       [ 9.,  9.,  9.,  9.,  9.,  9.,  9.,  9.,  9.,  9.],\n",
       "       [10., 10., 10., 10., 10., 10., 10., 10., 10., 10.],\n",
       "       [11., 11., 11., 11., 11., 11., 11., 11., 11., 11.]])"
      ]
     },
     "execution_count": 58,
     "metadata": {},
     "output_type": "execute_result"
    }
   ],
   "source": [
    "arr_2d=np.zeros((10,10))\n",
    "arr_2d\n",
    "arr_length=arr_2d.shape[1]\n",
    "arr_length\n",
    "for i in range(arr_length):\n",
    "    arr_2d[i]=(i+2)\n",
    "arr_2d"
   ]
  },
  {
   "cell_type": "code",
   "execution_count": 59,
   "id": "fd6b5bef",
   "metadata": {},
   "outputs": [
    {
     "data": {
      "text/plain": [
       "array([[ 4.,  4.,  4.,  4.,  4.,  4.,  4.,  4.,  4.,  4.],\n",
       "       [ 6.,  6.,  6.,  6.,  6.,  6.,  6.,  6.,  6.,  6.],\n",
       "       [ 8.,  8.,  8.,  8.,  8.,  8.,  8.,  8.,  8.,  8.],\n",
       "       [10., 10., 10., 10., 10., 10., 10., 10., 10., 10.]])"
      ]
     },
     "execution_count": 59,
     "metadata": {},
     "output_type": "execute_result"
    }
   ],
   "source": [
    "arr_2d[[2,4,6,8]]"
   ]
  },
  {
   "cell_type": "code",
   "execution_count": 60,
   "id": "a46b6bda",
   "metadata": {},
   "outputs": [
    {
     "data": {
      "text/plain": [
       "array([[8., 8., 8., 8., 8., 8., 8., 8., 8., 8.],\n",
       "       [6., 6., 6., 6., 6., 6., 6., 6., 6., 6.],\n",
       "       [4., 4., 4., 4., 4., 4., 4., 4., 4., 4.],\n",
       "       [9., 9., 9., 9., 9., 9., 9., 9., 9., 9.]])"
      ]
     },
     "execution_count": 60,
     "metadata": {},
     "output_type": "execute_result"
    }
   ],
   "source": [
    "arr_2d[[6,4,2,7]]"
   ]
  },
  {
   "cell_type": "code",
   "execution_count": 61,
   "id": "c23e9c06",
   "metadata": {},
   "outputs": [
    {
     "data": {
      "text/plain": [
       "array([[ 3.,  3.,  3.,  3.,  3.,  3.,  3.,  3.,  3.,  3.],\n",
       "       [ 6.,  6.,  6.,  6.,  6.,  6.,  6.,  6.,  6.,  6.],\n",
       "       [10., 10., 10., 10., 10., 10., 10., 10., 10., 10.]])"
      ]
     },
     "execution_count": 61,
     "metadata": {},
     "output_type": "execute_result"
    }
   ],
   "source": [
    "arr_2d[[1,4,8]]"
   ]
  },
  {
   "cell_type": "code",
   "execution_count": 62,
   "id": "2e8c8fcf",
   "metadata": {},
   "outputs": [
    {
     "data": {
      "text/plain": [
       "array([ 3.,  6., 10.])"
      ]
     },
     "execution_count": 62,
     "metadata": {},
     "output_type": "execute_result"
    }
   ],
   "source": [
    "arr_2d[[1,4,8],[0,1,2]]"
   ]
  },
  {
   "cell_type": "code",
   "execution_count": 63,
   "id": "e8d63c4d",
   "metadata": {},
   "outputs": [],
   "source": [
    "arr=np.arange(50).reshape((10,5))"
   ]
  },
  {
   "cell_type": "code",
   "execution_count": 64,
   "id": "e08355f1",
   "metadata": {},
   "outputs": [
    {
     "data": {
      "text/plain": [
       "array([[ 0,  1,  2,  3,  4],\n",
       "       [ 5,  6,  7,  8,  9],\n",
       "       [10, 11, 12, 13, 14],\n",
       "       [15, 16, 17, 18, 19],\n",
       "       [20, 21, 22, 23, 24],\n",
       "       [25, 26, 27, 28, 29],\n",
       "       [30, 31, 32, 33, 34],\n",
       "       [35, 36, 37, 38, 39],\n",
       "       [40, 41, 42, 43, 44],\n",
       "       [45, 46, 47, 48, 49]])"
      ]
     },
     "execution_count": 64,
     "metadata": {},
     "output_type": "execute_result"
    }
   ],
   "source": [
    "arr"
   ]
  },
  {
   "cell_type": "code",
   "execution_count": 65,
   "id": "df8924fd",
   "metadata": {},
   "outputs": [
    {
     "data": {
      "text/plain": [
       "array([ 5, 20, 40])"
      ]
     },
     "execution_count": 65,
     "metadata": {},
     "output_type": "execute_result"
    }
   ],
   "source": [
    "arr[[1,4,8],0]"
   ]
  },
  {
   "cell_type": "code",
   "execution_count": 66,
   "id": "445b8659",
   "metadata": {},
   "outputs": [
    {
     "data": {
      "text/plain": [
       "array([ 5, 21, 42])"
      ]
     },
     "execution_count": 66,
     "metadata": {},
     "output_type": "execute_result"
    }
   ],
   "source": [
    "arr[[1,4,8],[0,1,2]]\n"
   ]
  },
  {
   "cell_type": "code",
   "execution_count": 67,
   "id": "507ecfee",
   "metadata": {},
   "outputs": [
    {
     "data": {
      "text/plain": [
       "array([[ 5,  6,  7,  8,  9],\n",
       "       [20, 21, 22, 23, 24],\n",
       "       [40, 41, 42, 43, 44]])"
      ]
     },
     "execution_count": 67,
     "metadata": {},
     "output_type": "execute_result"
    }
   ],
   "source": [
    "arr[[1,4,8],0:7]"
   ]
  },
  {
   "cell_type": "code",
   "execution_count": 68,
   "id": "86c58d9a",
   "metadata": {},
   "outputs": [
    {
     "data": {
      "text/plain": [
       "array([[ 0,  5, 10, 15, 20, 25, 30, 35, 40, 45],\n",
       "       [ 1,  6, 11, 16, 21, 26, 31, 36, 41, 46],\n",
       "       [ 2,  7, 12, 17, 22, 27, 32, 37, 42, 47],\n",
       "       [ 3,  8, 13, 18, 23, 28, 33, 38, 43, 48],\n",
       "       [ 4,  9, 14, 19, 24, 29, 34, 39, 44, 49]])"
      ]
     },
     "execution_count": 68,
     "metadata": {},
     "output_type": "execute_result"
    }
   ],
   "source": [
    "arr.T"
   ]
  },
  {
   "cell_type": "code",
   "execution_count": 69,
   "id": "93c37717",
   "metadata": {},
   "outputs": [
    {
     "data": {
      "text/plain": [
       "array([ 0,  1,  2,  3,  4,  5,  6,  7,  8,  9, 10, 11, 12, 13, 14, 15, 16,\n",
       "       17, 18, 19, 20, 21, 22, 23, 24, 25, 26, 27, 28, 29, 30, 31, 32, 33,\n",
       "       34, 35, 36, 37, 38, 39, 40, 41, 42, 43, 44, 45, 46, 47, 48, 49])"
      ]
     },
     "execution_count": 69,
     "metadata": {},
     "output_type": "execute_result"
    }
   ],
   "source": [
    "arr.ravel()"
   ]
  },
  {
   "cell_type": "code",
   "execution_count": 70,
   "id": "fcb06361",
   "metadata": {},
   "outputs": [
    {
     "data": {
      "text/plain": [
       "array([[7125, 7350, 7575, 7800, 8025],\n",
       "       [7350, 7585, 7820, 8055, 8290],\n",
       "       [7575, 7820, 8065, 8310, 8555],\n",
       "       [7800, 8055, 8310, 8565, 8820],\n",
       "       [8025, 8290, 8555, 8820, 9085]])"
      ]
     },
     "execution_count": 70,
     "metadata": {},
     "output_type": "execute_result"
    }
   ],
   "source": [
    "np.dot(arr.T,arr)"
   ]
  },
  {
   "cell_type": "code",
   "execution_count": 71,
   "id": "80cfbb59",
   "metadata": {},
   "outputs": [
    {
     "data": {
      "text/plain": [
       "array([[[ 0,  1],\n",
       "        [ 2,  3],\n",
       "        [ 4,  5],\n",
       "        [ 6,  7],\n",
       "        [ 8,  9]],\n",
       "\n",
       "       [[10, 11],\n",
       "        [12, 13],\n",
       "        [14, 15],\n",
       "        [16, 17],\n",
       "        [18, 19]],\n",
       "\n",
       "       [[20, 21],\n",
       "        [22, 23],\n",
       "        [24, 25],\n",
       "        [26, 27],\n",
       "        [28, 29]],\n",
       "\n",
       "       [[30, 31],\n",
       "        [32, 33],\n",
       "        [34, 35],\n",
       "        [36, 37],\n",
       "        [38, 39]],\n",
       "\n",
       "       [[40, 41],\n",
       "        [42, 43],\n",
       "        [44, 45],\n",
       "        [46, 47],\n",
       "        [48, 49]]])"
      ]
     },
     "execution_count": 71,
     "metadata": {},
     "output_type": "execute_result"
    }
   ],
   "source": [
    "arr_3d=np.arange(50).reshape((5,5,2))\n",
    "arr_3d"
   ]
  },
  {
   "cell_type": "code",
   "execution_count": 72,
   "id": "dd5c72a2",
   "metadata": {},
   "outputs": [
    {
     "data": {
      "text/plain": [
       "array([[[ 0, 10, 20, 30, 40],\n",
       "        [ 2, 12, 22, 32, 42],\n",
       "        [ 4, 14, 24, 34, 44],\n",
       "        [ 6, 16, 26, 36, 46],\n",
       "        [ 8, 18, 28, 38, 48]],\n",
       "\n",
       "       [[ 1, 11, 21, 31, 41],\n",
       "        [ 3, 13, 23, 33, 43],\n",
       "        [ 5, 15, 25, 35, 45],\n",
       "        [ 7, 17, 27, 37, 47],\n",
       "        [ 9, 19, 29, 39, 49]]])"
      ]
     },
     "execution_count": 72,
     "metadata": {},
     "output_type": "execute_result"
    }
   ],
   "source": [
    "arr_3d.T"
   ]
  },
  {
   "cell_type": "code",
   "execution_count": 73,
   "id": "c9d8fc45",
   "metadata": {},
   "outputs": [
    {
     "data": {
      "text/plain": [
       "array([[[ 0,  1],\n",
       "        [10, 11],\n",
       "        [20, 21],\n",
       "        [30, 31],\n",
       "        [40, 41]],\n",
       "\n",
       "       [[ 2,  3],\n",
       "        [12, 13],\n",
       "        [22, 23],\n",
       "        [32, 33],\n",
       "        [42, 43]],\n",
       "\n",
       "       [[ 4,  5],\n",
       "        [14, 15],\n",
       "        [24, 25],\n",
       "        [34, 35],\n",
       "        [44, 45]],\n",
       "\n",
       "       [[ 6,  7],\n",
       "        [16, 17],\n",
       "        [26, 27],\n",
       "        [36, 37],\n",
       "        [46, 47]],\n",
       "\n",
       "       [[ 8,  9],\n",
       "        [18, 19],\n",
       "        [28, 29],\n",
       "        [38, 39],\n",
       "        [48, 49]]])"
      ]
     },
     "execution_count": 73,
     "metadata": {},
     "output_type": "execute_result"
    }
   ],
   "source": [
    "arr_3d.transpose((1,0,2))"
   ]
  },
  {
   "cell_type": "code",
   "execution_count": 74,
   "id": "e74533d7",
   "metadata": {},
   "outputs": [
    {
     "data": {
      "text/plain": [
       "array([[1, 2, 3]])"
      ]
     },
     "execution_count": 74,
     "metadata": {},
     "output_type": "execute_result"
    }
   ],
   "source": [
    "arr=np.array([[1,2,3]])\n",
    "arr"
   ]
  },
  {
   "cell_type": "code",
   "execution_count": 75,
   "id": "3097ea8e",
   "metadata": {},
   "outputs": [
    {
     "data": {
      "text/plain": [
       "(1, 3)"
      ]
     },
     "execution_count": 75,
     "metadata": {},
     "output_type": "execute_result"
    }
   ],
   "source": [
    "arr.shape"
   ]
  },
  {
   "cell_type": "code",
   "execution_count": 76,
   "id": "49415c87",
   "metadata": {},
   "outputs": [
    {
     "data": {
      "text/plain": [
       "2"
      ]
     },
     "execution_count": 76,
     "metadata": {},
     "output_type": "execute_result"
    }
   ],
   "source": [
    "arr.ndim"
   ]
  },
  {
   "cell_type": "code",
   "execution_count": 77,
   "id": "030b35cb",
   "metadata": {},
   "outputs": [
    {
     "data": {
      "text/plain": [
       "(3, 1)"
      ]
     },
     "execution_count": 77,
     "metadata": {},
     "output_type": "execute_result"
    }
   ],
   "source": [
    "arr.swapaxes(0,1).shape"
   ]
  },
  {
   "cell_type": "code",
   "execution_count": 78,
   "id": "57101619",
   "metadata": {},
   "outputs": [
    {
     "data": {
      "text/plain": [
       "array([[1],\n",
       "       [2],\n",
       "       [3]])"
      ]
     },
     "execution_count": 78,
     "metadata": {},
     "output_type": "execute_result"
    }
   ],
   "source": [
    "arr.swapaxes(0,1)"
   ]
  },
  {
   "cell_type": "code",
   "execution_count": 79,
   "id": "e483bcc9",
   "metadata": {},
   "outputs": [
    {
     "data": {
      "text/plain": [
       "[1, 2, 300, 400]"
      ]
     },
     "execution_count": 79,
     "metadata": {},
     "output_type": "execute_result"
    }
   ],
   "source": [
    "A=np.array([1,2,3,4])\n",
    "B=np.array([100,200,300,400])\n",
    "condition=np.array([True,True,False,False])\n",
    "answer=[(A_val if cond else B_val) for A_val, B_val, cond in zip(A,B, condition)]\n",
    "answer"
   ]
  },
  {
   "cell_type": "code",
   "execution_count": 80,
   "id": "b390e386",
   "metadata": {},
   "outputs": [
    {
     "data": {
      "text/plain": [
       "[(1, 100, True), (2, 200, True), (3, 300, False), (4, 400, False)]"
      ]
     },
     "execution_count": 80,
     "metadata": {},
     "output_type": "execute_result"
    }
   ],
   "source": [
    "list(zip(A,B,condition))"
   ]
  },
  {
   "cell_type": "code",
   "execution_count": 81,
   "id": "30f13840",
   "metadata": {},
   "outputs": [
    {
     "data": {
      "text/plain": [
       "array([  1,   2, 300, 400])"
      ]
     },
     "execution_count": 81,
     "metadata": {},
     "output_type": "execute_result"
    }
   ],
   "source": [
    "answer2=np.where(condition,A,B)\n",
    "answer2"
   ]
  },
  {
   "cell_type": "code",
   "execution_count": 82,
   "id": "81a2512a",
   "metadata": {},
   "outputs": [
    {
     "data": {
      "text/plain": [
       "array([[ 0.97103997, -0.03663525, -1.42499047, -1.35249569],\n",
       "       [-0.17627254, -1.23318723, -0.13161692, -0.63751072],\n",
       "       [-1.14224635, -1.82091156,  0.91507513,  0.26625373]])"
      ]
     },
     "execution_count": 82,
     "metadata": {},
     "output_type": "execute_result"
    }
   ],
   "source": [
    "from numpy.random import randn\n",
    "arr=randn(3,4)\n",
    "arr"
   ]
  },
  {
   "cell_type": "code",
   "execution_count": 83,
   "id": "b9f3e4e8",
   "metadata": {},
   "outputs": [
    {
     "data": {
      "text/plain": [
       "array([[ 2.        , -0.03663525, -1.42499047, -1.35249569],\n",
       "       [-0.17627254, -1.23318723, -0.13161692, -0.63751072],\n",
       "       [-1.14224635, -1.82091156,  2.        ,  2.        ]])"
      ]
     },
     "execution_count": 83,
     "metadata": {},
     "output_type": "execute_result"
    }
   ],
   "source": [
    "np.where(arr>0,2,arr)"
   ]
  },
  {
   "cell_type": "code",
   "execution_count": 84,
   "id": "3d24f2bc",
   "metadata": {},
   "outputs": [
    {
     "data": {
      "text/plain": [
       "array([[1, 2, 3],\n",
       "       [4, 5, 6],\n",
       "       [7, 8, 9]])"
      ]
     },
     "execution_count": 84,
     "metadata": {},
     "output_type": "execute_result"
    }
   ],
   "source": [
    "arr=np.array([[1,2,3],[4,5,6],[7,8,9]])\n",
    "arr"
   ]
  },
  {
   "cell_type": "code",
   "execution_count": 85,
   "id": "0a6aa59f",
   "metadata": {},
   "outputs": [
    {
     "data": {
      "text/plain": [
       "45"
      ]
     },
     "execution_count": 85,
     "metadata": {},
     "output_type": "execute_result"
    }
   ],
   "source": [
    "arr.sum()"
   ]
  },
  {
   "cell_type": "code",
   "execution_count": 86,
   "id": "330adec2",
   "metadata": {},
   "outputs": [
    {
     "data": {
      "text/plain": [
       "9"
      ]
     },
     "execution_count": 86,
     "metadata": {},
     "output_type": "execute_result"
    }
   ],
   "source": [
    "arr.max()"
   ]
  },
  {
   "cell_type": "code",
   "execution_count": 87,
   "id": "789f8073",
   "metadata": {},
   "outputs": [
    {
     "data": {
      "text/plain": [
       "1"
      ]
     },
     "execution_count": 87,
     "metadata": {},
     "output_type": "execute_result"
    }
   ],
   "source": [
    "arr.min()"
   ]
  },
  {
   "cell_type": "code",
   "execution_count": 88,
   "id": "963208ba",
   "metadata": {},
   "outputs": [
    {
     "data": {
      "text/plain": [
       "array([12, 15, 18])"
      ]
     },
     "execution_count": 88,
     "metadata": {},
     "output_type": "execute_result"
    }
   ],
   "source": [
    "arr.sum(0)"
   ]
  },
  {
   "cell_type": "code",
   "execution_count": 89,
   "id": "f9645a01",
   "metadata": {},
   "outputs": [
    {
     "data": {
      "text/plain": [
       "array([ 6, 15, 24])"
      ]
     },
     "execution_count": 89,
     "metadata": {},
     "output_type": "execute_result"
    }
   ],
   "source": [
    "arr.sum(1)"
   ]
  },
  {
   "cell_type": "code",
   "execution_count": 90,
   "id": "642e82b5",
   "metadata": {},
   "outputs": [
    {
     "data": {
      "text/plain": [
       "5.0"
      ]
     },
     "execution_count": 90,
     "metadata": {},
     "output_type": "execute_result"
    }
   ],
   "source": [
    "arr.mean()"
   ]
  },
  {
   "cell_type": "code",
   "execution_count": 91,
   "id": "8b280b59",
   "metadata": {},
   "outputs": [
    {
     "data": {
      "text/plain": [
       "array([2., 5., 8.])"
      ]
     },
     "execution_count": 91,
     "metadata": {},
     "output_type": "execute_result"
    }
   ],
   "source": [
    "arr.mean(1)"
   ]
  },
  {
   "cell_type": "code",
   "execution_count": 92,
   "id": "cbdd7732",
   "metadata": {},
   "outputs": [
    {
     "data": {
      "text/plain": [
       "2.581988897471611"
      ]
     },
     "execution_count": 92,
     "metadata": {},
     "output_type": "execute_result"
    }
   ],
   "source": [
    "arr.std()"
   ]
  },
  {
   "cell_type": "code",
   "execution_count": 93,
   "id": "c5750c72",
   "metadata": {},
   "outputs": [
    {
     "data": {
      "text/plain": [
       "6.666666666666667"
      ]
     },
     "execution_count": 93,
     "metadata": {},
     "output_type": "execute_result"
    }
   ],
   "source": [
    "arr.var()"
   ]
  },
  {
   "cell_type": "code",
   "execution_count": 94,
   "id": "6d625ade",
   "metadata": {},
   "outputs": [
    {
     "data": {
      "text/plain": [
       "6.666666666666667"
      ]
     },
     "execution_count": 94,
     "metadata": {},
     "output_type": "execute_result"
    }
   ],
   "source": [
    "arr.var()"
   ]
  },
  {
   "cell_type": "code",
   "execution_count": 95,
   "id": "c2e85c47",
   "metadata": {},
   "outputs": [
    {
     "data": {
      "text/plain": [
       "array([[1.        , 1.41421356, 1.73205081],\n",
       "       [2.        , 2.23606798, 2.44948974],\n",
       "       [2.64575131, 2.82842712, 3.        ]])"
      ]
     },
     "execution_count": 95,
     "metadata": {},
     "output_type": "execute_result"
    }
   ],
   "source": [
    "np.sqrt(arr)"
   ]
  },
  {
   "cell_type": "code",
   "execution_count": 96,
   "id": "cc18e460",
   "metadata": {},
   "outputs": [
    {
     "data": {
      "text/plain": [
       "array([[ 1,  4,  9],\n",
       "       [16, 25, 36],\n",
       "       [49, 64, 81]], dtype=int32)"
      ]
     },
     "execution_count": 96,
     "metadata": {},
     "output_type": "execute_result"
    }
   ],
   "source": [
    "np.square(arr)"
   ]
  },
  {
   "cell_type": "code",
   "execution_count": 97,
   "id": "81dbc8d7",
   "metadata": {},
   "outputs": [
    {
     "data": {
      "text/plain": [
       "array([[1, 2, 3],\n",
       "       [4, 5, 6],\n",
       "       [7, 8, 9]])"
      ]
     },
     "execution_count": 97,
     "metadata": {},
     "output_type": "execute_result"
    }
   ],
   "source": [
    "arr"
   ]
  },
  {
   "cell_type": "code",
   "execution_count": 98,
   "id": "d3db76a4",
   "metadata": {},
   "outputs": [
    {
     "data": {
      "text/plain": [
       "array([[1, 2, 3],\n",
       "       [4, 5, 6],\n",
       "       [7, 8, 9]])"
      ]
     },
     "execution_count": 98,
     "metadata": {},
     "output_type": "execute_result"
    }
   ],
   "source": [
    "arr"
   ]
  },
  {
   "cell_type": "code",
   "execution_count": 99,
   "id": "b1a666d2",
   "metadata": {},
   "outputs": [
    {
     "data": {
      "text/plain": [
       "array([ 1,  3,  6, 10, 15, 21, 28, 36, 45], dtype=int32)"
      ]
     },
     "execution_count": 99,
     "metadata": {},
     "output_type": "execute_result"
    }
   ],
   "source": [
    "np.cumsum(arr)"
   ]
  },
  {
   "cell_type": "code",
   "execution_count": 100,
   "id": "49af50ce",
   "metadata": {},
   "outputs": [
    {
     "data": {
      "text/plain": [
       "array([     1,      2,      6,     24,    120,    720,   5040,  40320,\n",
       "       362880], dtype=int32)"
      ]
     },
     "execution_count": 100,
     "metadata": {},
     "output_type": "execute_result"
    }
   ],
   "source": [
    "np.cumprod(arr)"
   ]
  },
  {
   "cell_type": "code",
   "execution_count": 101,
   "id": "fe3bf982",
   "metadata": {},
   "outputs": [
    {
     "data": {
      "text/plain": [
       "array([[2.71828183e+00, 7.38905610e+00, 2.00855369e+01],\n",
       "       [5.45981500e+01, 1.48413159e+02, 4.03428793e+02],\n",
       "       [1.09663316e+03, 2.98095799e+03, 8.10308393e+03]])"
      ]
     },
     "execution_count": 101,
     "metadata": {},
     "output_type": "execute_result"
    }
   ],
   "source": [
    "np.exp(arr)"
   ]
  },
  {
   "cell_type": "code",
   "execution_count": 102,
   "id": "d4ae097b",
   "metadata": {},
   "outputs": [
    {
     "data": {
      "text/plain": [
       "True"
      ]
     },
     "execution_count": 102,
     "metadata": {},
     "output_type": "execute_result"
    }
   ],
   "source": [
    "bool_arr=np.array([True,False,False])\n",
    "bool_arr.any()"
   ]
  },
  {
   "cell_type": "code",
   "execution_count": 103,
   "id": "233ce5a8",
   "metadata": {},
   "outputs": [
    {
     "data": {
      "text/plain": [
       "False"
      ]
     },
     "execution_count": 103,
     "metadata": {},
     "output_type": "execute_result"
    }
   ],
   "source": [
    "bool_arr.all()"
   ]
  },
  {
   "cell_type": "code",
   "execution_count": 104,
   "id": "f098a93e",
   "metadata": {},
   "outputs": [
    {
     "data": {
      "text/plain": [
       "9"
      ]
     },
     "execution_count": 104,
     "metadata": {},
     "output_type": "execute_result"
    }
   ],
   "source": [
    "(arr>0).sum()"
   ]
  },
  {
   "cell_type": "code",
   "execution_count": 105,
   "id": "648c9d38",
   "metadata": {},
   "outputs": [
    {
     "data": {
      "text/plain": [
       "0"
      ]
     },
     "execution_count": 105,
     "metadata": {},
     "output_type": "execute_result"
    }
   ],
   "source": [
    "(arr<0).sum()"
   ]
  },
  {
   "cell_type": "code",
   "execution_count": 106,
   "id": "4c1ab2c9",
   "metadata": {},
   "outputs": [],
   "source": [
    "arr.sort()"
   ]
  },
  {
   "cell_type": "code",
   "execution_count": 107,
   "id": "d9778f11",
   "metadata": {},
   "outputs": [
    {
     "data": {
      "text/plain": [
       "array([[1, 2, 3],\n",
       "       [4, 5, 6],\n",
       "       [7, 8, 9]])"
      ]
     },
     "execution_count": 107,
     "metadata": {},
     "output_type": "execute_result"
    }
   ],
   "source": [
    "arr"
   ]
  },
  {
   "cell_type": "code",
   "execution_count": 108,
   "id": "f2858bb3",
   "metadata": {},
   "outputs": [
    {
     "data": {
      "text/plain": [
       "array(['France', 'Germany', 'Kathmandu', 'Russia', 'USA'], dtype='<U9')"
      ]
     },
     "execution_count": 108,
     "metadata": {},
     "output_type": "execute_result"
    }
   ],
   "source": [
    "countries=np.array(['France', 'Germany', 'USA', 'Russia', 'Kathmandu'])\n",
    "np.unique(countries)"
   ]
  },
  {
   "cell_type": "code",
   "execution_count": 109,
   "id": "75e6854d",
   "metadata": {},
   "outputs": [
    {
     "data": {
      "text/plain": [
       "array([ True,  True, False])"
      ]
     },
     "execution_count": 109,
     "metadata": {},
     "output_type": "execute_result"
    }
   ],
   "source": [
    "np.in1d(['France','USA','Sweden'],countries)"
   ]
  },
  {
   "cell_type": "code",
   "execution_count": 110,
   "id": "1b898efb",
   "metadata": {},
   "outputs": [
    {
     "data": {
      "text/plain": [
       "array([[1, 2, 3, 4],\n",
       "       [4, 5, 6, 3]])"
      ]
     },
     "execution_count": 110,
     "metadata": {},
     "output_type": "execute_result"
    }
   ],
   "source": [
    "values=np.array([[1,2,3,4],[4,5,6,3]])\n",
    "values"
   ]
  },
  {
   "cell_type": "code",
   "execution_count": 111,
   "id": "06fd5fe4",
   "metadata": {},
   "outputs": [
    {
     "ename": "AttributeError",
     "evalue": "module 'numpy' has no attribute 'unique_values'",
     "output_type": "error",
     "traceback": [
      "\u001b[1;31m---------------------------------------------------------------------------\u001b[0m",
      "\u001b[1;31mAttributeError\u001b[0m                            Traceback (most recent call last)",
      "\u001b[1;32m<ipython-input-111-70229e4a81f1>\u001b[0m in \u001b[0;36m<module>\u001b[1;34m\u001b[0m\n\u001b[1;32m----> 1\u001b[1;33m \u001b[0mnp\u001b[0m\u001b[1;33m.\u001b[0m\u001b[0munique_values\u001b[0m\u001b[1;33m(\u001b[0m\u001b[1;33m)\u001b[0m\u001b[1;33m\u001b[0m\u001b[1;33m\u001b[0m\u001b[0m\n\u001b[0m",
      "\u001b[1;32mD:\\Other\\anaconda\\lib\\site-packages\\numpy\\__init__.py\u001b[0m in \u001b[0;36m__getattr__\u001b[1;34m(attr)\u001b[0m\n\u001b[0;32m    212\u001b[0m                 \u001b[1;32mreturn\u001b[0m \u001b[0mTester\u001b[0m\u001b[1;33m\u001b[0m\u001b[1;33m\u001b[0m\u001b[0m\n\u001b[0;32m    213\u001b[0m             \u001b[1;32melse\u001b[0m\u001b[1;33m:\u001b[0m\u001b[1;33m\u001b[0m\u001b[1;33m\u001b[0m\u001b[0m\n\u001b[1;32m--> 214\u001b[1;33m                 raise AttributeError(\"module {!r} has no attribute \"\n\u001b[0m\u001b[0;32m    215\u001b[0m                                      \"{!r}\".format(__name__, attr))\n\u001b[0;32m    216\u001b[0m \u001b[1;33m\u001b[0m\u001b[0m\n",
      "\u001b[1;31mAttributeError\u001b[0m: module 'numpy' has no attribute 'unique_values'"
     ]
    }
   ],
   "source": [
    "np.unique_values()"
   ]
  },
  {
   "cell_type": "code",
   "execution_count": 112,
   "id": "beefb2d1",
   "metadata": {},
   "outputs": [
    {
     "data": {
      "text/plain": [
       "array([[1, 2, 3, 4],\n",
       "       [4, 5, 6, 3]])"
      ]
     },
     "execution_count": 112,
     "metadata": {},
     "output_type": "execute_result"
    }
   ],
   "source": [
    "values"
   ]
  },
  {
   "cell_type": "code",
   "execution_count": 113,
   "id": "b5e71055",
   "metadata": {},
   "outputs": [
    {
     "data": {
      "text/plain": [
       "array([ True,  True])"
      ]
     },
     "execution_count": 113,
     "metadata": {},
     "output_type": "execute_result"
    }
   ],
   "source": [
    "np.in1d([2,3],values)"
   ]
  },
  {
   "cell_type": "code",
   "execution_count": 114,
   "id": "44bcc596",
   "metadata": {},
   "outputs": [
    {
     "data": {
      "text/plain": [
       "array([False, False, False])"
      ]
     },
     "execution_count": 114,
     "metadata": {},
     "output_type": "execute_result"
    }
   ],
   "source": [
    "np.in1d([12,34,45],values)"
   ]
  },
  {
   "cell_type": "code",
   "execution_count": 115,
   "id": "3ab9054e",
   "metadata": {},
   "outputs": [
    {
     "data": {
      "text/plain": [
       "array([ True,  True, False])"
      ]
     },
     "execution_count": 115,
     "metadata": {},
     "output_type": "execute_result"
    }
   ],
   "source": [
    "np.isin([2,3,10],values)"
   ]
  },
  {
   "cell_type": "code",
   "execution_count": 116,
   "id": "d8e94fff",
   "metadata": {},
   "outputs": [
    {
     "data": {
      "text/plain": [
       "array([[1, 2, 3, 4],\n",
       "       [4, 5, 6, 3]])"
      ]
     },
     "execution_count": 116,
     "metadata": {},
     "output_type": "execute_result"
    }
   ],
   "source": [
    "values"
   ]
  },
  {
   "cell_type": "code",
   "execution_count": 117,
   "id": "087f08c6",
   "metadata": {},
   "outputs": [
    {
     "data": {
      "text/plain": [
       "array([0, 1, 2])"
      ]
     },
     "execution_count": 117,
     "metadata": {},
     "output_type": "execute_result"
    }
   ],
   "source": [
    "arr=np.arange(3)\n",
    "arr"
   ]
  },
  {
   "cell_type": "code",
   "execution_count": 118,
   "id": "86375a64",
   "metadata": {},
   "outputs": [
    {
     "data": {
      "text/plain": [
       "array([0, 1, 2, 0, 1, 2, 0, 1, 2])"
      ]
     },
     "execution_count": 118,
     "metadata": {},
     "output_type": "execute_result"
    }
   ],
   "source": [
    "np.tile(arr,3)"
   ]
  },
  {
   "cell_type": "code",
   "execution_count": 120,
   "id": "14813698",
   "metadata": {},
   "outputs": [
    {
     "data": {
      "text/plain": [
       "array([0, 0, 0, 1, 1, 1, 2, 2, 2])"
      ]
     },
     "execution_count": 120,
     "metadata": {},
     "output_type": "execute_result"
    }
   ],
   "source": [
    "arr.repeat(3)"
   ]
  },
  {
   "cell_type": "code",
   "execution_count": 121,
   "id": "ec5cbf86",
   "metadata": {},
   "outputs": [
    {
     "data": {
      "text/plain": [
       "array([0, 0, 0, 1, 1, 1, 2, 2, 2])"
      ]
     },
     "execution_count": 121,
     "metadata": {},
     "output_type": "execute_result"
    }
   ],
   "source": [
    "np.repeat(arr,3)"
   ]
  },
  {
   "cell_type": "code",
   "execution_count": 122,
   "id": "6ba5d441",
   "metadata": {},
   "outputs": [
    {
     "data": {
      "text/plain": [
       "array([0, 1, 2])"
      ]
     },
     "execution_count": 122,
     "metadata": {},
     "output_type": "execute_result"
    }
   ],
   "source": [
    "arr\n"
   ]
  },
  {
   "cell_type": "code",
   "execution_count": 123,
   "id": "720f9ae3",
   "metadata": {},
   "outputs": [],
   "source": [
    "import numpy as np\n",
    "import matplotlib.pyplot as plt\n",
    "%matplotlib inline"
   ]
  },
  {
   "cell_type": "code",
   "execution_count": 124,
   "id": "5545fe1c",
   "metadata": {},
   "outputs": [],
   "source": [
    "points=np.arange(-5,5,0.01)\n",
    "dx,dy=np.meshgrid(points,points)"
   ]
  },
  {
   "cell_type": "code",
   "execution_count": 125,
   "id": "7729af33",
   "metadata": {},
   "outputs": [
    {
     "data": {
      "text/plain": [
       "array([[-5.  , -4.99, -4.98, ...,  4.97,  4.98,  4.99],\n",
       "       [-5.  , -4.99, -4.98, ...,  4.97,  4.98,  4.99],\n",
       "       [-5.  , -4.99, -4.98, ...,  4.97,  4.98,  4.99],\n",
       "       ...,\n",
       "       [-5.  , -4.99, -4.98, ...,  4.97,  4.98,  4.99],\n",
       "       [-5.  , -4.99, -4.98, ...,  4.97,  4.98,  4.99],\n",
       "       [-5.  , -4.99, -4.98, ...,  4.97,  4.98,  4.99]])"
      ]
     },
     "execution_count": 125,
     "metadata": {},
     "output_type": "execute_result"
    }
   ],
   "source": [
    "dx"
   ]
  },
  {
   "cell_type": "code",
   "execution_count": 126,
   "id": "1a0a536f",
   "metadata": {},
   "outputs": [
    {
     "data": {
      "text/plain": [
       "array([[ 1.91784855e+00,  1.92063718e+00,  1.92332964e+00, ...,\n",
       "        -8.07710558e-03, -5.48108704e-03, -2.78862876e-03],\n",
       "       [ 1.92063718e+00,  1.92342581e+00,  1.92611827e+00, ...,\n",
       "        -5.28847682e-03, -2.69245827e-03, -5.85087534e-14],\n",
       "       [ 1.92332964e+00,  1.92611827e+00,  1.92881072e+00, ...,\n",
       "        -2.59601854e-03, -5.63993297e-14,  2.69245827e-03],\n",
       "       ...,\n",
       "       [-8.07710558e-03, -5.28847682e-03, -2.59601854e-03, ...,\n",
       "        -1.93400276e+00, -1.93140674e+00, -1.92871428e+00],\n",
       "       [-5.48108704e-03, -2.69245827e-03, -5.63993297e-14, ...,\n",
       "        -1.93140674e+00, -1.92881072e+00, -1.92611827e+00],\n",
       "       [-2.78862876e-03, -5.85087534e-14,  2.69245827e-03, ...,\n",
       "        -1.92871428e+00, -1.92611827e+00, -1.92342581e+00]])"
      ]
     },
     "execution_count": 126,
     "metadata": {},
     "output_type": "execute_result"
    }
   ],
   "source": [
    "z=(np.sin(dx)+np.sin(dy))\n",
    "z"
   ]
  },
  {
   "cell_type": "code",
   "execution_count": 130,
   "id": "718dcafd",
   "metadata": {},
   "outputs": [
    {
     "data": {
      "text/plain": [
       "Text(0.5, 1.0, 'Plot for sin(x)+sin(y)')"
      ]
     },
     "execution_count": 130,
     "metadata": {},
     "output_type": "execute_result"
    },
    {
     "data": {
      "image/png": "[encoded data removed]",
      "text/plain": [
       "<Figure size 432x288 with 2 Axes>"
      ]
     },
     "metadata": {
      "needs_background": "light"
     },
     "output_type": "display_data"
    }
   ],
   "source": [
    "plt.imshow(z)\n",
    "plt.colorbar()\n",
    "\n",
    "plt.title(\"Plot for sin(x)+sin(y)\")"
   ]
  },
  {
   "cell_type": "code",
   "execution_count": 131,
   "id": "afbc1313",
   "metadata": {},
   "outputs": [
    {
     "data": {
      "text/plain": [
       "<matplotlib.image.AxesImage at 0x1d2c19f4bb0>"
      ]
     },
     "execution_count": 131,
     "metadata": {},
     "output_type": "execute_result"
    },
    {
     "data": {
      "image/png": "[encoded data removed]",
      "text/plain": [
       "<Figure size 432x288 with 1 Axes>"
      ]
     },
     "metadata": {
      "needs_background": "light"
     },
     "output_type": "display_data"
    }
   ],
   "source": [
    "plt.imshow(z)"
   ]
  },
  {
   "cell_type": "code",
   "execution_count": 134,
   "id": "83a5fbd3",
   "metadata": {},
   "outputs": [],
   "source": [
    "%matplotlib inline\n",
    "from scipy.stats import norm\n",
    "import matplotlib.pyplot as plt\n",
    "import numpy as np"
   ]
  },
  {
   "cell_type": "code",
   "execution_count": 141,
   "id": "490f1d8a",
   "metadata": {},
   "outputs": [
    {
     "data": {
      "image/png": "[encoded data removed]",
      "text/plain": [
       "<Figure size 432x288 with 1 Axes>"
      ]
     },
     "metadata": {
      "needs_background": "light"
     },
     "output_type": "display_data"
    }
   ],
   "source": [
    "x=np.arange(-3,3,0.001)\n",
    "plt.plot(x, norm.pdf(x))\n",
    "plt.show()"
   ]
  },
  {
   "cell_type": "code",
   "execution_count": 142,
   "id": "ce12f61b",
   "metadata": {},
   "outputs": [
    {
     "data": {
      "text/plain": [
       "[<matplotlib.lines.Line2D at 0x1d2c587ef40>]"
      ]
     },
     "execution_count": 142,
     "metadata": {},
     "output_type": "execute_result"
    },
    {
     "data": {
      "image/png": "[encoded data removed]",
      "text/plain": [
       "<Figure size 432x288 with 1 Axes>"
      ]
     },
     "metadata": {
      "needs_background": "light"
     },
     "output_type": "display_data"
    }
   ],
   "source": [
    "plt.plot(x, norm.pdf(x))\n",
    "plt.plot(x, norm.pdf(x, 1, 0.5))"
   ]
  },
  {
   "cell_type": "code",
   "execution_count": 144,
   "id": "b93da1c9",
   "metadata": {},
   "outputs": [
    {
     "data": {
      "text/plain": [
       "[<matplotlib.lines.Line2D at 0x1d2c5963a00>]"
      ]
     },
     "execution_count": 144,
     "metadata": {},
     "output_type": "execute_result"
    },
    {
     "data": {
      "image/png": "[encoded data removed]",
      "text/plain": [
       "<Figure size 432x288 with 1 Axes>"
      ]
     },
     "metadata": {
      "needs_background": "light"
     },
     "output_type": "display_data"
    }
   ],
   "source": [
    "plt.plot(x, norm.pdf(x))\n",
    "plt.plot(x, norm.pdf(x,1))"
   ]
  },
  {
   "cell_type": "code",
   "execution_count": 145,
   "id": "38bb5e62",
   "metadata": {},
   "outputs": [
    {
     "data": {
      "image/png": "[encoded data removed]",
      "text/plain": [
       "<Figure size 432x288 with 1 Axes>"
      ]
     },
     "metadata": {
      "needs_background": "light"
     },
     "output_type": "display_data"
    }
   ],
   "source": [
    "axes=plt.axes()\n",
    "axes.set_xlim([-5,5])\n",
    "axes.set_ylim([0, 1.0])\n",
    "axes.set_xticks([-5,-4,-3,-2,-1,0,1,2,3,4,5])\n",
    "axes.set_yticks([0, 0.1, 0.2, 0.3, 0.4, 0.5, 0.6, 0.7, 0.8, 0.9, 1.0 ])\n",
    "plt.plot(x, norm.pdf(x))\n",
    "plt.plot(x, norm.pdf(x, 1.0, 0.5))\n",
    "plt.show()"
   ]
  },
  {
   "cell_type": "code",
   "execution_count": 151,
   "id": "41a33f1c",
   "metadata": {},
   "outputs": [
    {
     "data": {
      "image/png": "[encoded data removed]",
      "text/plain": [
       "<Figure size 432x288 with 1 Axes>"
      ]
     },
     "metadata": {
      "needs_background": "light"
     },
     "output_type": "display_data"
    }
   ],
   "source": [
    "axes=plt.axes()\n",
    "axes.set_xlim([-5, 5])\n",
    "axes.set_ylim([0, 1.0])\n",
    "axes.set_xticks([-5,-4,-3,-2,-1,0, 1,2,3,4,5])\n",
    "axes.set_yticks([0,0.1,0.3,0.5])\n",
    "plt.plot(x, norm.pdf(x))\n",
    "plt.plot(x, norm.pdf(x, 1.0, 0.5))\n",
    "plt.grid()\n",
    "plt.show()\n"
   ]
  },
  {
   "cell_type": "code",
   "execution_count": 162,
   "id": "64602fe5",
   "metadata": {},
   "outputs": [
    {
     "data": {
      "text/plain": [
       "[<matplotlib.lines.Line2D at 0x1d2c56446d0>]"
      ]
     },
     "execution_count": 162,
     "metadata": {},
     "output_type": "execute_result"
    },
    {
     "data": {
      "image/png": "[encoded data removed]",
      "text/plain": [
       "<Figure size 432x288 with 1 Axes>"
      ]
     },
     "metadata": {
      "needs_background": "light"
     },
     "output_type": "display_data"
    }
   ],
   "source": [
    "axes = plt.axes()\n",
    "axes.set_xlim([-5, 5])\n",
    "axes.set_ylim([0, 0.5])\n",
    "axes.set_xticks([-5, -4, -3, -2, -1, 0, 1, 2, 3, 4, 5,])\n",
    "axes.set_yticks([0, 0.1, 0.2, 0.3, 0.4, 0.5])\n",
    "axes.grid()\n",
    "plt.plot(x, norm.pdf(x), 'r--')\n",
    "plt.plot(x, norm.pdf(x, 1.0, 0.5), 'g--')"
   ]
  },
  {
   "cell_type": "code",
   "execution_count": 168,
   "id": "249a47fd",
   "metadata": {},
   "outputs": [
    {
     "data": {
      "image/png": "[encoded data removed]",
      "text/plain": [
       "<Figure size 432x288 with 1 Axes>"
      ]
     },
     "metadata": {
      "needs_background": "light"
     },
     "output_type": "display_data"
    }
   ],
   "source": [
    "axes= plt.axes()\n",
    "axes.set_xlim([-5, 5])\n",
    "axes.set_ylim([0, 1.0])\n",
    "axes.set_xticks([-5, -4, -3, -2, -1, 0, 1, 2, 3, 4, 5])\n",
    "axes.set_yticks([0, 0.1, 0.2, 0.3, 0.4, 0.5, 0.6, 0.7, 0.8, 0.9, 1.0])\n",
    "axes.grid()\n",
    "plt.xlabel(\"Greebles\")\n",
    "plt.ylabel(\"Probability\")\n",
    "plt.plot(x, norm.pdf(x), 'b-')\n",
    "plt.plot(x, norm.pdf(x, 1.0, 0.5), 'r:')\n",
    "plt.legend([\"Sneetches\", \"Gacks\"], loc=4)\n",
    "plt.show()"
   ]
  },
  {
   "cell_type": "code",
   "execution_count": 170,
   "id": "16151aae",
   "metadata": {},
   "outputs": [
    {
     "data": {
      "text/plain": [
       "Text(0, 0.5, 'my overall health')"
      ]
     },
     "execution_count": 170,
     "metadata": {},
     "output_type": "execute_result"
    },
    {
     "data": {
      "image/png": "[encoded data removed]",
      "text/plain": [
       "<Figure size 432x288 with 1 Axes>"
      ]
     },
     "metadata": {},
     "output_type": "display_data"
    }
   ],
   "source": [
    "plt.xkcd()\n",
    "fig=plt.figure()\n",
    "ax=fig.add_subplot(1,1,1)\n",
    "ax.spines['right'].set_color('none')\n",
    "ax.spines['top'].set_color('none')\n",
    "plt.xticks([])\n",
    "plt.yticks([])\n",
    "ax.set_ylim([-30, 10])\n",
    "data = np.ones(100)\n",
    "data[70:]-=np.arange(30)\n",
    "plt.annotate(\n",
    "    'THE DAY I REALIZED\\nI COULD COOK BACON\\nWHENEVER I WANTED',\n",
    "    xy=(70, 1), arrowprops=dict(arrowstyle='->'), xytext=(15, -10))\n",
    "plt.plot(data)\n",
    "plt.xlabel('time')\n",
    "plt.ylabel(\"my overall health\")"
   ]
  },
  {
   "cell_type": "code",
   "execution_count": 177,
   "id": "3903dae6",
   "metadata": {},
   "outputs": [
    {
     "data": {
      "image/png": "[encoded data removed]",
      "text/plain": [
       "<Figure size 640x480 with 1 Axes>"
      ]
     },
     "metadata": {},
     "output_type": "display_data"
    }
   ],
   "source": [
    "plt.rcdefaults()\n",
    "values=[12,22, 323, 242]\n",
    "colors=['r','g','y','b']\n",
    "explode=[0, 0, 0.2, 0]\n",
    "labels=['India', 'United States', 'America', \"Russia\"]\n",
    "plt.pie(values, colors=colors, explode=explode, labels=labels)\n",
    "plt.title('Student Locations')\n",
    "plt.show()"
   ]
  },
  {
   "cell_type": "code",
   "execution_count": 180,
   "id": "6219cc87",
   "metadata": {},
   "outputs": [
    {
     "data": {
      "image/png": "[encoded data removed]",
      "text/plain": [
       "<Figure size 640x480 with 1 Axes>"
      ]
     },
     "metadata": {},
     "output_type": "display_data"
    }
   ],
   "source": [
    "values=[12, 55, 4, 32, 14]\n",
    "colors=['r', 'g', 'b', 'c', 'm']\n",
    "plt.bar(range(0,5), values, color=colors)\n",
    "plt.show()"
   ]
  },
  {
   "cell_type": "code",
   "execution_count": 183,
   "id": "425aef15",
   "metadata": {},
   "outputs": [
    {
     "data": {
      "text/plain": [
       "<matplotlib.collections.PathCollection at 0x1d2c8420730>"
      ]
     },
     "execution_count": 183,
     "metadata": {},
     "output_type": "execute_result"
    },
    {
     "data": {
      "image/png": "[encoded data removed]",
      "text/plain": [
       "<Figure size 640x480 with 1 Axes>"
      ]
     },
     "metadata": {},
     "output_type": "display_data"
    }
   ],
   "source": [
    "from pylab import randn\n",
    "x=randn(50)\n",
    "y=randn(50)\n",
    "plt.scatter(x,y)"
   ]
  },
  {
   "cell_type": "code",
   "execution_count": 190,
   "id": "7df50348",
   "metadata": {},
   "outputs": [
    {
     "data": {
      "image/png": "[encoded data removed]",
      "text/plain": [
       "<Figure size 640x480 with 1 Axes>"
      ]
     },
     "metadata": {},
     "output_type": "display_data"
    }
   ],
   "source": [
    "incomes=np.random.normal(27000, 15000, 10000)\n",
    "color='r'\n",
    "plt.hist(incomes, 5000, color=color)\n",
    "plt.show()"
   ]
  },
  {
   "cell_type": "code",
   "execution_count": 191,
   "id": "aa8ce64b",
   "metadata": {},
   "outputs": [
    {
     "data": {
      "image/png": "[encoded data removed]",
      "text/plain": [
       "<Figure size 640x480 with 1 Axes>"
      ]
     },
     "metadata": {},
     "output_type": "display_data"
    }
   ],
   "source": [
    "uniformSkewed=np.random.rand(100)*100-40\n",
    "high_outliers=np.random.rand(10)*50+100\n",
    "low_outliers=np.random.rand(10)*-50-100\n",
    "data=np.concatenate((uniformSkewed, high_outliers, low_outliers,))\n",
    "plt.boxplot(data)\n",
    "plt.show()"
   ]
  },
  {
   "cell_type": "code",
   "execution_count": null,
   "id": "c225d37e",
   "metadata": {},
   "outputs": [],
   "source": []
  }
 ],
 "metadata": {
  "kernelspec": {
   "display_name": "Python 3",
   "language": "python",
   "name": "python3"
  },
  "language_info": {
   "codemirror_mode": {
    "name": "ipython",
    "version": 3
   },
   "file_extension": ".py",
   "mimetype": "text/x-python",
   "name": "python",
   "nbconvert_exporter": "python",
   "pygments_lexer": "ipython3",
   "version": "3.8.8"
  }
 },
 "nbformat": 4,
 "nbformat_minor": 5
}
