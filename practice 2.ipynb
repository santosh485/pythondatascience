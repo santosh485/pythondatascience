{
 "cells": [
  {
   "cell_type": "code",
   "execution_count": 1,
   "id": "2a8a390d",
   "metadata": {},
   "outputs": [
    {
     "name": "stdout",
     "output_type": "stream",
     "text": [
      "['data', 'data']\n",
      "Yes, there is at least one match!\n"
     ]
    }
   ],
   "source": [
    "import re\n",
    "# try with a different string\n",
    "str = \"Towardsdatascience.com is the largest data science community\"\n",
    "\n",
    "#Check if the string contains either \"data\" or \"India\":\n",
    "\n",
    "x = re.findall(\"(data|nepal|USA)\", str)\n",
    "\n",
    "print(x)\n",
    "\n",
    "if (x):\n",
    "  print(\"Yes, there is at least one match!\")\n",
    "else:\n",
    "  print(\"No match\")"
   ]
  },
  {
   "cell_type": "code",
   "execution_count": 2,
   "id": "239dabc5",
   "metadata": {},
   "outputs": [
    {
     "name": "stdout",
     "output_type": "stream",
     "text": [
      "['d', 'd', 'h', 'd', 'y']\n",
      "yes, there is at least one match!\n"
     ]
    }
   ],
   "source": [
    "str = \"Towardsdatascience.com is the largest data science community\"\n",
    "x = re.findall(\"[ydh]\", str)\n",
    "print(x)\n",
    "if (x):\n",
    "    print(\"yes, there is at least one match!\")\n",
    "else:\n",
    "    prin(\"no match\")"
   ]
  },
  {
   "cell_type": "code",
   "execution_count": 3,
   "id": "a733e65b",
   "metadata": {},
   "outputs": [
    {
     "name": "stdout",
     "output_type": "stream",
     "text": [
      "['a', 'a', 'a', 'c', 'c', 'c', 'a', 'a', 'a', 'c', 'c', 'c', '2', '0', '2', '0']\n",
      "yes, there is at least one match!\n"
     ]
    }
   ],
   "source": [
    "str = \"Towardsdatascience.com is the largest data science community 2020\"\n",
    "\n",
    "x = re.findall(\"[a-c0-9]\", str)\n",
    "print(x)\n",
    "\n",
    "if (x):\n",
    "    print(\"yes, there is at least one match!\")\n",
    "else:\n",
    "    print(\"No match\")"
   ]
  },
  {
   "cell_type": "code",
   "execution_count": 4,
   "id": "631235e6",
   "metadata": {},
   "outputs": [
    {
     "name": "stdout",
     "output_type": "stream",
     "text": [
      "['230']\n",
      "yes, there is at least one match!\n"
     ]
    }
   ],
   "source": [
    "str = \"Mars' average distance from the Sun is roughly 230 million km and its orbital period is 687 (Earth) days.\"\n",
    "x = re.findall(r\"\\b[0-4]\\d+\", str)\n",
    "print(x)\n",
    "if (x):\n",
    "    print(\"yes, there is at least one match!\")\n",
    "else:\n",
    "    print(\"No match\")"
   ]
  },
  {
   "cell_type": "code",
   "execution_count": 5,
   "id": "5f043c44",
   "metadata": {},
   "outputs": [
    {
     "name": "stdout",
     "output_type": "stream",
     "text": [
      "['T', 'o', 'w', 'a', 'r', 's', 'a', 't', 'a', 's', 'c', 'i', 'e', 'n', 'c', 'e', '.', 'c', 'o', 'm', ' ', 'i', 's', ' ', 't', 'e', ' ', 'l', 'a', 'r', 'g', 'e', 's', 't', ' ', 'a', 't', 'a', ' ', 's', 'c', 'i', 'e', 'n', 'c', 'e', ' ', 'c', 'o', 'm', 'm', 'u', 'n', 'i', 't']\n",
      "yes, there is at least one match!\n"
     ]
    }
   ],
   "source": [
    "str = \"Towardsdatascience.com is the largest data science community\"\n",
    "\n",
    "x = re.findall(\"[^ydh]\", str)\n",
    "print(x)\n",
    "if (x):\n",
    "    print(\"yes, there is at least one match!\")\n",
    "else:\n",
    "    print(\"no match\")"
   ]
  },
  {
   "cell_type": "code",
   "execution_count": 6,
   "id": "58070252",
   "metadata": {},
   "outputs": [
    {
     "name": "stdout",
     "output_type": "stream",
     "text": [
      "[' Data', ' Science', ' community', ':anishchapagain', '.com']\n"
     ]
    }
   ],
   "source": [
    "str = \"Largest Data Science community:anishchapagain.com!!\"\n",
    "\n",
    "x = re.findall(\"[^a-zA-Z0-9]\\w+\", str)\n",
    "print(x)"
   ]
  },
  {
   "cell_type": "code",
   "execution_count": 7,
   "id": "717f113f",
   "metadata": {},
   "outputs": [
    {
     "name": "stdout",
     "output_type": "stream",
     "text": [
      "['user1.1997@gmail.com', 'user2_user@yahoo.com', 'mail@yahoo.com']\n"
     ]
    }
   ],
   "source": [
    "str = 'Send a mail to user1.1997@gmail.com, user2_user@yahoo.com and mail@yahoo.com about the meeting @2PM'\n",
    "\n",
    "x = re.findall('[a-zA-Z0-9._-]+@\\w+\\.com', str)\n",
    "print(x)"
   ]
  },
  {
   "cell_type": "code",
   "execution_count": 8,
   "id": "102acf5b",
   "metadata": {},
   "outputs": [
    {
     "name": "stdout",
     "output_type": "stream",
     "text": [
      "['2012-07-27', '2012/08/12']\n"
     ]
    }
   ],
   "source": [
    "text = \"London Olympic 2012 was held from 2012-07-27 to 2012/08/12.\"\n",
    "match = re.findall('\\d{4}.\\d{2}.\\d{2}', text)\n",
    "print(match)\n"
   ]
  },
  {
   "cell_type": "code",
   "execution_count": 9,
   "id": "b2006691",
   "metadata": {},
   "outputs": [
    {
     "name": "stdout",
     "output_type": "stream",
     "text": [
      "['2012-07-27', '2012/08/12']\n"
     ]
    }
   ],
   "source": [
    "text = \"London Olympic 2012 was held from 2012-07-27 to 2012/08/12.\"\n",
    "\n",
    "# '\\d{4}' repeats '\\d' 4 times\n",
    "match = re.findall('\\d{4}.\\d{2}.\\d{2}', text)\n",
    "print(match)"
   ]
  },
  {
   "cell_type": "code",
   "execution_count": 10,
   "id": "05556ae9",
   "metadata": {},
   "outputs": [
    {
     "name": "stdout",
     "output_type": "stream",
     "text": [
      "['27 Jul 2012', '12-Aug-2012']\n"
     ]
    }
   ],
   "source": [
    "text=\"London Olympic 2012 was held from 27 Jul 2012 to 12-Aug-2012.\"\n",
    "match = re.findall('\\d{2}.\\w{3}.\\d{4}', text)\n",
    "print(match)"
   ]
  },
  {
   "cell_type": "code",
   "execution_count": 11,
   "id": "a00ceda6",
   "metadata": {},
   "outputs": [
    {
     "name": "stdout",
     "output_type": "stream",
     "text": [
      "['27 July 2012', '12 August 2012']\n"
     ]
    }
   ],
   "source": [
    "text=\"London Olympic 2012 was held from 27 July 2012 to 12 August 2012.\"\n",
    "match = re.findall('\\d{2}.\\w{3,10}.\\d{4}', text)\n",
    "print(match)"
   ]
  },
  {
   "cell_type": "code",
   "execution_count": 12,
   "id": "5f581dc5",
   "metadata": {},
   "outputs": [],
   "source": [
    "import pandas as pd\n"
   ]
  },
  {
   "cell_type": "code",
   "execution_count": 13,
   "id": "2514371d",
   "metadata": {},
   "outputs": [
    {
     "name": "stdout",
     "output_type": "stream",
     "text": [
      "<class 'pandas.core.frame.DataFrame'>\n"
     ]
    }
   ],
   "source": [
    "data=pd.read_csv(\"earthquake1.csv\")\n",
    "print(type(data))"
   ]
  },
  {
   "cell_type": "code",
   "execution_count": 14,
   "id": "e7eeef63",
   "metadata": {},
   "outputs": [
    {
     "data": {
      "text/html": [
       "<div>\n",
       "<style scoped>\n",
       "    .dataframe tbody tr th:only-of-type {\n",
       "        vertical-align: middle;\n",
       "    }\n",
       "\n",
       "    .dataframe tbody tr th {\n",
       "        vertical-align: top;\n",
       "    }\n",
       "\n",
       "    .dataframe thead th {\n",
       "        text-align: right;\n",
       "    }\n",
       "</style>\n",
       "<table border=\"1\" class=\"dataframe\">\n",
       "  <thead>\n",
       "    <tr style=\"text-align: right;\">\n",
       "      <th></th>\n",
       "      <th>Longitude</th>\n",
       "      <th>Latitude</th>\n",
       "      <th>Epicentre</th>\n",
       "      <th>Time</th>\n",
       "      <th>Magnitude</th>\n",
       "      <th>Date</th>\n",
       "    </tr>\n",
       "  </thead>\n",
       "  <tbody>\n",
       "    <tr>\n",
       "      <th>0</th>\n",
       "      <td>85.39</td>\n",
       "      <td>27.58</td>\n",
       "      <td>Lalitpur</td>\n",
       "      <td>14:45</td>\n",
       "      <td>4.1</td>\n",
       "      <td>2015/06/26</td>\n",
       "    </tr>\n",
       "    <tr>\n",
       "      <th>1</th>\n",
       "      <td>85.49</td>\n",
       "      <td>27.94</td>\n",
       "      <td>Sindhupalchowk</td>\n",
       "      <td>23:51</td>\n",
       "      <td>4.2</td>\n",
       "      <td>2015/06/25</td>\n",
       "    </tr>\n",
       "    <tr>\n",
       "      <th>2</th>\n",
       "      <td>86.21</td>\n",
       "      <td>27.66</td>\n",
       "      <td>Dolakha</td>\n",
       "      <td>23:49</td>\n",
       "      <td>4.1</td>\n",
       "      <td>2015/06/25</td>\n",
       "    </tr>\n",
       "    <tr>\n",
       "      <th>3</th>\n",
       "      <td>85.17</td>\n",
       "      <td>27.78</td>\n",
       "      <td>Nuwakot</td>\n",
       "      <td>21:07</td>\n",
       "      <td>4.3</td>\n",
       "      <td>2015/06/25</td>\n",
       "    </tr>\n",
       "    <tr>\n",
       "      <th>4</th>\n",
       "      <td>85.75</td>\n",
       "      <td>27.85</td>\n",
       "      <td>Sindhupalchowk</td>\n",
       "      <td>14:59</td>\n",
       "      <td>4.0</td>\n",
       "      <td>2015/06/24</td>\n",
       "    </tr>\n",
       "  </tbody>\n",
       "</table>\n",
       "</div>"
      ],
      "text/plain": [
       "   Longitude  Latitude       Epicentre   Time  Magnitude        Date\n",
       "0      85.39     27.58        Lalitpur  14:45        4.1  2015/06/26\n",
       "1      85.49     27.94  Sindhupalchowk  23:51        4.2  2015/06/25\n",
       "2      86.21     27.66         Dolakha  23:49        4.1  2015/06/25\n",
       "3      85.17     27.78         Nuwakot  21:07        4.3  2015/06/25\n",
       "4      85.75     27.85  Sindhupalchowk  14:59        4.0  2015/06/24"
      ]
     },
     "execution_count": 14,
     "metadata": {},
     "output_type": "execute_result"
    }
   ],
   "source": [
    "data.head()"
   ]
  },
  {
   "cell_type": "code",
   "execution_count": 15,
   "id": "a3e2cc11",
   "metadata": {},
   "outputs": [
    {
     "data": {
      "text/plain": [
       "0          Lalitpur\n",
       "1    Sindhupalchowk\n",
       "2           Dolakha\n",
       "3           Nuwakot\n",
       "4    Sindhupalchowk\n",
       "5           Dolakha\n",
       "6    Sindhupalchowk\n",
       "7            Gorkha\n",
       "8             Rukum\n",
       "9            Gorkha\n",
       "Name: Epicentre, dtype: object"
      ]
     },
     "execution_count": 15,
     "metadata": {},
     "output_type": "execute_result"
    }
   ],
   "source": [
    "data['Epicentre'].head(10)"
   ]
  },
  {
   "cell_type": "code",
   "execution_count": 16,
   "id": "6d11ba6b",
   "metadata": {},
   "outputs": [
    {
     "data": {
      "text/html": [
       "<div>\n",
       "<style scoped>\n",
       "    .dataframe tbody tr th:only-of-type {\n",
       "        vertical-align: middle;\n",
       "    }\n",
       "\n",
       "    .dataframe tbody tr th {\n",
       "        vertical-align: top;\n",
       "    }\n",
       "\n",
       "    .dataframe thead th {\n",
       "        text-align: right;\n",
       "    }\n",
       "</style>\n",
       "<table border=\"1\" class=\"dataframe\">\n",
       "  <thead>\n",
       "    <tr style=\"text-align: right;\">\n",
       "      <th></th>\n",
       "      <th>Longitude</th>\n",
       "      <th>Latitude</th>\n",
       "      <th>Magnitude</th>\n",
       "    </tr>\n",
       "  </thead>\n",
       "  <tbody>\n",
       "    <tr>\n",
       "      <th>count</th>\n",
       "      <td>16.000000</td>\n",
       "      <td>16.000000</td>\n",
       "      <td>16.000000</td>\n",
       "    </tr>\n",
       "    <tr>\n",
       "      <th>mean</th>\n",
       "      <td>85.376250</td>\n",
       "      <td>27.945000</td>\n",
       "      <td>4.356250</td>\n",
       "    </tr>\n",
       "    <tr>\n",
       "      <th>std</th>\n",
       "      <td>0.806481</td>\n",
       "      <td>0.285026</td>\n",
       "      <td>0.456024</td>\n",
       "    </tr>\n",
       "    <tr>\n",
       "      <th>min</th>\n",
       "      <td>82.760000</td>\n",
       "      <td>27.580000</td>\n",
       "      <td>4.000000</td>\n",
       "    </tr>\n",
       "    <tr>\n",
       "      <th>25%</th>\n",
       "      <td>85.155000</td>\n",
       "      <td>27.755000</td>\n",
       "      <td>4.075000</td>\n",
       "    </tr>\n",
       "    <tr>\n",
       "      <th>50%</th>\n",
       "      <td>85.535000</td>\n",
       "      <td>27.880000</td>\n",
       "      <td>4.200000</td>\n",
       "    </tr>\n",
       "    <tr>\n",
       "      <th>75%</th>\n",
       "      <td>85.797500</td>\n",
       "      <td>28.147500</td>\n",
       "      <td>4.325000</td>\n",
       "    </tr>\n",
       "    <tr>\n",
       "      <th>max</th>\n",
       "      <td>86.210000</td>\n",
       "      <td>28.650000</td>\n",
       "      <td>5.400000</td>\n",
       "    </tr>\n",
       "  </tbody>\n",
       "</table>\n",
       "</div>"
      ],
      "text/plain": [
       "       Longitude   Latitude  Magnitude\n",
       "count  16.000000  16.000000  16.000000\n",
       "mean   85.376250  27.945000   4.356250\n",
       "std     0.806481   0.285026   0.456024\n",
       "min    82.760000  27.580000   4.000000\n",
       "25%    85.155000  27.755000   4.075000\n",
       "50%    85.535000  27.880000   4.200000\n",
       "75%    85.797500  28.147500   4.325000\n",
       "max    86.210000  28.650000   5.400000"
      ]
     },
     "execution_count": 16,
     "metadata": {},
     "output_type": "execute_result"
    }
   ],
   "source": [
    "data.describe()"
   ]
  },
  {
   "cell_type": "code",
   "execution_count": 17,
   "id": "7fbb6abf",
   "metadata": {},
   "outputs": [],
   "source": [
    "import pandas as pd #alias\n",
    "from pandas_profiling import ProfileReport\n",
    "import numpy as np\n",
    "import matplotlib.pyplot as plt"
   ]
  },
  {
   "cell_type": "code",
   "execution_count": 18,
   "id": "b9d77670",
   "metadata": {},
   "outputs": [
    {
     "data": {
      "text/html": [
       "<div>\n",
       "<style scoped>\n",
       "    .dataframe tbody tr th:only-of-type {\n",
       "        vertical-align: middle;\n",
       "    }\n",
       "\n",
       "    .dataframe tbody tr th {\n",
       "        vertical-align: top;\n",
       "    }\n",
       "\n",
       "    .dataframe thead th {\n",
       "        text-align: right;\n",
       "    }\n",
       "</style>\n",
       "<table border=\"1\" class=\"dataframe\">\n",
       "  <thead>\n",
       "    <tr style=\"text-align: right;\">\n",
       "      <th></th>\n",
       "      <th>Longitude</th>\n",
       "      <th>Latitude</th>\n",
       "      <th>Epicentre</th>\n",
       "      <th>Time</th>\n",
       "      <th>Magnitude</th>\n",
       "      <th>Date</th>\n",
       "    </tr>\n",
       "  </thead>\n",
       "  <tbody>\n",
       "    <tr>\n",
       "      <th>0</th>\n",
       "      <td>85.39</td>\n",
       "      <td>27.58</td>\n",
       "      <td>Lalitpur</td>\n",
       "      <td>14:45</td>\n",
       "      <td>4.1</td>\n",
       "      <td>2015/06/26</td>\n",
       "    </tr>\n",
       "    <tr>\n",
       "      <th>1</th>\n",
       "      <td>85.49</td>\n",
       "      <td>27.94</td>\n",
       "      <td>Sindhupalchowk</td>\n",
       "      <td>23:51</td>\n",
       "      <td>4.2</td>\n",
       "      <td>2015/06/25</td>\n",
       "    </tr>\n",
       "    <tr>\n",
       "      <th>2</th>\n",
       "      <td>86.21</td>\n",
       "      <td>27.66</td>\n",
       "      <td>Dolakha</td>\n",
       "      <td>23:49</td>\n",
       "      <td>4.1</td>\n",
       "      <td>2015/06/25</td>\n",
       "    </tr>\n",
       "    <tr>\n",
       "      <th>3</th>\n",
       "      <td>85.17</td>\n",
       "      <td>27.78</td>\n",
       "      <td>Nuwakot</td>\n",
       "      <td>21:07</td>\n",
       "      <td>4.3</td>\n",
       "      <td>2015/06/25</td>\n",
       "    </tr>\n",
       "    <tr>\n",
       "      <th>4</th>\n",
       "      <td>85.75</td>\n",
       "      <td>27.85</td>\n",
       "      <td>Sindhupalchowk</td>\n",
       "      <td>14:59</td>\n",
       "      <td>4.0</td>\n",
       "      <td>2015/06/24</td>\n",
       "    </tr>\n",
       "    <tr>\n",
       "      <th>5</th>\n",
       "      <td>86.17</td>\n",
       "      <td>27.67</td>\n",
       "      <td>Dolakha</td>\n",
       "      <td>13:19</td>\n",
       "      <td>4.0</td>\n",
       "      <td>2015/06/22</td>\n",
       "    </tr>\n",
       "    <tr>\n",
       "      <th>6</th>\n",
       "      <td>86.00</td>\n",
       "      <td>27.80</td>\n",
       "      <td>Sindhupalchowk</td>\n",
       "      <td>19:26</td>\n",
       "      <td>4.3</td>\n",
       "      <td>2015/06/21</td>\n",
       "    </tr>\n",
       "    <tr>\n",
       "      <th>7</th>\n",
       "      <td>84.94</td>\n",
       "      <td>28.17</td>\n",
       "      <td>Gorkha</td>\n",
       "      <td>2:40</td>\n",
       "      <td>4.2</td>\n",
       "      <td>2015/06/20</td>\n",
       "    </tr>\n",
       "    <tr>\n",
       "      <th>8</th>\n",
       "      <td>82.76</td>\n",
       "      <td>28.65</td>\n",
       "      <td>Rukum</td>\n",
       "      <td>12:23</td>\n",
       "      <td>5.4</td>\n",
       "      <td>2015/06/20</td>\n",
       "    </tr>\n",
       "    <tr>\n",
       "      <th>9</th>\n",
       "      <td>84.92</td>\n",
       "      <td>28.26</td>\n",
       "      <td>Gorkha</td>\n",
       "      <td>13:50</td>\n",
       "      <td>4.0</td>\n",
       "      <td>2015/06/19</td>\n",
       "    </tr>\n",
       "    <tr>\n",
       "      <th>10</th>\n",
       "      <td>85.11</td>\n",
       "      <td>28.14</td>\n",
       "      <td>Dhading</td>\n",
       "      <td>8:24</td>\n",
       "      <td>4.1</td>\n",
       "      <td>2015/06/18</td>\n",
       "    </tr>\n",
       "    <tr>\n",
       "      <th>11</th>\n",
       "      <td>85.94</td>\n",
       "      <td>28.27</td>\n",
       "      <td>Tibet</td>\n",
       "      <td>08:00</td>\n",
       "      <td>5.1</td>\n",
       "      <td>2015/06/17</td>\n",
       "    </tr>\n",
       "    <tr>\n",
       "      <th>12</th>\n",
       "      <td>85.58</td>\n",
       "      <td>27.90</td>\n",
       "      <td>Sindhupalchowk</td>\n",
       "      <td>06:26</td>\n",
       "      <td>4.0</td>\n",
       "      <td>2015/06/17</td>\n",
       "    </tr>\n",
       "    <tr>\n",
       "      <th>13</th>\n",
       "      <td>85.59</td>\n",
       "      <td>27.91</td>\n",
       "      <td>Sindhupalchowk</td>\n",
       "      <td>06:14</td>\n",
       "      <td>5.2</td>\n",
       "      <td>2015/06/17</td>\n",
       "    </tr>\n",
       "    <tr>\n",
       "      <th>14</th>\n",
       "      <td>85.28</td>\n",
       "      <td>27.68</td>\n",
       "      <td>Kathmandu</td>\n",
       "      <td>05:58</td>\n",
       "      <td>4.4</td>\n",
       "      <td>2015/06/17</td>\n",
       "    </tr>\n",
       "    <tr>\n",
       "      <th>15</th>\n",
       "      <td>85.72</td>\n",
       "      <td>27.86</td>\n",
       "      <td>Sindhupalchowk</td>\n",
       "      <td>07:41</td>\n",
       "      <td>4.3</td>\n",
       "      <td>2015/12/31</td>\n",
       "    </tr>\n",
       "  </tbody>\n",
       "</table>\n",
       "</div>"
      ],
      "text/plain": [
       "    Longitude  Latitude       Epicentre   Time  Magnitude        Date\n",
       "0       85.39     27.58        Lalitpur  14:45        4.1  2015/06/26\n",
       "1       85.49     27.94  Sindhupalchowk  23:51        4.2  2015/06/25\n",
       "2       86.21     27.66         Dolakha  23:49        4.1  2015/06/25\n",
       "3       85.17     27.78         Nuwakot  21:07        4.3  2015/06/25\n",
       "4       85.75     27.85  Sindhupalchowk  14:59        4.0  2015/06/24\n",
       "5       86.17     27.67         Dolakha  13:19        4.0  2015/06/22\n",
       "6       86.00     27.80  Sindhupalchowk  19:26        4.3  2015/06/21\n",
       "7       84.94     28.17          Gorkha   2:40        4.2  2015/06/20\n",
       "8       82.76     28.65           Rukum  12:23        5.4  2015/06/20\n",
       "9       84.92     28.26          Gorkha  13:50        4.0  2015/06/19\n",
       "10      85.11     28.14         Dhading   8:24        4.1  2015/06/18\n",
       "11      85.94     28.27           Tibet  08:00        5.1  2015/06/17\n",
       "12      85.58     27.90  Sindhupalchowk  06:26        4.0  2015/06/17\n",
       "13      85.59     27.91  Sindhupalchowk  06:14        5.2  2015/06/17\n",
       "14      85.28     27.68       Kathmandu  05:58        4.4  2015/06/17\n",
       "15      85.72     27.86  Sindhupalchowk  07:41        4.3  2015/12/31"
      ]
     },
     "execution_count": 18,
     "metadata": {},
     "output_type": "execute_result"
    }
   ],
   "source": [
    "data = pd.read_csv('earthquake1.csv')\n",
    "data"
   ]
  },
  {
   "cell_type": "code",
   "execution_count": 19,
   "id": "af8fa4e0",
   "metadata": {},
   "outputs": [
    {
     "data": {
      "application/vnd.jupyter.widget-view+json": {
       "model_id": "9ed0dfc68a2d4591a99ead26e50dc374",
       "version_major": 2,
       "version_minor": 0
      },
      "text/plain": [
       "Summarize dataset:   0%|          | 0/19 [00:00<?, ?it/s]"
      ]
     },
     "metadata": {},
     "output_type": "display_data"
    },
    {
     "data": {
      "application/vnd.jupyter.widget-view+json": {
       "model_id": "8a64e8fe9d704aaebaa3e754ba5f43d3",
       "version_major": 2,
       "version_minor": 0
      },
      "text/plain": [
       "Generate report structure:   0%|          | 0/1 [00:00<?, ?it/s]"
      ]
     },
     "metadata": {},
     "output_type": "display_data"
    },
    {
     "data": {
      "application/vnd.jupyter.widget-view+json": {
       "model_id": "bd06cf207a734dc3ba7e201f1bd214ec",
       "version_major": 2,
       "version_minor": 0
      },
      "text/plain": [
       "Render HTML:   0%|          | 0/1 [00:00<?, ?it/s]"
      ]
     },
     "metadata": {},
     "output_type": "display_data"
    },
    {
     "data": {
      "application/vnd.jupyter.widget-view+json": {
       "model_id": "70207fbedc554851b5c1e587e6762514",
       "version_major": 2,
       "version_minor": 0
      },
      "text/plain": [
       "Export report to file:   0%|          | 0/1 [00:00<?, ?it/s]"
      ]
     },
     "metadata": {},
     "output_type": "display_data"
    }
   ],
   "source": [
    "profile = ProfileReport(data)\n",
    "profile.to_file(output_file='earthquake2.html')"
   ]
  },
  {
   "cell_type": "code",
   "execution_count": 20,
   "id": "575b937e",
   "metadata": {},
   "outputs": [
    {
     "data": {
      "text/plain": [
       "Longitude    float64\n",
       "Latitude     float64\n",
       "Epicentre     object\n",
       "Time          object\n",
       "Magnitude    float64\n",
       "Date          object\n",
       "dtype: object"
      ]
     },
     "execution_count": 20,
     "metadata": {},
     "output_type": "execute_result"
    }
   ],
   "source": [
    "data.dtypes"
   ]
  },
  {
   "cell_type": "code",
   "execution_count": 21,
   "id": "f93556c6",
   "metadata": {},
   "outputs": [
    {
     "data": {
      "text/plain": [
       "pandas.core.frame.DataFrame"
      ]
     },
     "execution_count": 21,
     "metadata": {},
     "output_type": "execute_result"
    }
   ],
   "source": [
    "type(data)"
   ]
  },
  {
   "cell_type": "code",
   "execution_count": 22,
   "id": "a283aef3",
   "metadata": {},
   "outputs": [
    {
     "data": {
      "text/html": [
       "<div>\n",
       "<style scoped>\n",
       "    .dataframe tbody tr th:only-of-type {\n",
       "        vertical-align: middle;\n",
       "    }\n",
       "\n",
       "    .dataframe tbody tr th {\n",
       "        vertical-align: top;\n",
       "    }\n",
       "\n",
       "    .dataframe thead th {\n",
       "        text-align: right;\n",
       "    }\n",
       "</style>\n",
       "<table border=\"1\" class=\"dataframe\">\n",
       "  <thead>\n",
       "    <tr style=\"text-align: right;\">\n",
       "      <th></th>\n",
       "      <th>Longitude</th>\n",
       "      <th>Latitude</th>\n",
       "      <th>Epicentre</th>\n",
       "      <th>Time</th>\n",
       "      <th>Magnitude</th>\n",
       "      <th>Date</th>\n",
       "    </tr>\n",
       "  </thead>\n",
       "  <tbody>\n",
       "    <tr>\n",
       "      <th>0</th>\n",
       "      <td>85.39</td>\n",
       "      <td>27.58</td>\n",
       "      <td>Lalitpur</td>\n",
       "      <td>14:45</td>\n",
       "      <td>4.1</td>\n",
       "      <td>2015/06/26</td>\n",
       "    </tr>\n",
       "    <tr>\n",
       "      <th>1</th>\n",
       "      <td>85.49</td>\n",
       "      <td>27.94</td>\n",
       "      <td>Sindhupalchowk</td>\n",
       "      <td>23:51</td>\n",
       "      <td>4.2</td>\n",
       "      <td>2015/06/25</td>\n",
       "    </tr>\n",
       "    <tr>\n",
       "      <th>2</th>\n",
       "      <td>86.21</td>\n",
       "      <td>27.66</td>\n",
       "      <td>Dolakha</td>\n",
       "      <td>23:49</td>\n",
       "      <td>4.1</td>\n",
       "      <td>2015/06/25</td>\n",
       "    </tr>\n",
       "    <tr>\n",
       "      <th>3</th>\n",
       "      <td>85.17</td>\n",
       "      <td>27.78</td>\n",
       "      <td>Nuwakot</td>\n",
       "      <td>21:07</td>\n",
       "      <td>4.3</td>\n",
       "      <td>2015/06/25</td>\n",
       "    </tr>\n",
       "    <tr>\n",
       "      <th>4</th>\n",
       "      <td>85.75</td>\n",
       "      <td>27.85</td>\n",
       "      <td>Sindhupalchowk</td>\n",
       "      <td>14:59</td>\n",
       "      <td>4.0</td>\n",
       "      <td>2015/06/24</td>\n",
       "    </tr>\n",
       "  </tbody>\n",
       "</table>\n",
       "</div>"
      ],
      "text/plain": [
       "   Longitude  Latitude       Epicentre   Time  Magnitude        Date\n",
       "0      85.39     27.58        Lalitpur  14:45        4.1  2015/06/26\n",
       "1      85.49     27.94  Sindhupalchowk  23:51        4.2  2015/06/25\n",
       "2      86.21     27.66         Dolakha  23:49        4.1  2015/06/25\n",
       "3      85.17     27.78         Nuwakot  21:07        4.3  2015/06/25\n",
       "4      85.75     27.85  Sindhupalchowk  14:59        4.0  2015/06/24"
      ]
     },
     "execution_count": 22,
     "metadata": {},
     "output_type": "execute_result"
    }
   ],
   "source": [
    "data.head()"
   ]
  },
  {
   "cell_type": "code",
   "execution_count": 23,
   "id": "067e4f2b",
   "metadata": {},
   "outputs": [
    {
     "data": {
      "text/html": [
       "<div>\n",
       "<style scoped>\n",
       "    .dataframe tbody tr th:only-of-type {\n",
       "        vertical-align: middle;\n",
       "    }\n",
       "\n",
       "    .dataframe tbody tr th {\n",
       "        vertical-align: top;\n",
       "    }\n",
       "\n",
       "    .dataframe thead th {\n",
       "        text-align: right;\n",
       "    }\n",
       "</style>\n",
       "<table border=\"1\" class=\"dataframe\">\n",
       "  <thead>\n",
       "    <tr style=\"text-align: right;\">\n",
       "      <th></th>\n",
       "      <th>Longitude</th>\n",
       "      <th>Latitude</th>\n",
       "      <th>Epicentre</th>\n",
       "      <th>Time</th>\n",
       "      <th>Magnitude</th>\n",
       "      <th>Date</th>\n",
       "    </tr>\n",
       "  </thead>\n",
       "  <tbody>\n",
       "    <tr>\n",
       "      <th>11</th>\n",
       "      <td>85.94</td>\n",
       "      <td>28.27</td>\n",
       "      <td>Tibet</td>\n",
       "      <td>08:00</td>\n",
       "      <td>5.1</td>\n",
       "      <td>2015/06/17</td>\n",
       "    </tr>\n",
       "    <tr>\n",
       "      <th>12</th>\n",
       "      <td>85.58</td>\n",
       "      <td>27.90</td>\n",
       "      <td>Sindhupalchowk</td>\n",
       "      <td>06:26</td>\n",
       "      <td>4.0</td>\n",
       "      <td>2015/06/17</td>\n",
       "    </tr>\n",
       "    <tr>\n",
       "      <th>13</th>\n",
       "      <td>85.59</td>\n",
       "      <td>27.91</td>\n",
       "      <td>Sindhupalchowk</td>\n",
       "      <td>06:14</td>\n",
       "      <td>5.2</td>\n",
       "      <td>2015/06/17</td>\n",
       "    </tr>\n",
       "    <tr>\n",
       "      <th>14</th>\n",
       "      <td>85.28</td>\n",
       "      <td>27.68</td>\n",
       "      <td>Kathmandu</td>\n",
       "      <td>05:58</td>\n",
       "      <td>4.4</td>\n",
       "      <td>2015/06/17</td>\n",
       "    </tr>\n",
       "    <tr>\n",
       "      <th>15</th>\n",
       "      <td>85.72</td>\n",
       "      <td>27.86</td>\n",
       "      <td>Sindhupalchowk</td>\n",
       "      <td>07:41</td>\n",
       "      <td>4.3</td>\n",
       "      <td>2015/12/31</td>\n",
       "    </tr>\n",
       "  </tbody>\n",
       "</table>\n",
       "</div>"
      ],
      "text/plain": [
       "    Longitude  Latitude       Epicentre   Time  Magnitude        Date\n",
       "11      85.94     28.27           Tibet  08:00        5.1  2015/06/17\n",
       "12      85.58     27.90  Sindhupalchowk  06:26        4.0  2015/06/17\n",
       "13      85.59     27.91  Sindhupalchowk  06:14        5.2  2015/06/17\n",
       "14      85.28     27.68       Kathmandu  05:58        4.4  2015/06/17\n",
       "15      85.72     27.86  Sindhupalchowk  07:41        4.3  2015/12/31"
      ]
     },
     "execution_count": 23,
     "metadata": {},
     "output_type": "execute_result"
    }
   ],
   "source": [
    "data.tail()"
   ]
  },
  {
   "cell_type": "code",
   "execution_count": 24,
   "id": "d42f810b",
   "metadata": {},
   "outputs": [
    {
     "data": {
      "text/html": [
       "<div>\n",
       "<style scoped>\n",
       "    .dataframe tbody tr th:only-of-type {\n",
       "        vertical-align: middle;\n",
       "    }\n",
       "\n",
       "    .dataframe tbody tr th {\n",
       "        vertical-align: top;\n",
       "    }\n",
       "\n",
       "    .dataframe thead th {\n",
       "        text-align: right;\n",
       "    }\n",
       "</style>\n",
       "<table border=\"1\" class=\"dataframe\">\n",
       "  <thead>\n",
       "    <tr style=\"text-align: right;\">\n",
       "      <th></th>\n",
       "      <th>Longitude</th>\n",
       "      <th>Latitude</th>\n",
       "      <th>Magnitude</th>\n",
       "    </tr>\n",
       "  </thead>\n",
       "  <tbody>\n",
       "    <tr>\n",
       "      <th>count</th>\n",
       "      <td>16.000000</td>\n",
       "      <td>16.000000</td>\n",
       "      <td>16.000000</td>\n",
       "    </tr>\n",
       "    <tr>\n",
       "      <th>mean</th>\n",
       "      <td>85.376250</td>\n",
       "      <td>27.945000</td>\n",
       "      <td>4.356250</td>\n",
       "    </tr>\n",
       "    <tr>\n",
       "      <th>std</th>\n",
       "      <td>0.806481</td>\n",
       "      <td>0.285026</td>\n",
       "      <td>0.456024</td>\n",
       "    </tr>\n",
       "    <tr>\n",
       "      <th>min</th>\n",
       "      <td>82.760000</td>\n",
       "      <td>27.580000</td>\n",
       "      <td>4.000000</td>\n",
       "    </tr>\n",
       "    <tr>\n",
       "      <th>25%</th>\n",
       "      <td>85.155000</td>\n",
       "      <td>27.755000</td>\n",
       "      <td>4.075000</td>\n",
       "    </tr>\n",
       "    <tr>\n",
       "      <th>50%</th>\n",
       "      <td>85.535000</td>\n",
       "      <td>27.880000</td>\n",
       "      <td>4.200000</td>\n",
       "    </tr>\n",
       "    <tr>\n",
       "      <th>75%</th>\n",
       "      <td>85.797500</td>\n",
       "      <td>28.147500</td>\n",
       "      <td>4.325000</td>\n",
       "    </tr>\n",
       "    <tr>\n",
       "      <th>max</th>\n",
       "      <td>86.210000</td>\n",
       "      <td>28.650000</td>\n",
       "      <td>5.400000</td>\n",
       "    </tr>\n",
       "  </tbody>\n",
       "</table>\n",
       "</div>"
      ],
      "text/plain": [
       "       Longitude   Latitude  Magnitude\n",
       "count  16.000000  16.000000  16.000000\n",
       "mean   85.376250  27.945000   4.356250\n",
       "std     0.806481   0.285026   0.456024\n",
       "min    82.760000  27.580000   4.000000\n",
       "25%    85.155000  27.755000   4.075000\n",
       "50%    85.535000  27.880000   4.200000\n",
       "75%    85.797500  28.147500   4.325000\n",
       "max    86.210000  28.650000   5.400000"
      ]
     },
     "execution_count": 24,
     "metadata": {},
     "output_type": "execute_result"
    }
   ],
   "source": [
    "data.describe()"
   ]
  },
  {
   "cell_type": "code",
   "execution_count": 25,
   "id": "3290d873",
   "metadata": {},
   "outputs": [
    {
     "name": "stdout",
     "output_type": "stream",
     "text": [
      "<class 'pandas.core.frame.DataFrame'>\n",
      "RangeIndex: 16 entries, 0 to 15\n",
      "Data columns (total 6 columns):\n",
      " #   Column     Non-Null Count  Dtype  \n",
      "---  ------     --------------  -----  \n",
      " 0   Longitude  16 non-null     float64\n",
      " 1   Latitude   16 non-null     float64\n",
      " 2   Epicentre  16 non-null     object \n",
      " 3   Time       16 non-null     object \n",
      " 4   Magnitude  16 non-null     float64\n",
      " 5   Date       16 non-null     object \n",
      "dtypes: float64(3), object(3)\n",
      "memory usage: 896.0+ bytes\n"
     ]
    }
   ],
   "source": [
    "data.info()"
   ]
  },
  {
   "cell_type": "code",
   "execution_count": 26,
   "id": "24a3ac94",
   "metadata": {},
   "outputs": [
    {
     "data": {
      "text/plain": [
       "(16, 6)"
      ]
     },
     "execution_count": 26,
     "metadata": {},
     "output_type": "execute_result"
    }
   ],
   "source": [
    "data.shape"
   ]
  },
  {
   "cell_type": "code",
   "execution_count": 27,
   "id": "13aae35c",
   "metadata": {},
   "outputs": [
    {
     "data": {
      "text/plain": [
       "2"
      ]
     },
     "execution_count": 27,
     "metadata": {},
     "output_type": "execute_result"
    }
   ],
   "source": [
    "data.ndim"
   ]
  },
  {
   "cell_type": "code",
   "execution_count": 28,
   "id": "8fa4353d",
   "metadata": {},
   "outputs": [
    {
     "data": {
      "text/plain": [
       "['Longitude', 'Latitude', 'Epicentre', 'Time', 'Magnitude', 'Date']"
      ]
     },
     "execution_count": 28,
     "metadata": {},
     "output_type": "execute_result"
    }
   ],
   "source": [
    "list(data.columns)"
   ]
  },
  {
   "cell_type": "code",
   "execution_count": 29,
   "id": "e6cf8ffe",
   "metadata": {},
   "outputs": [
    {
     "data": {
      "text/plain": [
       "RangeIndex(start=0, stop=16, step=1)"
      ]
     },
     "execution_count": 29,
     "metadata": {},
     "output_type": "execute_result"
    }
   ],
   "source": [
    "data.index"
   ]
  },
  {
   "cell_type": "code",
   "execution_count": 30,
   "id": "b9595cc8",
   "metadata": {},
   "outputs": [
    {
     "data": {
      "text/html": [
       "<div>\n",
       "<style scoped>\n",
       "    .dataframe tbody tr th:only-of-type {\n",
       "        vertical-align: middle;\n",
       "    }\n",
       "\n",
       "    .dataframe tbody tr th {\n",
       "        vertical-align: top;\n",
       "    }\n",
       "\n",
       "    .dataframe thead th {\n",
       "        text-align: right;\n",
       "    }\n",
       "</style>\n",
       "<table border=\"1\" class=\"dataframe\">\n",
       "  <thead>\n",
       "    <tr style=\"text-align: right;\">\n",
       "      <th></th>\n",
       "      <th>Longitude</th>\n",
       "      <th>Latitude</th>\n",
       "      <th>Epicentre</th>\n",
       "      <th>Time</th>\n",
       "      <th>Magnitude</th>\n",
       "      <th>Date</th>\n",
       "    </tr>\n",
       "  </thead>\n",
       "  <tbody>\n",
       "    <tr>\n",
       "      <th>0</th>\n",
       "      <td>85.39</td>\n",
       "      <td>27.58</td>\n",
       "      <td>Lalitpur</td>\n",
       "      <td>14:45</td>\n",
       "      <td>4.1</td>\n",
       "      <td>2015/06/26</td>\n",
       "    </tr>\n",
       "    <tr>\n",
       "      <th>2</th>\n",
       "      <td>86.21</td>\n",
       "      <td>27.66</td>\n",
       "      <td>Dolakha</td>\n",
       "      <td>23:49</td>\n",
       "      <td>4.1</td>\n",
       "      <td>2015/06/25</td>\n",
       "    </tr>\n",
       "    <tr>\n",
       "      <th>4</th>\n",
       "      <td>85.75</td>\n",
       "      <td>27.85</td>\n",
       "      <td>Sindhupalchowk</td>\n",
       "      <td>14:59</td>\n",
       "      <td>4.0</td>\n",
       "      <td>2015/06/24</td>\n",
       "    </tr>\n",
       "    <tr>\n",
       "      <th>6</th>\n",
       "      <td>86.00</td>\n",
       "      <td>27.80</td>\n",
       "      <td>Sindhupalchowk</td>\n",
       "      <td>19:26</td>\n",
       "      <td>4.3</td>\n",
       "      <td>2015/06/21</td>\n",
       "    </tr>\n",
       "    <tr>\n",
       "      <th>8</th>\n",
       "      <td>82.76</td>\n",
       "      <td>28.65</td>\n",
       "      <td>Rukum</td>\n",
       "      <td>12:23</td>\n",
       "      <td>5.4</td>\n",
       "      <td>2015/06/20</td>\n",
       "    </tr>\n",
       "  </tbody>\n",
       "</table>\n",
       "</div>"
      ],
      "text/plain": [
       "   Longitude  Latitude       Epicentre   Time  Magnitude        Date\n",
       "0      85.39     27.58        Lalitpur  14:45        4.1  2015/06/26\n",
       "2      86.21     27.66         Dolakha  23:49        4.1  2015/06/25\n",
       "4      85.75     27.85  Sindhupalchowk  14:59        4.0  2015/06/24\n",
       "6      86.00     27.80  Sindhupalchowk  19:26        4.3  2015/06/21\n",
       "8      82.76     28.65           Rukum  12:23        5.4  2015/06/20"
      ]
     },
     "execution_count": 30,
     "metadata": {},
     "output_type": "execute_result"
    }
   ],
   "source": [
    "data[0:10:2]"
   ]
  },
  {
   "cell_type": "code",
   "execution_count": 31,
   "id": "803ec0db",
   "metadata": {},
   "outputs": [
    {
     "data": {
      "text/html": [
       "<div>\n",
       "<style scoped>\n",
       "    .dataframe tbody tr th:only-of-type {\n",
       "        vertical-align: middle;\n",
       "    }\n",
       "\n",
       "    .dataframe tbody tr th {\n",
       "        vertical-align: top;\n",
       "    }\n",
       "\n",
       "    .dataframe thead th {\n",
       "        text-align: right;\n",
       "    }\n",
       "</style>\n",
       "<table border=\"1\" class=\"dataframe\">\n",
       "  <thead>\n",
       "    <tr style=\"text-align: right;\">\n",
       "      <th></th>\n",
       "      <th>Longitude</th>\n",
       "      <th>Latitude</th>\n",
       "      <th>Epicentre</th>\n",
       "      <th>Time</th>\n",
       "      <th>Magnitude</th>\n",
       "      <th>Date</th>\n",
       "    </tr>\n",
       "  </thead>\n",
       "  <tbody>\n",
       "    <tr>\n",
       "      <th>0</th>\n",
       "      <td>85.39</td>\n",
       "      <td>27.58</td>\n",
       "      <td>Lalitpur</td>\n",
       "      <td>14:45</td>\n",
       "      <td>4.1</td>\n",
       "      <td>2015/06/26</td>\n",
       "    </tr>\n",
       "    <tr>\n",
       "      <th>5</th>\n",
       "      <td>86.17</td>\n",
       "      <td>27.67</td>\n",
       "      <td>Dolakha</td>\n",
       "      <td>13:19</td>\n",
       "      <td>4.0</td>\n",
       "      <td>2015/06/22</td>\n",
       "    </tr>\n",
       "    <tr>\n",
       "      <th>10</th>\n",
       "      <td>85.11</td>\n",
       "      <td>28.14</td>\n",
       "      <td>Dhading</td>\n",
       "      <td>8:24</td>\n",
       "      <td>4.1</td>\n",
       "      <td>2015/06/18</td>\n",
       "    </tr>\n",
       "    <tr>\n",
       "      <th>15</th>\n",
       "      <td>85.72</td>\n",
       "      <td>27.86</td>\n",
       "      <td>Sindhupalchowk</td>\n",
       "      <td>07:41</td>\n",
       "      <td>4.3</td>\n",
       "      <td>2015/12/31</td>\n",
       "    </tr>\n",
       "  </tbody>\n",
       "</table>\n",
       "</div>"
      ],
      "text/plain": [
       "    Longitude  Latitude       Epicentre   Time  Magnitude        Date\n",
       "0       85.39     27.58        Lalitpur  14:45        4.1  2015/06/26\n",
       "5       86.17     27.67         Dolakha  13:19        4.0  2015/06/22\n",
       "10      85.11     28.14         Dhading   8:24        4.1  2015/06/18\n",
       "15      85.72     27.86  Sindhupalchowk  07:41        4.3  2015/12/31"
      ]
     },
     "execution_count": 31,
     "metadata": {},
     "output_type": "execute_result"
    }
   ],
   "source": [
    "data[::5]"
   ]
  },
  {
   "cell_type": "code",
   "execution_count": 32,
   "id": "d3665966",
   "metadata": {},
   "outputs": [
    {
     "data": {
      "text/plain": [
       "0           Lalitpur\n",
       "1     Sindhupalchowk\n",
       "2            Dolakha\n",
       "3            Nuwakot\n",
       "4     Sindhupalchowk\n",
       "5            Dolakha\n",
       "6     Sindhupalchowk\n",
       "7             Gorkha\n",
       "8              Rukum\n",
       "9             Gorkha\n",
       "10           Dhading\n",
       "11             Tibet\n",
       "12    Sindhupalchowk\n",
       "13    Sindhupalchowk\n",
       "14         Kathmandu\n",
       "15    Sindhupalchowk\n",
       "Name: Epicentre, dtype: object"
      ]
     },
     "execution_count": 32,
     "metadata": {},
     "output_type": "execute_result"
    }
   ],
   "source": [
    "data['Epicentre']"
   ]
  },
  {
   "cell_type": "code",
   "execution_count": 33,
   "id": "7115d3d0",
   "metadata": {},
   "outputs": [
    {
     "data": {
      "text/plain": [
       "'Dolakha'"
      ]
     },
     "execution_count": 33,
     "metadata": {},
     "output_type": "execute_result"
    }
   ],
   "source": [
    "data['Epicentre'][5]"
   ]
  },
  {
   "cell_type": "code",
   "execution_count": 34,
   "id": "4a8037c8",
   "metadata": {},
   "outputs": [
    {
     "data": {
      "text/plain": [
       "10           Dhading\n",
       "11             Tibet\n",
       "12    Sindhupalchowk\n",
       "13    Sindhupalchowk\n",
       "14         Kathmandu\n",
       "Name: Epicentre, dtype: object"
      ]
     },
     "execution_count": 34,
     "metadata": {},
     "output_type": "execute_result"
    }
   ],
   "source": [
    "data['Epicentre'][10:15:1]"
   ]
  },
  {
   "cell_type": "code",
   "execution_count": 35,
   "id": "dc6a1e10",
   "metadata": {},
   "outputs": [
    {
     "data": {
      "text/html": [
       "<div>\n",
       "<style scoped>\n",
       "    .dataframe tbody tr th:only-of-type {\n",
       "        vertical-align: middle;\n",
       "    }\n",
       "\n",
       "    .dataframe tbody tr th {\n",
       "        vertical-align: top;\n",
       "    }\n",
       "\n",
       "    .dataframe thead th {\n",
       "        text-align: right;\n",
       "    }\n",
       "</style>\n",
       "<table border=\"1\" class=\"dataframe\">\n",
       "  <thead>\n",
       "    <tr style=\"text-align: right;\">\n",
       "      <th></th>\n",
       "      <th>Epicentre</th>\n",
       "      <th>Magnitude</th>\n",
       "    </tr>\n",
       "  </thead>\n",
       "  <tbody>\n",
       "    <tr>\n",
       "      <th>10</th>\n",
       "      <td>Dhading</td>\n",
       "      <td>4.1</td>\n",
       "    </tr>\n",
       "    <tr>\n",
       "      <th>12</th>\n",
       "      <td>Sindhupalchowk</td>\n",
       "      <td>4.0</td>\n",
       "    </tr>\n",
       "    <tr>\n",
       "      <th>14</th>\n",
       "      <td>Kathmandu</td>\n",
       "      <td>4.4</td>\n",
       "    </tr>\n",
       "  </tbody>\n",
       "</table>\n",
       "</div>"
      ],
      "text/plain": [
       "         Epicentre  Magnitude\n",
       "10         Dhading        4.1\n",
       "12  Sindhupalchowk        4.0\n",
       "14       Kathmandu        4.4"
      ]
     },
     "execution_count": 35,
     "metadata": {},
     "output_type": "execute_result"
    }
   ],
   "source": [
    "data[['Epicentre', 'Magnitude']][10:15:2]"
   ]
  },
  {
   "cell_type": "code",
   "execution_count": 36,
   "id": "ef9ff45d",
   "metadata": {},
   "outputs": [
    {
     "data": {
      "text/plain": [
       "<AxesSubplot:>"
      ]
     },
     "execution_count": 36,
     "metadata": {},
     "output_type": "execute_result"
    },
    {
     "data": {
      "image/png": "[encoded data removed]",
      "text/plain": [
       "<Figure size 432x288 with 1 Axes>"
      ]
     },
     "metadata": {
      "needs_background": "light"
     },
     "output_type": "display_data"
    }
   ],
   "source": [
    "data.Epicentre.value_counts().plot(kind='bar')"
   ]
  },
  {
   "cell_type": "code",
   "execution_count": 37,
   "id": "ca61cf29",
   "metadata": {},
   "outputs": [
    {
     "data": {
      "text/plain": [
       "Sindhupalchowk    6\n",
       "Gorkha            2\n",
       "Dolakha           2\n",
       "Lalitpur          1\n",
       "Kathmandu         1\n",
       "Tibet             1\n",
       "Nuwakot           1\n",
       "Rukum             1\n",
       "Dhading           1\n",
       "Name: Epicentre, dtype: int64"
      ]
     },
     "execution_count": 37,
     "metadata": {},
     "output_type": "execute_result"
    }
   ],
   "source": [
    "data.Epicentre.value_counts()"
   ]
  },
  {
   "cell_type": "code",
   "execution_count": 38,
   "id": "a44d9ff4",
   "metadata": {},
   "outputs": [
    {
     "data": {
      "text/plain": [
       "4.0    4\n",
       "4.1    3\n",
       "4.3    3\n",
       "4.2    2\n",
       "5.1    1\n",
       "5.4    1\n",
       "4.4    1\n",
       "5.2    1\n",
       "Name: Magnitude, dtype: int64"
      ]
     },
     "execution_count": 38,
     "metadata": {},
     "output_type": "execute_result"
    }
   ],
   "source": [
    "data.Magnitude.value_counts()"
   ]
  },
  {
   "cell_type": "code",
   "execution_count": 39,
   "id": "64095579",
   "metadata": {},
   "outputs": [
    {
     "name": "stdout",
     "output_type": "stream",
     "text": [
      "{'Gorkha', 'Kathmandu', 'Nuwakot', 'Rukum', 'Dhading', 'Lalitpur', 'Dolakha', 'Tibet', 'Sindhupalchowk'}\n"
     ]
    }
   ],
   "source": [
    "print(set(data[\"Epicentre\"]))"
   ]
  },
  {
   "cell_type": "code",
   "execution_count": 40,
   "id": "d24216bf",
   "metadata": {},
   "outputs": [
    {
     "data": {
      "text/plain": [
       "9"
      ]
     },
     "execution_count": 40,
     "metadata": {},
     "output_type": "execute_result"
    }
   ],
   "source": [
    "len(set(data['Epicentre']))"
   ]
  },
  {
   "cell_type": "code",
   "execution_count": 41,
   "id": "f70ebd5f",
   "metadata": {},
   "outputs": [
    {
     "data": {
      "text/plain": [
       "2015/06/17    4\n",
       "2015/06/25    3\n",
       "2015/06/20    2\n",
       "2015/06/26    1\n",
       "2015/12/31    1\n",
       "2015/06/19    1\n",
       "2015/06/18    1\n",
       "2015/06/22    1\n",
       "2015/06/24    1\n",
       "2015/06/21    1\n",
       "Name: Date, dtype: int64"
      ]
     },
     "execution_count": 41,
     "metadata": {},
     "output_type": "execute_result"
    }
   ],
   "source": [
    "data['Date'].value_counts().head(20)"
   ]
  },
  {
   "cell_type": "code",
   "execution_count": 42,
   "id": "eaef9e0c",
   "metadata": {},
   "outputs": [
    {
     "data": {
      "text/html": [
       "<div>\n",
       "<style scoped>\n",
       "    .dataframe tbody tr th:only-of-type {\n",
       "        vertical-align: middle;\n",
       "    }\n",
       "\n",
       "    .dataframe tbody tr th {\n",
       "        vertical-align: top;\n",
       "    }\n",
       "\n",
       "    .dataframe thead th {\n",
       "        text-align: right;\n",
       "    }\n",
       "</style>\n",
       "<table border=\"1\" class=\"dataframe\">\n",
       "  <thead>\n",
       "    <tr style=\"text-align: right;\">\n",
       "      <th></th>\n",
       "      <th>Latitude</th>\n",
       "      <th>Longitude</th>\n",
       "    </tr>\n",
       "  </thead>\n",
       "  <tbody>\n",
       "    <tr>\n",
       "      <th>count</th>\n",
       "      <td>16.000000</td>\n",
       "      <td>16.000000</td>\n",
       "    </tr>\n",
       "    <tr>\n",
       "      <th>mean</th>\n",
       "      <td>27.945000</td>\n",
       "      <td>85.376250</td>\n",
       "    </tr>\n",
       "    <tr>\n",
       "      <th>std</th>\n",
       "      <td>0.285026</td>\n",
       "      <td>0.806481</td>\n",
       "    </tr>\n",
       "    <tr>\n",
       "      <th>min</th>\n",
       "      <td>27.580000</td>\n",
       "      <td>82.760000</td>\n",
       "    </tr>\n",
       "    <tr>\n",
       "      <th>25%</th>\n",
       "      <td>27.755000</td>\n",
       "      <td>85.155000</td>\n",
       "    </tr>\n",
       "    <tr>\n",
       "      <th>50%</th>\n",
       "      <td>27.880000</td>\n",
       "      <td>85.535000</td>\n",
       "    </tr>\n",
       "    <tr>\n",
       "      <th>75%</th>\n",
       "      <td>28.147500</td>\n",
       "      <td>85.797500</td>\n",
       "    </tr>\n",
       "    <tr>\n",
       "      <th>max</th>\n",
       "      <td>28.650000</td>\n",
       "      <td>86.210000</td>\n",
       "    </tr>\n",
       "  </tbody>\n",
       "</table>\n",
       "</div>"
      ],
      "text/plain": [
       "        Latitude  Longitude\n",
       "count  16.000000  16.000000\n",
       "mean   27.945000  85.376250\n",
       "std     0.285026   0.806481\n",
       "min    27.580000  82.760000\n",
       "25%    27.755000  85.155000\n",
       "50%    27.880000  85.535000\n",
       "75%    28.147500  85.797500\n",
       "max    28.650000  86.210000"
      ]
     },
     "execution_count": 42,
     "metadata": {},
     "output_type": "execute_result"
    }
   ],
   "source": [
    "data[['Latitude', 'Longitude', 'Date', 'Epicentre']].describe()"
   ]
  },
  {
   "cell_type": "code",
   "execution_count": 43,
   "id": "8a3f8e4f",
   "metadata": {},
   "outputs": [
    {
     "data": {
      "text/html": [
       "<div>\n",
       "<style scoped>\n",
       "    .dataframe tbody tr th:only-of-type {\n",
       "        vertical-align: middle;\n",
       "    }\n",
       "\n",
       "    .dataframe tbody tr th {\n",
       "        vertical-align: top;\n",
       "    }\n",
       "\n",
       "    .dataframe thead th {\n",
       "        text-align: right;\n",
       "    }\n",
       "</style>\n",
       "<table border=\"1\" class=\"dataframe\">\n",
       "  <thead>\n",
       "    <tr style=\"text-align: right;\">\n",
       "      <th></th>\n",
       "      <th>Longitude</th>\n",
       "      <th>Latitude</th>\n",
       "      <th>Epicentre</th>\n",
       "      <th>Time</th>\n",
       "      <th>Magnitude</th>\n",
       "      <th>Date</th>\n",
       "    </tr>\n",
       "  </thead>\n",
       "  <tbody>\n",
       "    <tr>\n",
       "      <th>count</th>\n",
       "      <td>16.000000</td>\n",
       "      <td>16.000000</td>\n",
       "      <td>16</td>\n",
       "      <td>16</td>\n",
       "      <td>16.000000</td>\n",
       "      <td>16</td>\n",
       "    </tr>\n",
       "    <tr>\n",
       "      <th>unique</th>\n",
       "      <td>NaN</td>\n",
       "      <td>NaN</td>\n",
       "      <td>9</td>\n",
       "      <td>16</td>\n",
       "      <td>NaN</td>\n",
       "      <td>10</td>\n",
       "    </tr>\n",
       "    <tr>\n",
       "      <th>top</th>\n",
       "      <td>NaN</td>\n",
       "      <td>NaN</td>\n",
       "      <td>Sindhupalchowk</td>\n",
       "      <td>08:00</td>\n",
       "      <td>NaN</td>\n",
       "      <td>2015/06/17</td>\n",
       "    </tr>\n",
       "    <tr>\n",
       "      <th>freq</th>\n",
       "      <td>NaN</td>\n",
       "      <td>NaN</td>\n",
       "      <td>6</td>\n",
       "      <td>1</td>\n",
       "      <td>NaN</td>\n",
       "      <td>4</td>\n",
       "    </tr>\n",
       "    <tr>\n",
       "      <th>mean</th>\n",
       "      <td>85.376250</td>\n",
       "      <td>27.945000</td>\n",
       "      <td>NaN</td>\n",
       "      <td>NaN</td>\n",
       "      <td>4.356250</td>\n",
       "      <td>NaN</td>\n",
       "    </tr>\n",
       "    <tr>\n",
       "      <th>std</th>\n",
       "      <td>0.806481</td>\n",
       "      <td>0.285026</td>\n",
       "      <td>NaN</td>\n",
       "      <td>NaN</td>\n",
       "      <td>0.456024</td>\n",
       "      <td>NaN</td>\n",
       "    </tr>\n",
       "    <tr>\n",
       "      <th>min</th>\n",
       "      <td>82.760000</td>\n",
       "      <td>27.580000</td>\n",
       "      <td>NaN</td>\n",
       "      <td>NaN</td>\n",
       "      <td>4.000000</td>\n",
       "      <td>NaN</td>\n",
       "    </tr>\n",
       "    <tr>\n",
       "      <th>25%</th>\n",
       "      <td>85.155000</td>\n",
       "      <td>27.755000</td>\n",
       "      <td>NaN</td>\n",
       "      <td>NaN</td>\n",
       "      <td>4.075000</td>\n",
       "      <td>NaN</td>\n",
       "    </tr>\n",
       "    <tr>\n",
       "      <th>50%</th>\n",
       "      <td>85.535000</td>\n",
       "      <td>27.880000</td>\n",
       "      <td>NaN</td>\n",
       "      <td>NaN</td>\n",
       "      <td>4.200000</td>\n",
       "      <td>NaN</td>\n",
       "    </tr>\n",
       "    <tr>\n",
       "      <th>75%</th>\n",
       "      <td>85.797500</td>\n",
       "      <td>28.147500</td>\n",
       "      <td>NaN</td>\n",
       "      <td>NaN</td>\n",
       "      <td>4.325000</td>\n",
       "      <td>NaN</td>\n",
       "    </tr>\n",
       "    <tr>\n",
       "      <th>max</th>\n",
       "      <td>86.210000</td>\n",
       "      <td>28.650000</td>\n",
       "      <td>NaN</td>\n",
       "      <td>NaN</td>\n",
       "      <td>5.400000</td>\n",
       "      <td>NaN</td>\n",
       "    </tr>\n",
       "  </tbody>\n",
       "</table>\n",
       "</div>"
      ],
      "text/plain": [
       "        Longitude   Latitude       Epicentre   Time  Magnitude        Date\n",
       "count   16.000000  16.000000              16     16  16.000000          16\n",
       "unique        NaN        NaN               9     16        NaN          10\n",
       "top           NaN        NaN  Sindhupalchowk  08:00        NaN  2015/06/17\n",
       "freq          NaN        NaN               6      1        NaN           4\n",
       "mean    85.376250  27.945000             NaN    NaN   4.356250         NaN\n",
       "std      0.806481   0.285026             NaN    NaN   0.456024         NaN\n",
       "min     82.760000  27.580000             NaN    NaN   4.000000         NaN\n",
       "25%     85.155000  27.755000             NaN    NaN   4.075000         NaN\n",
       "50%     85.535000  27.880000             NaN    NaN   4.200000         NaN\n",
       "75%     85.797500  28.147500             NaN    NaN   4.325000         NaN\n",
       "max     86.210000  28.650000             NaN    NaN   5.400000         NaN"
      ]
     },
     "execution_count": 43,
     "metadata": {},
     "output_type": "execute_result"
    }
   ],
   "source": [
    "data.describe(include=\"all\")"
   ]
  },
  {
   "cell_type": "code",
   "execution_count": 44,
   "id": "fe7a3cb8",
   "metadata": {},
   "outputs": [
    {
     "data": {
      "text/html": [
       "<div>\n",
       "<style scoped>\n",
       "    .dataframe tbody tr th:only-of-type {\n",
       "        vertical-align: middle;\n",
       "    }\n",
       "\n",
       "    .dataframe tbody tr th {\n",
       "        vertical-align: top;\n",
       "    }\n",
       "\n",
       "    .dataframe thead th {\n",
       "        text-align: right;\n",
       "    }\n",
       "</style>\n",
       "<table border=\"1\" class=\"dataframe\">\n",
       "  <thead>\n",
       "    <tr style=\"text-align: right;\">\n",
       "      <th></th>\n",
       "      <th>0</th>\n",
       "      <th>1</th>\n",
       "      <th>2</th>\n",
       "      <th>3</th>\n",
       "      <th>4</th>\n",
       "      <th>5</th>\n",
       "      <th>6</th>\n",
       "      <th>7</th>\n",
       "      <th>8</th>\n",
       "      <th>9</th>\n",
       "      <th>10</th>\n",
       "      <th>11</th>\n",
       "      <th>12</th>\n",
       "      <th>13</th>\n",
       "      <th>14</th>\n",
       "      <th>15</th>\n",
       "    </tr>\n",
       "  </thead>\n",
       "  <tbody>\n",
       "    <tr>\n",
       "      <th>Longitude</th>\n",
       "      <td>85.39</td>\n",
       "      <td>85.49</td>\n",
       "      <td>86.21</td>\n",
       "      <td>85.17</td>\n",
       "      <td>85.75</td>\n",
       "      <td>86.17</td>\n",
       "      <td>86.0</td>\n",
       "      <td>84.94</td>\n",
       "      <td>82.76</td>\n",
       "      <td>84.92</td>\n",
       "      <td>85.11</td>\n",
       "      <td>85.94</td>\n",
       "      <td>85.58</td>\n",
       "      <td>85.59</td>\n",
       "      <td>85.28</td>\n",
       "      <td>85.72</td>\n",
       "    </tr>\n",
       "    <tr>\n",
       "      <th>Latitude</th>\n",
       "      <td>27.58</td>\n",
       "      <td>27.94</td>\n",
       "      <td>27.66</td>\n",
       "      <td>27.78</td>\n",
       "      <td>27.85</td>\n",
       "      <td>27.67</td>\n",
       "      <td>27.8</td>\n",
       "      <td>28.17</td>\n",
       "      <td>28.65</td>\n",
       "      <td>28.26</td>\n",
       "      <td>28.14</td>\n",
       "      <td>28.27</td>\n",
       "      <td>27.9</td>\n",
       "      <td>27.91</td>\n",
       "      <td>27.68</td>\n",
       "      <td>27.86</td>\n",
       "    </tr>\n",
       "    <tr>\n",
       "      <th>Epicentre</th>\n",
       "      <td>Lalitpur</td>\n",
       "      <td>Sindhupalchowk</td>\n",
       "      <td>Dolakha</td>\n",
       "      <td>Nuwakot</td>\n",
       "      <td>Sindhupalchowk</td>\n",
       "      <td>Dolakha</td>\n",
       "      <td>Sindhupalchowk</td>\n",
       "      <td>Gorkha</td>\n",
       "      <td>Rukum</td>\n",
       "      <td>Gorkha</td>\n",
       "      <td>Dhading</td>\n",
       "      <td>Tibet</td>\n",
       "      <td>Sindhupalchowk</td>\n",
       "      <td>Sindhupalchowk</td>\n",
       "      <td>Kathmandu</td>\n",
       "      <td>Sindhupalchowk</td>\n",
       "    </tr>\n",
       "    <tr>\n",
       "      <th>Time</th>\n",
       "      <td>14:45</td>\n",
       "      <td>23:51</td>\n",
       "      <td>23:49</td>\n",
       "      <td>21:07</td>\n",
       "      <td>14:59</td>\n",
       "      <td>13:19</td>\n",
       "      <td>19:26</td>\n",
       "      <td>2:40</td>\n",
       "      <td>12:23</td>\n",
       "      <td>13:50</td>\n",
       "      <td>8:24</td>\n",
       "      <td>08:00</td>\n",
       "      <td>06:26</td>\n",
       "      <td>06:14</td>\n",
       "      <td>05:58</td>\n",
       "      <td>07:41</td>\n",
       "    </tr>\n",
       "    <tr>\n",
       "      <th>Magnitude</th>\n",
       "      <td>4.1</td>\n",
       "      <td>4.2</td>\n",
       "      <td>4.1</td>\n",
       "      <td>4.3</td>\n",
       "      <td>4.0</td>\n",
       "      <td>4.0</td>\n",
       "      <td>4.3</td>\n",
       "      <td>4.2</td>\n",
       "      <td>5.4</td>\n",
       "      <td>4.0</td>\n",
       "      <td>4.1</td>\n",
       "      <td>5.1</td>\n",
       "      <td>4.0</td>\n",
       "      <td>5.2</td>\n",
       "      <td>4.4</td>\n",
       "      <td>4.3</td>\n",
       "    </tr>\n",
       "    <tr>\n",
       "      <th>Date</th>\n",
       "      <td>2015/06/26</td>\n",
       "      <td>2015/06/25</td>\n",
       "      <td>2015/06/25</td>\n",
       "      <td>2015/06/25</td>\n",
       "      <td>2015/06/24</td>\n",
       "      <td>2015/06/22</td>\n",
       "      <td>2015/06/21</td>\n",
       "      <td>2015/06/20</td>\n",
       "      <td>2015/06/20</td>\n",
       "      <td>2015/06/19</td>\n",
       "      <td>2015/06/18</td>\n",
       "      <td>2015/06/17</td>\n",
       "      <td>2015/06/17</td>\n",
       "      <td>2015/06/17</td>\n",
       "      <td>2015/06/17</td>\n",
       "      <td>2015/12/31</td>\n",
       "    </tr>\n",
       "  </tbody>\n",
       "</table>\n",
       "</div>"
      ],
      "text/plain": [
       "                   0               1           2           3               4   \\\n",
       "Longitude       85.39           85.49       86.21       85.17           85.75   \n",
       "Latitude        27.58           27.94       27.66       27.78           27.85   \n",
       "Epicentre    Lalitpur  Sindhupalchowk     Dolakha     Nuwakot  Sindhupalchowk   \n",
       "Time            14:45           23:51       23:49       21:07           14:59   \n",
       "Magnitude         4.1             4.2         4.1         4.3             4.0   \n",
       "Date       2015/06/26      2015/06/25  2015/06/25  2015/06/25      2015/06/24   \n",
       "\n",
       "                   5               6           7           8           9   \\\n",
       "Longitude       86.17            86.0       84.94       82.76       84.92   \n",
       "Latitude        27.67            27.8       28.17       28.65       28.26   \n",
       "Epicentre     Dolakha  Sindhupalchowk      Gorkha       Rukum      Gorkha   \n",
       "Time            13:19           19:26        2:40       12:23       13:50   \n",
       "Magnitude         4.0             4.3         4.2         5.4         4.0   \n",
       "Date       2015/06/22      2015/06/21  2015/06/20  2015/06/20  2015/06/19   \n",
       "\n",
       "                   10          11              12              13          14  \\\n",
       "Longitude       85.11       85.94           85.58           85.59       85.28   \n",
       "Latitude        28.14       28.27            27.9           27.91       27.68   \n",
       "Epicentre     Dhading       Tibet  Sindhupalchowk  Sindhupalchowk   Kathmandu   \n",
       "Time             8:24       08:00           06:26           06:14       05:58   \n",
       "Magnitude         4.1         5.1             4.0             5.2         4.4   \n",
       "Date       2015/06/18  2015/06/17      2015/06/17      2015/06/17  2015/06/17   \n",
       "\n",
       "                       15  \n",
       "Longitude           85.72  \n",
       "Latitude            27.86  \n",
       "Epicentre  Sindhupalchowk  \n",
       "Time                07:41  \n",
       "Magnitude             4.3  \n",
       "Date           2015/12/31  "
      ]
     },
     "execution_count": 44,
     "metadata": {},
     "output_type": "execute_result"
    }
   ],
   "source": [
    "data.T"
   ]
  },
  {
   "cell_type": "code",
   "execution_count": 45,
   "id": "7c5d850e",
   "metadata": {},
   "outputs": [
    {
     "data": {
      "text/plain": [
       "Index(['Longitude', 'Latitude', 'Epicentre', 'Time', 'Magnitude', 'Date'], dtype='object')"
      ]
     },
     "execution_count": 45,
     "metadata": {},
     "output_type": "execute_result"
    }
   ],
   "source": [
    "data.columns"
   ]
  },
  {
   "cell_type": "code",
   "execution_count": 46,
   "id": "01a6379f",
   "metadata": {},
   "outputs": [
    {
     "data": {
      "text/html": [
       "<div>\n",
       "<style scoped>\n",
       "    .dataframe tbody tr th:only-of-type {\n",
       "        vertical-align: middle;\n",
       "    }\n",
       "\n",
       "    .dataframe tbody tr th {\n",
       "        vertical-align: top;\n",
       "    }\n",
       "\n",
       "    .dataframe thead th {\n",
       "        text-align: right;\n",
       "    }\n",
       "</style>\n",
       "<table border=\"1\" class=\"dataframe\">\n",
       "  <thead>\n",
       "    <tr style=\"text-align: right;\">\n",
       "      <th></th>\n",
       "      <th>Longitude</th>\n",
       "      <th>Epicentre</th>\n",
       "      <th>Magnitude</th>\n",
       "    </tr>\n",
       "  </thead>\n",
       "  <tbody>\n",
       "    <tr>\n",
       "      <th>0</th>\n",
       "      <td>85.39</td>\n",
       "      <td>Lalitpur</td>\n",
       "      <td>4.1</td>\n",
       "    </tr>\n",
       "    <tr>\n",
       "      <th>1</th>\n",
       "      <td>85.49</td>\n",
       "      <td>Sindhupalchowk</td>\n",
       "      <td>4.2</td>\n",
       "    </tr>\n",
       "    <tr>\n",
       "      <th>2</th>\n",
       "      <td>86.21</td>\n",
       "      <td>Dolakha</td>\n",
       "      <td>4.1</td>\n",
       "    </tr>\n",
       "    <tr>\n",
       "      <th>3</th>\n",
       "      <td>85.17</td>\n",
       "      <td>Nuwakot</td>\n",
       "      <td>4.3</td>\n",
       "    </tr>\n",
       "    <tr>\n",
       "      <th>4</th>\n",
       "      <td>85.75</td>\n",
       "      <td>Sindhupalchowk</td>\n",
       "      <td>4.0</td>\n",
       "    </tr>\n",
       "    <tr>\n",
       "      <th>5</th>\n",
       "      <td>86.17</td>\n",
       "      <td>Dolakha</td>\n",
       "      <td>4.0</td>\n",
       "    </tr>\n",
       "    <tr>\n",
       "      <th>6</th>\n",
       "      <td>86.00</td>\n",
       "      <td>Sindhupalchowk</td>\n",
       "      <td>4.3</td>\n",
       "    </tr>\n",
       "    <tr>\n",
       "      <th>7</th>\n",
       "      <td>84.94</td>\n",
       "      <td>Gorkha</td>\n",
       "      <td>4.2</td>\n",
       "    </tr>\n",
       "    <tr>\n",
       "      <th>8</th>\n",
       "      <td>82.76</td>\n",
       "      <td>Rukum</td>\n",
       "      <td>5.4</td>\n",
       "    </tr>\n",
       "    <tr>\n",
       "      <th>9</th>\n",
       "      <td>84.92</td>\n",
       "      <td>Gorkha</td>\n",
       "      <td>4.0</td>\n",
       "    </tr>\n",
       "    <tr>\n",
       "      <th>10</th>\n",
       "      <td>85.11</td>\n",
       "      <td>Dhading</td>\n",
       "      <td>4.1</td>\n",
       "    </tr>\n",
       "    <tr>\n",
       "      <th>11</th>\n",
       "      <td>85.94</td>\n",
       "      <td>Tibet</td>\n",
       "      <td>5.1</td>\n",
       "    </tr>\n",
       "    <tr>\n",
       "      <th>12</th>\n",
       "      <td>85.58</td>\n",
       "      <td>Sindhupalchowk</td>\n",
       "      <td>4.0</td>\n",
       "    </tr>\n",
       "    <tr>\n",
       "      <th>13</th>\n",
       "      <td>85.59</td>\n",
       "      <td>Sindhupalchowk</td>\n",
       "      <td>5.2</td>\n",
       "    </tr>\n",
       "    <tr>\n",
       "      <th>14</th>\n",
       "      <td>85.28</td>\n",
       "      <td>Kathmandu</td>\n",
       "      <td>4.4</td>\n",
       "    </tr>\n",
       "    <tr>\n",
       "      <th>15</th>\n",
       "      <td>85.72</td>\n",
       "      <td>Sindhupalchowk</td>\n",
       "      <td>4.3</td>\n",
       "    </tr>\n",
       "  </tbody>\n",
       "</table>\n",
       "</div>"
      ],
      "text/plain": [
       "    Longitude       Epicentre  Magnitude\n",
       "0       85.39        Lalitpur        4.1\n",
       "1       85.49  Sindhupalchowk        4.2\n",
       "2       86.21         Dolakha        4.1\n",
       "3       85.17         Nuwakot        4.3\n",
       "4       85.75  Sindhupalchowk        4.0\n",
       "5       86.17         Dolakha        4.0\n",
       "6       86.00  Sindhupalchowk        4.3\n",
       "7       84.94          Gorkha        4.2\n",
       "8       82.76           Rukum        5.4\n",
       "9       84.92          Gorkha        4.0\n",
       "10      85.11         Dhading        4.1\n",
       "11      85.94           Tibet        5.1\n",
       "12      85.58  Sindhupalchowk        4.0\n",
       "13      85.59  Sindhupalchowk        5.2\n",
       "14      85.28       Kathmandu        4.4\n",
       "15      85.72  Sindhupalchowk        4.3"
      ]
     },
     "execution_count": 46,
     "metadata": {},
     "output_type": "execute_result"
    }
   ],
   "source": [
    "data[data.columns[::2]]"
   ]
  },
  {
   "cell_type": "code",
   "execution_count": 47,
   "id": "36fbbe2d",
   "metadata": {},
   "outputs": [
    {
     "data": {
      "text/html": [
       "<div>\n",
       "<style scoped>\n",
       "    .dataframe tbody tr th:only-of-type {\n",
       "        vertical-align: middle;\n",
       "    }\n",
       "\n",
       "    .dataframe tbody tr th {\n",
       "        vertical-align: top;\n",
       "    }\n",
       "\n",
       "    .dataframe thead th {\n",
       "        text-align: right;\n",
       "    }\n",
       "</style>\n",
       "<table border=\"1\" class=\"dataframe\">\n",
       "  <thead>\n",
       "    <tr style=\"text-align: right;\">\n",
       "      <th></th>\n",
       "      <th>Longitude</th>\n",
       "      <th>Latitude</th>\n",
       "      <th>Epicentre</th>\n",
       "      <th>Time</th>\n",
       "      <th>Magnitude</th>\n",
       "      <th>Date</th>\n",
       "    </tr>\n",
       "  </thead>\n",
       "  <tbody>\n",
       "    <tr>\n",
       "      <th>4</th>\n",
       "      <td>85.75</td>\n",
       "      <td>27.85</td>\n",
       "      <td>Sindhupalchowk</td>\n",
       "      <td>14:59</td>\n",
       "      <td>4.0</td>\n",
       "      <td>2015/06/24</td>\n",
       "    </tr>\n",
       "    <tr>\n",
       "      <th>5</th>\n",
       "      <td>86.17</td>\n",
       "      <td>27.67</td>\n",
       "      <td>Dolakha</td>\n",
       "      <td>13:19</td>\n",
       "      <td>4.0</td>\n",
       "      <td>2015/06/22</td>\n",
       "    </tr>\n",
       "    <tr>\n",
       "      <th>9</th>\n",
       "      <td>84.92</td>\n",
       "      <td>28.26</td>\n",
       "      <td>Gorkha</td>\n",
       "      <td>13:50</td>\n",
       "      <td>4.0</td>\n",
       "      <td>2015/06/19</td>\n",
       "    </tr>\n",
       "    <tr>\n",
       "      <th>12</th>\n",
       "      <td>85.58</td>\n",
       "      <td>27.90</td>\n",
       "      <td>Sindhupalchowk</td>\n",
       "      <td>06:26</td>\n",
       "      <td>4.0</td>\n",
       "      <td>2015/06/17</td>\n",
       "    </tr>\n",
       "    <tr>\n",
       "      <th>0</th>\n",
       "      <td>85.39</td>\n",
       "      <td>27.58</td>\n",
       "      <td>Lalitpur</td>\n",
       "      <td>14:45</td>\n",
       "      <td>4.1</td>\n",
       "      <td>2015/06/26</td>\n",
       "    </tr>\n",
       "    <tr>\n",
       "      <th>2</th>\n",
       "      <td>86.21</td>\n",
       "      <td>27.66</td>\n",
       "      <td>Dolakha</td>\n",
       "      <td>23:49</td>\n",
       "      <td>4.1</td>\n",
       "      <td>2015/06/25</td>\n",
       "    </tr>\n",
       "    <tr>\n",
       "      <th>10</th>\n",
       "      <td>85.11</td>\n",
       "      <td>28.14</td>\n",
       "      <td>Dhading</td>\n",
       "      <td>8:24</td>\n",
       "      <td>4.1</td>\n",
       "      <td>2015/06/18</td>\n",
       "    </tr>\n",
       "    <tr>\n",
       "      <th>1</th>\n",
       "      <td>85.49</td>\n",
       "      <td>27.94</td>\n",
       "      <td>Sindhupalchowk</td>\n",
       "      <td>23:51</td>\n",
       "      <td>4.2</td>\n",
       "      <td>2015/06/25</td>\n",
       "    </tr>\n",
       "    <tr>\n",
       "      <th>7</th>\n",
       "      <td>84.94</td>\n",
       "      <td>28.17</td>\n",
       "      <td>Gorkha</td>\n",
       "      <td>2:40</td>\n",
       "      <td>4.2</td>\n",
       "      <td>2015/06/20</td>\n",
       "    </tr>\n",
       "    <tr>\n",
       "      <th>3</th>\n",
       "      <td>85.17</td>\n",
       "      <td>27.78</td>\n",
       "      <td>Nuwakot</td>\n",
       "      <td>21:07</td>\n",
       "      <td>4.3</td>\n",
       "      <td>2015/06/25</td>\n",
       "    </tr>\n",
       "    <tr>\n",
       "      <th>6</th>\n",
       "      <td>86.00</td>\n",
       "      <td>27.80</td>\n",
       "      <td>Sindhupalchowk</td>\n",
       "      <td>19:26</td>\n",
       "      <td>4.3</td>\n",
       "      <td>2015/06/21</td>\n",
       "    </tr>\n",
       "    <tr>\n",
       "      <th>15</th>\n",
       "      <td>85.72</td>\n",
       "      <td>27.86</td>\n",
       "      <td>Sindhupalchowk</td>\n",
       "      <td>07:41</td>\n",
       "      <td>4.3</td>\n",
       "      <td>2015/12/31</td>\n",
       "    </tr>\n",
       "    <tr>\n",
       "      <th>14</th>\n",
       "      <td>85.28</td>\n",
       "      <td>27.68</td>\n",
       "      <td>Kathmandu</td>\n",
       "      <td>05:58</td>\n",
       "      <td>4.4</td>\n",
       "      <td>2015/06/17</td>\n",
       "    </tr>\n",
       "    <tr>\n",
       "      <th>11</th>\n",
       "      <td>85.94</td>\n",
       "      <td>28.27</td>\n",
       "      <td>Tibet</td>\n",
       "      <td>08:00</td>\n",
       "      <td>5.1</td>\n",
       "      <td>2015/06/17</td>\n",
       "    </tr>\n",
       "    <tr>\n",
       "      <th>13</th>\n",
       "      <td>85.59</td>\n",
       "      <td>27.91</td>\n",
       "      <td>Sindhupalchowk</td>\n",
       "      <td>06:14</td>\n",
       "      <td>5.2</td>\n",
       "      <td>2015/06/17</td>\n",
       "    </tr>\n",
       "  </tbody>\n",
       "</table>\n",
       "</div>"
      ],
      "text/plain": [
       "    Longitude  Latitude       Epicentre   Time  Magnitude        Date\n",
       "4       85.75     27.85  Sindhupalchowk  14:59        4.0  2015/06/24\n",
       "5       86.17     27.67         Dolakha  13:19        4.0  2015/06/22\n",
       "9       84.92     28.26          Gorkha  13:50        4.0  2015/06/19\n",
       "12      85.58     27.90  Sindhupalchowk  06:26        4.0  2015/06/17\n",
       "0       85.39     27.58        Lalitpur  14:45        4.1  2015/06/26\n",
       "2       86.21     27.66         Dolakha  23:49        4.1  2015/06/25\n",
       "10      85.11     28.14         Dhading   8:24        4.1  2015/06/18\n",
       "1       85.49     27.94  Sindhupalchowk  23:51        4.2  2015/06/25\n",
       "7       84.94     28.17          Gorkha   2:40        4.2  2015/06/20\n",
       "3       85.17     27.78         Nuwakot  21:07        4.3  2015/06/25\n",
       "6       86.00     27.80  Sindhupalchowk  19:26        4.3  2015/06/21\n",
       "15      85.72     27.86  Sindhupalchowk  07:41        4.3  2015/12/31\n",
       "14      85.28     27.68       Kathmandu  05:58        4.4  2015/06/17\n",
       "11      85.94     28.27           Tibet  08:00        5.1  2015/06/17\n",
       "13      85.59     27.91  Sindhupalchowk  06:14        5.2  2015/06/17"
      ]
     },
     "execution_count": 47,
     "metadata": {},
     "output_type": "execute_result"
    }
   ],
   "source": [
    "data.sort_values(by='Magnitude', ascending=True).head(15)"
   ]
  },
  {
   "cell_type": "code",
   "execution_count": 48,
   "id": "dfa254ec",
   "metadata": {},
   "outputs": [
    {
     "data": {
      "text/html": [
       "<div>\n",
       "<style scoped>\n",
       "    .dataframe tbody tr th:only-of-type {\n",
       "        vertical-align: middle;\n",
       "    }\n",
       "\n",
       "    .dataframe tbody tr th {\n",
       "        vertical-align: top;\n",
       "    }\n",
       "\n",
       "    .dataframe thead th {\n",
       "        text-align: right;\n",
       "    }\n",
       "</style>\n",
       "<table border=\"1\" class=\"dataframe\">\n",
       "  <thead>\n",
       "    <tr style=\"text-align: right;\">\n",
       "      <th></th>\n",
       "      <th>Longitude</th>\n",
       "      <th>Latitude</th>\n",
       "      <th>Epicentre</th>\n",
       "      <th>Time</th>\n",
       "      <th>Magnitude</th>\n",
       "      <th>Date</th>\n",
       "    </tr>\n",
       "  </thead>\n",
       "  <tbody>\n",
       "    <tr>\n",
       "      <th>10</th>\n",
       "      <td>85.11</td>\n",
       "      <td>28.14</td>\n",
       "      <td>Dhading</td>\n",
       "      <td>8:24</td>\n",
       "      <td>4.1</td>\n",
       "      <td>2015/06/18</td>\n",
       "    </tr>\n",
       "    <tr>\n",
       "      <th>2</th>\n",
       "      <td>86.21</td>\n",
       "      <td>27.66</td>\n",
       "      <td>Dolakha</td>\n",
       "      <td>23:49</td>\n",
       "      <td>4.1</td>\n",
       "      <td>2015/06/25</td>\n",
       "    </tr>\n",
       "    <tr>\n",
       "      <th>5</th>\n",
       "      <td>86.17</td>\n",
       "      <td>27.67</td>\n",
       "      <td>Dolakha</td>\n",
       "      <td>13:19</td>\n",
       "      <td>4.0</td>\n",
       "      <td>2015/06/22</td>\n",
       "    </tr>\n",
       "    <tr>\n",
       "      <th>7</th>\n",
       "      <td>84.94</td>\n",
       "      <td>28.17</td>\n",
       "      <td>Gorkha</td>\n",
       "      <td>2:40</td>\n",
       "      <td>4.2</td>\n",
       "      <td>2015/06/20</td>\n",
       "    </tr>\n",
       "    <tr>\n",
       "      <th>9</th>\n",
       "      <td>84.92</td>\n",
       "      <td>28.26</td>\n",
       "      <td>Gorkha</td>\n",
       "      <td>13:50</td>\n",
       "      <td>4.0</td>\n",
       "      <td>2015/06/19</td>\n",
       "    </tr>\n",
       "  </tbody>\n",
       "</table>\n",
       "</div>"
      ],
      "text/plain": [
       "    Longitude  Latitude Epicentre   Time  Magnitude        Date\n",
       "10      85.11     28.14   Dhading   8:24        4.1  2015/06/18\n",
       "2       86.21     27.66   Dolakha  23:49        4.1  2015/06/25\n",
       "5       86.17     27.67   Dolakha  13:19        4.0  2015/06/22\n",
       "7       84.94     28.17    Gorkha   2:40        4.2  2015/06/20\n",
       "9       84.92     28.26    Gorkha  13:50        4.0  2015/06/19"
      ]
     },
     "execution_count": 48,
     "metadata": {},
     "output_type": "execute_result"
    }
   ],
   "source": [
    "data.sort_values(by='Epicentre',ascending=True).head(5)"
   ]
  },
  {
   "cell_type": "code",
   "execution_count": 49,
   "id": "5faf466f",
   "metadata": {},
   "outputs": [
    {
     "data": {
      "text/plain": [
       "Longitude    3\n",
       "Latitude     3\n",
       "Epicentre    3\n",
       "Time         3\n",
       "Magnitude    3\n",
       "Date         3\n",
       "dtype: int64"
      ]
     },
     "execution_count": 49,
     "metadata": {},
     "output_type": "execute_result"
    }
   ],
   "source": [
    "data[data['Magnitude']>=5.0].count()"
   ]
  },
  {
   "cell_type": "code",
   "execution_count": 50,
   "id": "24f2caf9",
   "metadata": {},
   "outputs": [
    {
     "data": {
      "text/plain": [
       "Sindhupalchowk    1\n",
       "Tibet             1\n",
       "Rukum             1\n",
       "Name: Epicentre, dtype: int64"
      ]
     },
     "execution_count": 50,
     "metadata": {},
     "output_type": "execute_result"
    }
   ],
   "source": [
    "data[data.Magnitude>=5.0]['Epicentre'].value_counts()"
   ]
  },
  {
   "cell_type": "code",
   "execution_count": 51,
   "id": "7fe78282",
   "metadata": {},
   "outputs": [
    {
     "data": {
      "text/html": [
       "<div>\n",
       "<style scoped>\n",
       "    .dataframe tbody tr th:only-of-type {\n",
       "        vertical-align: middle;\n",
       "    }\n",
       "\n",
       "    .dataframe tbody tr th {\n",
       "        vertical-align: top;\n",
       "    }\n",
       "\n",
       "    .dataframe thead th {\n",
       "        text-align: right;\n",
       "    }\n",
       "</style>\n",
       "<table border=\"1\" class=\"dataframe\">\n",
       "  <thead>\n",
       "    <tr style=\"text-align: right;\">\n",
       "      <th></th>\n",
       "      <th>Longitude</th>\n",
       "      <th>Latitude</th>\n",
       "      <th>Epicentre</th>\n",
       "      <th>Time</th>\n",
       "      <th>Magnitude</th>\n",
       "      <th>Date</th>\n",
       "    </tr>\n",
       "  </thead>\n",
       "  <tbody>\n",
       "    <tr>\n",
       "      <th>3</th>\n",
       "      <td>85.17</td>\n",
       "      <td>27.78</td>\n",
       "      <td>Nuwakot</td>\n",
       "      <td>21:07</td>\n",
       "      <td>4.3</td>\n",
       "      <td>2015/06/25</td>\n",
       "    </tr>\n",
       "    <tr>\n",
       "      <th>7</th>\n",
       "      <td>84.94</td>\n",
       "      <td>28.17</td>\n",
       "      <td>Gorkha</td>\n",
       "      <td>2:40</td>\n",
       "      <td>4.2</td>\n",
       "      <td>2015/06/20</td>\n",
       "    </tr>\n",
       "  </tbody>\n",
       "</table>\n",
       "</div>"
      ],
      "text/plain": [
       "   Longitude  Latitude Epicentre   Time  Magnitude        Date\n",
       "3      85.17     27.78   Nuwakot  21:07        4.3  2015/06/25\n",
       "7      84.94     28.17    Gorkha   2:40        4.2  2015/06/20"
      ]
     },
     "execution_count": 51,
     "metadata": {},
     "output_type": "execute_result"
    }
   ],
   "source": [
    "ans = data[data.Epicentre.isin(['Sindhulchowk','Nuwakot','Gorkha','Dolkha']) & (data.Magnitude>4.1)]\n",
    "ans"
   ]
  },
  {
   "cell_type": "code",
   "execution_count": 52,
   "id": "2bb8d463",
   "metadata": {},
   "outputs": [
    {
     "data": {
      "text/html": [
       "<div>\n",
       "<style scoped>\n",
       "    .dataframe tbody tr th:only-of-type {\n",
       "        vertical-align: middle;\n",
       "    }\n",
       "\n",
       "    .dataframe tbody tr th {\n",
       "        vertical-align: top;\n",
       "    }\n",
       "\n",
       "    .dataframe thead th {\n",
       "        text-align: right;\n",
       "    }\n",
       "</style>\n",
       "<table border=\"1\" class=\"dataframe\">\n",
       "  <thead>\n",
       "    <tr style=\"text-align: right;\">\n",
       "      <th></th>\n",
       "      <th>Longitude</th>\n",
       "      <th>Latitude</th>\n",
       "      <th>Epicentre</th>\n",
       "      <th>Time</th>\n",
       "      <th>Magnitude</th>\n",
       "      <th>Date</th>\n",
       "    </tr>\n",
       "  </thead>\n",
       "  <tbody>\n",
       "    <tr>\n",
       "      <th>1</th>\n",
       "      <td>85.49</td>\n",
       "      <td>27.94</td>\n",
       "      <td>Sindhupalchowk</td>\n",
       "      <td>23:51</td>\n",
       "      <td>4.2</td>\n",
       "      <td>2015/06/25</td>\n",
       "    </tr>\n",
       "    <tr>\n",
       "      <th>3</th>\n",
       "      <td>85.17</td>\n",
       "      <td>27.78</td>\n",
       "      <td>Nuwakot</td>\n",
       "      <td>21:07</td>\n",
       "      <td>4.3</td>\n",
       "      <td>2015/06/25</td>\n",
       "    </tr>\n",
       "    <tr>\n",
       "      <th>4</th>\n",
       "      <td>85.75</td>\n",
       "      <td>27.85</td>\n",
       "      <td>Sindhupalchowk</td>\n",
       "      <td>14:59</td>\n",
       "      <td>4.0</td>\n",
       "      <td>2015/06/24</td>\n",
       "    </tr>\n",
       "    <tr>\n",
       "      <th>6</th>\n",
       "      <td>86.00</td>\n",
       "      <td>27.80</td>\n",
       "      <td>Sindhupalchowk</td>\n",
       "      <td>19:26</td>\n",
       "      <td>4.3</td>\n",
       "      <td>2015/06/21</td>\n",
       "    </tr>\n",
       "    <tr>\n",
       "      <th>7</th>\n",
       "      <td>84.94</td>\n",
       "      <td>28.17</td>\n",
       "      <td>Gorkha</td>\n",
       "      <td>2:40</td>\n",
       "      <td>4.2</td>\n",
       "      <td>2015/06/20</td>\n",
       "    </tr>\n",
       "    <tr>\n",
       "      <th>9</th>\n",
       "      <td>84.92</td>\n",
       "      <td>28.26</td>\n",
       "      <td>Gorkha</td>\n",
       "      <td>13:50</td>\n",
       "      <td>4.0</td>\n",
       "      <td>2015/06/19</td>\n",
       "    </tr>\n",
       "    <tr>\n",
       "      <th>12</th>\n",
       "      <td>85.58</td>\n",
       "      <td>27.90</td>\n",
       "      <td>Sindhupalchowk</td>\n",
       "      <td>06:26</td>\n",
       "      <td>4.0</td>\n",
       "      <td>2015/06/17</td>\n",
       "    </tr>\n",
       "    <tr>\n",
       "      <th>13</th>\n",
       "      <td>85.59</td>\n",
       "      <td>27.91</td>\n",
       "      <td>Sindhupalchowk</td>\n",
       "      <td>06:14</td>\n",
       "      <td>5.2</td>\n",
       "      <td>2015/06/17</td>\n",
       "    </tr>\n",
       "    <tr>\n",
       "      <th>15</th>\n",
       "      <td>85.72</td>\n",
       "      <td>27.86</td>\n",
       "      <td>Sindhupalchowk</td>\n",
       "      <td>07:41</td>\n",
       "      <td>4.3</td>\n",
       "      <td>2015/12/31</td>\n",
       "    </tr>\n",
       "  </tbody>\n",
       "</table>\n",
       "</div>"
      ],
      "text/plain": [
       "    Longitude  Latitude       Epicentre   Time  Magnitude        Date\n",
       "1       85.49     27.94  Sindhupalchowk  23:51        4.2  2015/06/25\n",
       "3       85.17     27.78         Nuwakot  21:07        4.3  2015/06/25\n",
       "4       85.75     27.85  Sindhupalchowk  14:59        4.0  2015/06/24\n",
       "6       86.00     27.80  Sindhupalchowk  19:26        4.3  2015/06/21\n",
       "7       84.94     28.17          Gorkha   2:40        4.2  2015/06/20\n",
       "9       84.92     28.26          Gorkha  13:50        4.0  2015/06/19\n",
       "12      85.58     27.90  Sindhupalchowk  06:26        4.0  2015/06/17\n",
       "13      85.59     27.91  Sindhupalchowk  06:14        5.2  2015/06/17\n",
       "15      85.72     27.86  Sindhupalchowk  07:41        4.3  2015/12/31"
      ]
     },
     "execution_count": 52,
     "metadata": {},
     "output_type": "execute_result"
    }
   ],
   "source": [
    "data[data.Epicentre.isin(['Sindhupalchowk', 'Nuwakot','Gorkha'])]"
   ]
  },
  {
   "cell_type": "code",
   "execution_count": 53,
   "id": "5288838d",
   "metadata": {},
   "outputs": [
    {
     "data": {
      "text/html": [
       "<div>\n",
       "<style scoped>\n",
       "    .dataframe tbody tr th:only-of-type {\n",
       "        vertical-align: middle;\n",
       "    }\n",
       "\n",
       "    .dataframe tbody tr th {\n",
       "        vertical-align: top;\n",
       "    }\n",
       "\n",
       "    .dataframe thead th {\n",
       "        text-align: right;\n",
       "    }\n",
       "</style>\n",
       "<table border=\"1\" class=\"dataframe\">\n",
       "  <thead>\n",
       "    <tr style=\"text-align: right;\">\n",
       "      <th></th>\n",
       "      <th>Longitude</th>\n",
       "      <th>Latitude</th>\n",
       "      <th>Epicentre</th>\n",
       "      <th>Time</th>\n",
       "      <th>Magnitude</th>\n",
       "      <th>Date</th>\n",
       "    </tr>\n",
       "  </thead>\n",
       "  <tbody>\n",
       "    <tr>\n",
       "      <th>1</th>\n",
       "      <td>85.49</td>\n",
       "      <td>27.94</td>\n",
       "      <td>Sindhupalchowk</td>\n",
       "      <td>23:51</td>\n",
       "      <td>4.2</td>\n",
       "      <td>2015/06/25</td>\n",
       "    </tr>\n",
       "    <tr>\n",
       "      <th>4</th>\n",
       "      <td>85.75</td>\n",
       "      <td>27.85</td>\n",
       "      <td>Sindhupalchowk</td>\n",
       "      <td>14:59</td>\n",
       "      <td>4.0</td>\n",
       "      <td>2015/06/24</td>\n",
       "    </tr>\n",
       "    <tr>\n",
       "      <th>6</th>\n",
       "      <td>86.00</td>\n",
       "      <td>27.80</td>\n",
       "      <td>Sindhupalchowk</td>\n",
       "      <td>19:26</td>\n",
       "      <td>4.3</td>\n",
       "      <td>2015/06/21</td>\n",
       "    </tr>\n",
       "    <tr>\n",
       "      <th>12</th>\n",
       "      <td>85.58</td>\n",
       "      <td>27.90</td>\n",
       "      <td>Sindhupalchowk</td>\n",
       "      <td>06:26</td>\n",
       "      <td>4.0</td>\n",
       "      <td>2015/06/17</td>\n",
       "    </tr>\n",
       "    <tr>\n",
       "      <th>13</th>\n",
       "      <td>85.59</td>\n",
       "      <td>27.91</td>\n",
       "      <td>Sindhupalchowk</td>\n",
       "      <td>06:14</td>\n",
       "      <td>5.2</td>\n",
       "      <td>2015/06/17</td>\n",
       "    </tr>\n",
       "    <tr>\n",
       "      <th>15</th>\n",
       "      <td>85.72</td>\n",
       "      <td>27.86</td>\n",
       "      <td>Sindhupalchowk</td>\n",
       "      <td>07:41</td>\n",
       "      <td>4.3</td>\n",
       "      <td>2015/12/31</td>\n",
       "    </tr>\n",
       "  </tbody>\n",
       "</table>\n",
       "</div>"
      ],
      "text/plain": [
       "    Longitude  Latitude       Epicentre   Time  Magnitude        Date\n",
       "1       85.49     27.94  Sindhupalchowk  23:51        4.2  2015/06/25\n",
       "4       85.75     27.85  Sindhupalchowk  14:59        4.0  2015/06/24\n",
       "6       86.00     27.80  Sindhupalchowk  19:26        4.3  2015/06/21\n",
       "12      85.58     27.90  Sindhupalchowk  06:26        4.0  2015/06/17\n",
       "13      85.59     27.91  Sindhupalchowk  06:14        5.2  2015/06/17\n",
       "15      85.72     27.86  Sindhupalchowk  07:41        4.3  2015/12/31"
      ]
     },
     "execution_count": 53,
     "metadata": {},
     "output_type": "execute_result"
    }
   ],
   "source": [
    "data[data.Epicentre.str.contains(r'^[KGB].*[kea]$')]#.head()  'end=$','start=^'\n",
    "\n",
    "data[data['Epicentre']=='Sindhupalchowk']  #il"
   ]
  },
  {
   "cell_type": "code",
   "execution_count": 54,
   "id": "63bb1d83",
   "metadata": {},
   "outputs": [
    {
     "data": {
      "text/html": [
       "<div>\n",
       "<style scoped>\n",
       "    .dataframe tbody tr th:only-of-type {\n",
       "        vertical-align: middle;\n",
       "    }\n",
       "\n",
       "    .dataframe tbody tr th {\n",
       "        vertical-align: top;\n",
       "    }\n",
       "\n",
       "    .dataframe thead th {\n",
       "        text-align: right;\n",
       "    }\n",
       "</style>\n",
       "<table border=\"1\" class=\"dataframe\">\n",
       "  <thead>\n",
       "    <tr style=\"text-align: right;\">\n",
       "      <th></th>\n",
       "      <th>Longitude</th>\n",
       "      <th>Latitude</th>\n",
       "      <th>Epicentre</th>\n",
       "      <th>Time</th>\n",
       "      <th>Magnitude</th>\n",
       "      <th>Date</th>\n",
       "    </tr>\n",
       "  </thead>\n",
       "  <tbody>\n",
       "    <tr>\n",
       "      <th>0</th>\n",
       "      <td>85.39</td>\n",
       "      <td>27.58</td>\n",
       "      <td>Lalitpur</td>\n",
       "      <td>14:45</td>\n",
       "      <td>4.1</td>\n",
       "      <td>2015/06/26</td>\n",
       "    </tr>\n",
       "    <tr>\n",
       "      <th>1</th>\n",
       "      <td>85.49</td>\n",
       "      <td>27.94</td>\n",
       "      <td>Sindhupalchowk</td>\n",
       "      <td>23:51</td>\n",
       "      <td>4.2</td>\n",
       "      <td>2015/06/25</td>\n",
       "    </tr>\n",
       "    <tr>\n",
       "      <th>2</th>\n",
       "      <td>86.21</td>\n",
       "      <td>27.66</td>\n",
       "      <td>Dolakha</td>\n",
       "      <td>23:49</td>\n",
       "      <td>4.1</td>\n",
       "      <td>2015/06/25</td>\n",
       "    </tr>\n",
       "    <tr>\n",
       "      <th>3</th>\n",
       "      <td>85.17</td>\n",
       "      <td>27.78</td>\n",
       "      <td>Nuwakot</td>\n",
       "      <td>21:07</td>\n",
       "      <td>4.3</td>\n",
       "      <td>2015/06/25</td>\n",
       "    </tr>\n",
       "    <tr>\n",
       "      <th>4</th>\n",
       "      <td>85.75</td>\n",
       "      <td>27.85</td>\n",
       "      <td>Sindhupalchowk</td>\n",
       "      <td>14:59</td>\n",
       "      <td>4.0</td>\n",
       "      <td>2015/06/24</td>\n",
       "    </tr>\n",
       "    <tr>\n",
       "      <th>5</th>\n",
       "      <td>86.17</td>\n",
       "      <td>27.67</td>\n",
       "      <td>Dolakha</td>\n",
       "      <td>13:19</td>\n",
       "      <td>4.0</td>\n",
       "      <td>2015/06/22</td>\n",
       "    </tr>\n",
       "    <tr>\n",
       "      <th>6</th>\n",
       "      <td>86.00</td>\n",
       "      <td>27.80</td>\n",
       "      <td>Sindhupalchowk</td>\n",
       "      <td>19:26</td>\n",
       "      <td>4.3</td>\n",
       "      <td>2015/06/21</td>\n",
       "    </tr>\n",
       "    <tr>\n",
       "      <th>7</th>\n",
       "      <td>84.94</td>\n",
       "      <td>28.17</td>\n",
       "      <td>Gorkha</td>\n",
       "      <td>2:40</td>\n",
       "      <td>4.2</td>\n",
       "      <td>2015/06/20</td>\n",
       "    </tr>\n",
       "    <tr>\n",
       "      <th>8</th>\n",
       "      <td>82.76</td>\n",
       "      <td>28.65</td>\n",
       "      <td>Rukum</td>\n",
       "      <td>12:23</td>\n",
       "      <td>5.4</td>\n",
       "      <td>2015/06/20</td>\n",
       "    </tr>\n",
       "    <tr>\n",
       "      <th>9</th>\n",
       "      <td>84.92</td>\n",
       "      <td>28.26</td>\n",
       "      <td>Gorkha</td>\n",
       "      <td>13:50</td>\n",
       "      <td>4.0</td>\n",
       "      <td>2015/06/19</td>\n",
       "    </tr>\n",
       "    <tr>\n",
       "      <th>10</th>\n",
       "      <td>85.11</td>\n",
       "      <td>28.14</td>\n",
       "      <td>Dhading</td>\n",
       "      <td>8:24</td>\n",
       "      <td>4.1</td>\n",
       "      <td>2015/06/18</td>\n",
       "    </tr>\n",
       "    <tr>\n",
       "      <th>11</th>\n",
       "      <td>85.94</td>\n",
       "      <td>28.27</td>\n",
       "      <td>Tibet</td>\n",
       "      <td>08:00</td>\n",
       "      <td>5.1</td>\n",
       "      <td>2015/06/17</td>\n",
       "    </tr>\n",
       "    <tr>\n",
       "      <th>12</th>\n",
       "      <td>85.58</td>\n",
       "      <td>27.90</td>\n",
       "      <td>Sindhupalchowk</td>\n",
       "      <td>06:26</td>\n",
       "      <td>4.0</td>\n",
       "      <td>2015/06/17</td>\n",
       "    </tr>\n",
       "    <tr>\n",
       "      <th>13</th>\n",
       "      <td>85.59</td>\n",
       "      <td>27.91</td>\n",
       "      <td>Sindhupalchowk</td>\n",
       "      <td>06:14</td>\n",
       "      <td>5.2</td>\n",
       "      <td>2015/06/17</td>\n",
       "    </tr>\n",
       "    <tr>\n",
       "      <th>14</th>\n",
       "      <td>85.28</td>\n",
       "      <td>27.68</td>\n",
       "      <td>Kathmandu</td>\n",
       "      <td>05:58</td>\n",
       "      <td>4.4</td>\n",
       "      <td>2015/06/17</td>\n",
       "    </tr>\n",
       "  </tbody>\n",
       "</table>\n",
       "</div>"
      ],
      "text/plain": [
       "    Longitude  Latitude       Epicentre   Time  Magnitude        Date\n",
       "0       85.39     27.58        Lalitpur  14:45        4.1  2015/06/26\n",
       "1       85.49     27.94  Sindhupalchowk  23:51        4.2  2015/06/25\n",
       "2       86.21     27.66         Dolakha  23:49        4.1  2015/06/25\n",
       "3       85.17     27.78         Nuwakot  21:07        4.3  2015/06/25\n",
       "4       85.75     27.85  Sindhupalchowk  14:59        4.0  2015/06/24\n",
       "5       86.17     27.67         Dolakha  13:19        4.0  2015/06/22\n",
       "6       86.00     27.80  Sindhupalchowk  19:26        4.3  2015/06/21\n",
       "7       84.94     28.17          Gorkha   2:40        4.2  2015/06/20\n",
       "8       82.76     28.65           Rukum  12:23        5.4  2015/06/20\n",
       "9       84.92     28.26          Gorkha  13:50        4.0  2015/06/19\n",
       "10      85.11     28.14         Dhading   8:24        4.1  2015/06/18\n",
       "11      85.94     28.27           Tibet  08:00        5.1  2015/06/17\n",
       "12      85.58     27.90  Sindhupalchowk  06:26        4.0  2015/06/17\n",
       "13      85.59     27.91  Sindhupalchowk  06:14        5.2  2015/06/17\n",
       "14      85.28     27.68       Kathmandu  05:58        4.4  2015/06/17"
      ]
     },
     "execution_count": 54,
     "metadata": {},
     "output_type": "execute_result"
    }
   ],
   "source": [
    "data[data.Date.str.contains(r'.*/[06]+/.*')]"
   ]
  },
  {
   "cell_type": "code",
   "execution_count": 55,
   "id": "ee0d6d7c",
   "metadata": {},
   "outputs": [
    {
     "data": {
      "text/html": [
       "<div>\n",
       "<style scoped>\n",
       "    .dataframe tbody tr th:only-of-type {\n",
       "        vertical-align: middle;\n",
       "    }\n",
       "\n",
       "    .dataframe tbody tr th {\n",
       "        vertical-align: top;\n",
       "    }\n",
       "\n",
       "    .dataframe thead th {\n",
       "        text-align: right;\n",
       "    }\n",
       "</style>\n",
       "<table border=\"1\" class=\"dataframe\">\n",
       "  <thead>\n",
       "    <tr style=\"text-align: right;\">\n",
       "      <th></th>\n",
       "      <th>Longitude</th>\n",
       "      <th>Latitude</th>\n",
       "      <th>Epicentre</th>\n",
       "      <th>Time</th>\n",
       "      <th>Magnitude</th>\n",
       "      <th>Date</th>\n",
       "    </tr>\n",
       "  </thead>\n",
       "  <tbody>\n",
       "    <tr>\n",
       "      <th>0</th>\n",
       "      <td>85.39</td>\n",
       "      <td>27.58</td>\n",
       "      <td>Lalitpur</td>\n",
       "      <td>14:45</td>\n",
       "      <td>4.1</td>\n",
       "      <td>2015/06/26</td>\n",
       "    </tr>\n",
       "    <tr>\n",
       "      <th>1</th>\n",
       "      <td>85.49</td>\n",
       "      <td>27.94</td>\n",
       "      <td>Sindhupalchowk</td>\n",
       "      <td>23:51</td>\n",
       "      <td>4.2</td>\n",
       "      <td>2015/06/25</td>\n",
       "    </tr>\n",
       "    <tr>\n",
       "      <th>2</th>\n",
       "      <td>86.21</td>\n",
       "      <td>27.66</td>\n",
       "      <td>Dolakha</td>\n",
       "      <td>23:49</td>\n",
       "      <td>4.1</td>\n",
       "      <td>2015/06/25</td>\n",
       "    </tr>\n",
       "    <tr>\n",
       "      <th>3</th>\n",
       "      <td>85.17</td>\n",
       "      <td>27.78</td>\n",
       "      <td>Nuwakot</td>\n",
       "      <td>21:07</td>\n",
       "      <td>4.3</td>\n",
       "      <td>2015/06/25</td>\n",
       "    </tr>\n",
       "    <tr>\n",
       "      <th>4</th>\n",
       "      <td>85.75</td>\n",
       "      <td>27.85</td>\n",
       "      <td>Sindhupalchowk</td>\n",
       "      <td>14:59</td>\n",
       "      <td>4.0</td>\n",
       "      <td>2015/06/24</td>\n",
       "    </tr>\n",
       "    <tr>\n",
       "      <th>5</th>\n",
       "      <td>86.17</td>\n",
       "      <td>27.67</td>\n",
       "      <td>Dolakha</td>\n",
       "      <td>13:19</td>\n",
       "      <td>4.0</td>\n",
       "      <td>2015/06/22</td>\n",
       "    </tr>\n",
       "    <tr>\n",
       "      <th>6</th>\n",
       "      <td>86.00</td>\n",
       "      <td>27.80</td>\n",
       "      <td>Sindhupalchowk</td>\n",
       "      <td>19:26</td>\n",
       "      <td>4.3</td>\n",
       "      <td>2015/06/21</td>\n",
       "    </tr>\n",
       "    <tr>\n",
       "      <th>7</th>\n",
       "      <td>84.94</td>\n",
       "      <td>28.17</td>\n",
       "      <td>Gorkha</td>\n",
       "      <td>2:40</td>\n",
       "      <td>4.2</td>\n",
       "      <td>2015/06/20</td>\n",
       "    </tr>\n",
       "    <tr>\n",
       "      <th>8</th>\n",
       "      <td>82.76</td>\n",
       "      <td>28.65</td>\n",
       "      <td>Rukum</td>\n",
       "      <td>12:23</td>\n",
       "      <td>5.4</td>\n",
       "      <td>2015/06/20</td>\n",
       "    </tr>\n",
       "    <tr>\n",
       "      <th>9</th>\n",
       "      <td>84.92</td>\n",
       "      <td>28.26</td>\n",
       "      <td>Gorkha</td>\n",
       "      <td>13:50</td>\n",
       "      <td>4.0</td>\n",
       "      <td>2015/06/19</td>\n",
       "    </tr>\n",
       "    <tr>\n",
       "      <th>10</th>\n",
       "      <td>85.11</td>\n",
       "      <td>28.14</td>\n",
       "      <td>Dhading</td>\n",
       "      <td>8:24</td>\n",
       "      <td>4.1</td>\n",
       "      <td>2015/06/18</td>\n",
       "    </tr>\n",
       "    <tr>\n",
       "      <th>11</th>\n",
       "      <td>85.94</td>\n",
       "      <td>28.27</td>\n",
       "      <td>Tibet</td>\n",
       "      <td>08:00</td>\n",
       "      <td>5.1</td>\n",
       "      <td>2015/06/17</td>\n",
       "    </tr>\n",
       "    <tr>\n",
       "      <th>12</th>\n",
       "      <td>85.58</td>\n",
       "      <td>27.90</td>\n",
       "      <td>Sindhupalchowk</td>\n",
       "      <td>06:26</td>\n",
       "      <td>4.0</td>\n",
       "      <td>2015/06/17</td>\n",
       "    </tr>\n",
       "    <tr>\n",
       "      <th>13</th>\n",
       "      <td>85.59</td>\n",
       "      <td>27.91</td>\n",
       "      <td>Sindhupalchowk</td>\n",
       "      <td>06:14</td>\n",
       "      <td>5.2</td>\n",
       "      <td>2015/06/17</td>\n",
       "    </tr>\n",
       "    <tr>\n",
       "      <th>14</th>\n",
       "      <td>85.28</td>\n",
       "      <td>27.68</td>\n",
       "      <td>Kathmandu</td>\n",
       "      <td>05:58</td>\n",
       "      <td>4.4</td>\n",
       "      <td>2015/06/17</td>\n",
       "    </tr>\n",
       "  </tbody>\n",
       "</table>\n",
       "</div>"
      ],
      "text/plain": [
       "    Longitude  Latitude       Epicentre   Time  Magnitude        Date\n",
       "0       85.39     27.58        Lalitpur  14:45        4.1  2015/06/26\n",
       "1       85.49     27.94  Sindhupalchowk  23:51        4.2  2015/06/25\n",
       "2       86.21     27.66         Dolakha  23:49        4.1  2015/06/25\n",
       "3       85.17     27.78         Nuwakot  21:07        4.3  2015/06/25\n",
       "4       85.75     27.85  Sindhupalchowk  14:59        4.0  2015/06/24\n",
       "5       86.17     27.67         Dolakha  13:19        4.0  2015/06/22\n",
       "6       86.00     27.80  Sindhupalchowk  19:26        4.3  2015/06/21\n",
       "7       84.94     28.17          Gorkha   2:40        4.2  2015/06/20\n",
       "8       82.76     28.65           Rukum  12:23        5.4  2015/06/20\n",
       "9       84.92     28.26          Gorkha  13:50        4.0  2015/06/19\n",
       "10      85.11     28.14         Dhading   8:24        4.1  2015/06/18\n",
       "11      85.94     28.27           Tibet  08:00        5.1  2015/06/17\n",
       "12      85.58     27.90  Sindhupalchowk  06:26        4.0  2015/06/17\n",
       "13      85.59     27.91  Sindhupalchowk  06:14        5.2  2015/06/17\n",
       "14      85.28     27.68       Kathmandu  05:58        4.4  2015/06/17"
      ]
     },
     "execution_count": 55,
     "metadata": {},
     "output_type": "execute_result"
    }
   ],
   "source": [
    "data[data.Date.between('2015/04/25','2015/06/30')]"
   ]
  },
  {
   "cell_type": "code",
   "execution_count": 56,
   "id": "51e6fe86",
   "metadata": {},
   "outputs": [
    {
     "data": {
      "text/html": [
       "<div>\n",
       "<style scoped>\n",
       "    .dataframe tbody tr th:only-of-type {\n",
       "        vertical-align: middle;\n",
       "    }\n",
       "\n",
       "    .dataframe tbody tr th {\n",
       "        vertical-align: top;\n",
       "    }\n",
       "\n",
       "    .dataframe thead th {\n",
       "        text-align: right;\n",
       "    }\n",
       "</style>\n",
       "<table border=\"1\" class=\"dataframe\">\n",
       "  <thead>\n",
       "    <tr style=\"text-align: right;\">\n",
       "      <th></th>\n",
       "      <th>Longitude</th>\n",
       "      <th>Latitude</th>\n",
       "      <th>Epicentre</th>\n",
       "      <th>Time</th>\n",
       "      <th>Magnitude</th>\n",
       "      <th>Date</th>\n",
       "    </tr>\n",
       "  </thead>\n",
       "  <tbody>\n",
       "  </tbody>\n",
       "</table>\n",
       "</div>"
      ],
      "text/plain": [
       "Empty DataFrame\n",
       "Columns: [Longitude, Latitude, Epicentre, Time, Magnitude, Date]\n",
       "Index: []"
      ]
     },
     "execution_count": 56,
     "metadata": {},
     "output_type": "execute_result"
    }
   ],
   "source": [
    "data[data.Date.str.contains(r'/04/26') & data.Epicentre.str.contains(r'Sindhu')]"
   ]
  },
  {
   "cell_type": "code",
   "execution_count": 57,
   "id": "630adbe2",
   "metadata": {},
   "outputs": [],
   "source": [
    "name = 'Tibet, Kathmandu'\n",
    "name2 = name.split(\".\")"
   ]
  },
  {
   "cell_type": "code",
   "execution_count": 58,
   "id": "08b596b5",
   "metadata": {},
   "outputs": [
    {
     "data": {
      "text/plain": [
       "['Tibet', ' Kathmandu']"
      ]
     },
     "execution_count": 58,
     "metadata": {},
     "output_type": "execute_result"
    }
   ],
   "source": [
    "name2[0].split(',')"
   ]
  },
  {
   "cell_type": "code",
   "execution_count": 59,
   "id": "5ba787ef",
   "metadata": {},
   "outputs": [
    {
     "name": "stdout",
     "output_type": "stream",
     "text": [
      "Total values : 16\n"
     ]
    }
   ],
   "source": [
    "data.value_counts()\n",
    "print(\"Total values :\", len(data.value_counts()))"
   ]
  },
  {
   "cell_type": "code",
   "execution_count": 60,
   "id": "19761a97",
   "metadata": {},
   "outputs": [
    {
     "data": {
      "text/plain": [
       "Longitude  Latitude  Epicentre       Time   Magnitude  Date      \n",
       "82.76      28.65     Rukum           12:23  5.4        2015/06/20    1\n",
       "84.92      28.26     Gorkha          13:50  4.0        2015/06/19    1\n",
       "84.94      28.17     Gorkha          2:40   4.2        2015/06/20    1\n",
       "85.11      28.14     Dhading         8:24   4.1        2015/06/18    1\n",
       "85.17      27.78     Nuwakot         21:07  4.3        2015/06/25    1\n",
       "85.28      27.68     Kathmandu       05:58  4.4        2015/06/17    1\n",
       "85.39      27.58     Lalitpur        14:45  4.1        2015/06/26    1\n",
       "85.49      27.94     Sindhupalchowk  23:51  4.2        2015/06/25    1\n",
       "85.58      27.90     Sindhupalchowk  06:26  4.0        2015/06/17    1\n",
       "85.59      27.91     Sindhupalchowk  06:14  5.2        2015/06/17    1\n",
       "85.72      27.86     Sindhupalchowk  07:41  4.3        2015/12/31    1\n",
       "85.75      27.85     Sindhupalchowk  14:59  4.0        2015/06/24    1\n",
       "85.94      28.27     Tibet           08:00  5.1        2015/06/17    1\n",
       "86.00      27.80     Sindhupalchowk  19:26  4.3        2015/06/21    1\n",
       "86.17      27.67     Dolakha         13:19  4.0        2015/06/22    1\n",
       "86.21      27.66     Dolakha         23:49  4.1        2015/06/25    1\n",
       "dtype: int64"
      ]
     },
     "execution_count": 60,
     "metadata": {},
     "output_type": "execute_result"
    }
   ],
   "source": [
    "data.value_counts()"
   ]
  },
  {
   "cell_type": "code",
   "execution_count": 61,
   "id": "64f5e0dc",
   "metadata": {},
   "outputs": [],
   "source": [
    "def split_it(data):\n",
    "    return re.findall(\"\\w+\\.\",data)[0]"
   ]
  },
  {
   "cell_type": "code",
   "execution_count": 62,
   "id": "cb372001",
   "metadata": {},
   "outputs": [
    {
     "data": {
      "text/plain": [
       "16"
      ]
     },
     "execution_count": 62,
     "metadata": {},
     "output_type": "execute_result"
    }
   ],
   "source": [
    "len(data.Latitude)"
   ]
  },
  {
   "cell_type": "code",
   "execution_count": 63,
   "id": "e7dc90fc",
   "metadata": {},
   "outputs": [],
   "source": [
    "mag = data[data.Magnitude>=4]"
   ]
  },
  {
   "cell_type": "code",
   "execution_count": 64,
   "id": "296dd041",
   "metadata": {},
   "outputs": [
    {
     "data": {
      "text/html": [
       "<div>\n",
       "<style scoped>\n",
       "    .dataframe tbody tr th:only-of-type {\n",
       "        vertical-align: middle;\n",
       "    }\n",
       "\n",
       "    .dataframe tbody tr th {\n",
       "        vertical-align: top;\n",
       "    }\n",
       "\n",
       "    .dataframe thead th {\n",
       "        text-align: right;\n",
       "    }\n",
       "</style>\n",
       "<table border=\"1\" class=\"dataframe\">\n",
       "  <thead>\n",
       "    <tr style=\"text-align: right;\">\n",
       "      <th></th>\n",
       "      <th>Longitude</th>\n",
       "      <th>Latitude</th>\n",
       "      <th>Epicentre</th>\n",
       "      <th>Time</th>\n",
       "      <th>Magnitude</th>\n",
       "      <th>Date</th>\n",
       "    </tr>\n",
       "  </thead>\n",
       "  <tbody>\n",
       "    <tr>\n",
       "      <th>1</th>\n",
       "      <td>85.49</td>\n",
       "      <td>27.94</td>\n",
       "      <td>Sindhupalchowk</td>\n",
       "      <td>23:51</td>\n",
       "      <td>4.2</td>\n",
       "      <td>2015/06/25</td>\n",
       "    </tr>\n",
       "    <tr>\n",
       "      <th>4</th>\n",
       "      <td>85.75</td>\n",
       "      <td>27.85</td>\n",
       "      <td>Sindhupalchowk</td>\n",
       "      <td>14:59</td>\n",
       "      <td>4.0</td>\n",
       "      <td>2015/06/24</td>\n",
       "    </tr>\n",
       "    <tr>\n",
       "      <th>6</th>\n",
       "      <td>86.00</td>\n",
       "      <td>27.80</td>\n",
       "      <td>Sindhupalchowk</td>\n",
       "      <td>19:26</td>\n",
       "      <td>4.3</td>\n",
       "      <td>2015/06/21</td>\n",
       "    </tr>\n",
       "    <tr>\n",
       "      <th>12</th>\n",
       "      <td>85.58</td>\n",
       "      <td>27.90</td>\n",
       "      <td>Sindhupalchowk</td>\n",
       "      <td>06:26</td>\n",
       "      <td>4.0</td>\n",
       "      <td>2015/06/17</td>\n",
       "    </tr>\n",
       "    <tr>\n",
       "      <th>13</th>\n",
       "      <td>85.59</td>\n",
       "      <td>27.91</td>\n",
       "      <td>Sindhupalchowk</td>\n",
       "      <td>06:14</td>\n",
       "      <td>5.2</td>\n",
       "      <td>2015/06/17</td>\n",
       "    </tr>\n",
       "    <tr>\n",
       "      <th>15</th>\n",
       "      <td>85.72</td>\n",
       "      <td>27.86</td>\n",
       "      <td>Sindhupalchowk</td>\n",
       "      <td>07:41</td>\n",
       "      <td>4.3</td>\n",
       "      <td>2015/12/31</td>\n",
       "    </tr>\n",
       "  </tbody>\n",
       "</table>\n",
       "</div>"
      ],
      "text/plain": [
       "    Longitude  Latitude       Epicentre   Time  Magnitude        Date\n",
       "1       85.49     27.94  Sindhupalchowk  23:51        4.2  2015/06/25\n",
       "4       85.75     27.85  Sindhupalchowk  14:59        4.0  2015/06/24\n",
       "6       86.00     27.80  Sindhupalchowk  19:26        4.3  2015/06/21\n",
       "12      85.58     27.90  Sindhupalchowk  06:26        4.0  2015/06/17\n",
       "13      85.59     27.91  Sindhupalchowk  06:14        5.2  2015/06/17\n",
       "15      85.72     27.86  Sindhupalchowk  07:41        4.3  2015/12/31"
      ]
     },
     "execution_count": 64,
     "metadata": {},
     "output_type": "execute_result"
    }
   ],
   "source": [
    "mag[mag.Epicentre.str.startswith('S')]"
   ]
  },
  {
   "cell_type": "code",
   "execution_count": 65,
   "id": "d6a7885d",
   "metadata": {},
   "outputs": [
    {
     "data": {
      "text/html": [
       "<div>\n",
       "<style scoped>\n",
       "    .dataframe tbody tr th:only-of-type {\n",
       "        vertical-align: middle;\n",
       "    }\n",
       "\n",
       "    .dataframe tbody tr th {\n",
       "        vertical-align: top;\n",
       "    }\n",
       "\n",
       "    .dataframe thead th {\n",
       "        text-align: right;\n",
       "    }\n",
       "</style>\n",
       "<table border=\"1\" class=\"dataframe\">\n",
       "  <thead>\n",
       "    <tr style=\"text-align: right;\">\n",
       "      <th></th>\n",
       "      <th>Longitude</th>\n",
       "      <th>Latitude</th>\n",
       "      <th>Epicentre</th>\n",
       "      <th>Time</th>\n",
       "      <th>Magnitude</th>\n",
       "      <th>Date</th>\n",
       "    </tr>\n",
       "  </thead>\n",
       "  <tbody>\n",
       "    <tr>\n",
       "      <th>2</th>\n",
       "      <td>86.21</td>\n",
       "      <td>27.66</td>\n",
       "      <td>Dolakha</td>\n",
       "      <td>23:49</td>\n",
       "      <td>4.1</td>\n",
       "      <td>2015/06/25</td>\n",
       "    </tr>\n",
       "    <tr>\n",
       "      <th>5</th>\n",
       "      <td>86.17</td>\n",
       "      <td>27.67</td>\n",
       "      <td>Dolakha</td>\n",
       "      <td>13:19</td>\n",
       "      <td>4.0</td>\n",
       "      <td>2015/06/22</td>\n",
       "    </tr>\n",
       "    <tr>\n",
       "      <th>7</th>\n",
       "      <td>84.94</td>\n",
       "      <td>28.17</td>\n",
       "      <td>Gorkha</td>\n",
       "      <td>2:40</td>\n",
       "      <td>4.2</td>\n",
       "      <td>2015/06/20</td>\n",
       "    </tr>\n",
       "    <tr>\n",
       "      <th>9</th>\n",
       "      <td>84.92</td>\n",
       "      <td>28.26</td>\n",
       "      <td>Gorkha</td>\n",
       "      <td>13:50</td>\n",
       "      <td>4.0</td>\n",
       "      <td>2015/06/19</td>\n",
       "    </tr>\n",
       "  </tbody>\n",
       "</table>\n",
       "</div>"
      ],
      "text/plain": [
       "   Longitude  Latitude Epicentre   Time  Magnitude        Date\n",
       "2      86.21     27.66   Dolakha  23:49        4.1  2015/06/25\n",
       "5      86.17     27.67   Dolakha  13:19        4.0  2015/06/22\n",
       "7      84.94     28.17    Gorkha   2:40        4.2  2015/06/20\n",
       "9      84.92     28.26    Gorkha  13:50        4.0  2015/06/19"
      ]
     },
     "execution_count": 65,
     "metadata": {},
     "output_type": "execute_result"
    }
   ],
   "source": [
    "data[data['Epicentre'].str.endswith('a')]"
   ]
  },
  {
   "cell_type": "code",
   "execution_count": 67,
   "id": "2b02820d",
   "metadata": {},
   "outputs": [
    {
     "data": {
      "text/plain": [
       "16"
      ]
     },
     "execution_count": 67,
     "metadata": {},
     "output_type": "execute_result"
    }
   ],
   "source": [
    "len(data.Latitude)"
   ]
  },
  {
   "cell_type": "code",
   "execution_count": null,
   "id": "c30b3616",
   "metadata": {},
   "outputs": [],
   "source": [
    "len(data)"
   ]
  },
  {
   "cell_type": "code",
   "execution_count": 68,
   "id": "a43bdf96",
   "metadata": {},
   "outputs": [
    {
     "name": "stdout",
     "output_type": "stream",
     "text": [
      "<class 'pandas.core.frame.DataFrame'>\n",
      "RangeIndex: 16 entries, 0 to 15\n",
      "Data columns (total 6 columns):\n",
      " #   Column     Non-Null Count  Dtype  \n",
      "---  ------     --------------  -----  \n",
      " 0   Longitude  16 non-null     float64\n",
      " 1   Latitude   16 non-null     float64\n",
      " 2   Epicentre  16 non-null     object \n",
      " 3   Time       16 non-null     object \n",
      " 4   Magnitude  16 non-null     float64\n",
      " 5   Date       16 non-null     object \n",
      "dtypes: float64(3), object(3)\n",
      "memory usage: 896.0+ bytes\n"
     ]
    }
   ],
   "source": [
    "data.info()"
   ]
  },
  {
   "cell_type": "code",
   "execution_count": 69,
   "id": "80ba04fc",
   "metadata": {},
   "outputs": [
    {
     "ename": "NameError",
     "evalue": "name 'Latitude' is not defined",
     "output_type": "error",
     "traceback": [
      "\u001b[1;31m---------------------------------------------------------------------------\u001b[0m",
      "\u001b[1;31mNameError\u001b[0m                                 Traceback (most recent call last)",
      "\u001b[1;32m<ipython-input-69-f83b78ac4df9>\u001b[0m in \u001b[0;36m<module>\u001b[1;34m\u001b[0m\n\u001b[1;32m----> 1\u001b[1;33m \u001b[0mdata\u001b[0m\u001b[1;33m[\u001b[0m\u001b[0mdata\u001b[0m\u001b[1;33m(\u001b[0m\u001b[0mLatitude\u001b[0m\u001b[1;33m.\u001b[0m\u001b[0mstr\u001b[0m\u001b[1;33m.\u001b[0m\u001b[0mcontains\u001b[0m\u001b[1;33m(\u001b[0m\u001b[1;34m'.'\u001b[0m\u001b[1;33m)\u001b[0m\u001b[1;33m)\u001b[0m\u001b[1;33m]\u001b[0m\u001b[1;33m\u001b[0m\u001b[1;33m\u001b[0m\u001b[0m\n\u001b[0m",
      "\u001b[1;31mNameError\u001b[0m: name 'Latitude' is not defined"
     ]
    }
   ],
   "source": [
    "data[data(Latitude.str.contains('.'))]"
   ]
  },
  {
   "cell_type": "code",
   "execution_count": 70,
   "id": "5f56cfde",
   "metadata": {},
   "outputs": [
    {
     "ename": "AttributeError",
     "evalue": "Can only use .str accessor with string values!",
     "output_type": "error",
     "traceback": [
      "\u001b[1;31m---------------------------------------------------------------------------\u001b[0m",
      "\u001b[1;31mAttributeError\u001b[0m                            Traceback (most recent call last)",
      "\u001b[1;32m<ipython-input-70-f03d9a4a854b>\u001b[0m in \u001b[0;36m<module>\u001b[1;34m\u001b[0m\n\u001b[1;32m----> 1\u001b[1;33m \u001b[0mdata\u001b[0m\u001b[1;33m[\u001b[0m\u001b[0mdata\u001b[0m\u001b[1;33m.\u001b[0m\u001b[0mLatitude\u001b[0m\u001b[1;33m.\u001b[0m\u001b[0mstr\u001b[0m\u001b[1;33m.\u001b[0m\u001b[0mcontains\u001b[0m\u001b[1;33m(\u001b[0m\u001b[1;34mr'\\.'\u001b[0m\u001b[1;33m)\u001b[0m\u001b[1;33m]\u001b[0m\u001b[1;33m\u001b[0m\u001b[1;33m\u001b[0m\u001b[0m\n\u001b[0m",
      "\u001b[1;32mD:\\Other\\anaconda\\lib\\site-packages\\pandas\\core\\generic.py\u001b[0m in \u001b[0;36m__getattr__\u001b[1;34m(self, name)\u001b[0m\n\u001b[0;32m   5459\u001b[0m             \u001b[1;32mor\u001b[0m \u001b[0mname\u001b[0m \u001b[1;32min\u001b[0m \u001b[0mself\u001b[0m\u001b[1;33m.\u001b[0m\u001b[0m_accessors\u001b[0m\u001b[1;33m\u001b[0m\u001b[1;33m\u001b[0m\u001b[0m\n\u001b[0;32m   5460\u001b[0m         ):\n\u001b[1;32m-> 5461\u001b[1;33m             \u001b[1;32mreturn\u001b[0m \u001b[0mobject\u001b[0m\u001b[1;33m.\u001b[0m\u001b[0m__getattribute__\u001b[0m\u001b[1;33m(\u001b[0m\u001b[0mself\u001b[0m\u001b[1;33m,\u001b[0m \u001b[0mname\u001b[0m\u001b[1;33m)\u001b[0m\u001b[1;33m\u001b[0m\u001b[1;33m\u001b[0m\u001b[0m\n\u001b[0m\u001b[0;32m   5462\u001b[0m         \u001b[1;32melse\u001b[0m\u001b[1;33m:\u001b[0m\u001b[1;33m\u001b[0m\u001b[1;33m\u001b[0m\u001b[0m\n\u001b[0;32m   5463\u001b[0m             \u001b[1;32mif\u001b[0m \u001b[0mself\u001b[0m\u001b[1;33m.\u001b[0m\u001b[0m_info_axis\u001b[0m\u001b[1;33m.\u001b[0m\u001b[0m_can_hold_identifiers_and_holds_name\u001b[0m\u001b[1;33m(\u001b[0m\u001b[0mname\u001b[0m\u001b[1;33m)\u001b[0m\u001b[1;33m:\u001b[0m\u001b[1;33m\u001b[0m\u001b[1;33m\u001b[0m\u001b[0m\n",
      "\u001b[1;32mD:\\Other\\anaconda\\lib\\site-packages\\pandas\\core\\accessor.py\u001b[0m in \u001b[0;36m__get__\u001b[1;34m(self, obj, cls)\u001b[0m\n\u001b[0;32m    178\u001b[0m             \u001b[1;31m# we're accessing the attribute of the class, i.e., Dataset.geo\u001b[0m\u001b[1;33m\u001b[0m\u001b[1;33m\u001b[0m\u001b[1;33m\u001b[0m\u001b[0m\n\u001b[0;32m    179\u001b[0m             \u001b[1;32mreturn\u001b[0m \u001b[0mself\u001b[0m\u001b[1;33m.\u001b[0m\u001b[0m_accessor\u001b[0m\u001b[1;33m\u001b[0m\u001b[1;33m\u001b[0m\u001b[0m\n\u001b[1;32m--> 180\u001b[1;33m         \u001b[0maccessor_obj\u001b[0m \u001b[1;33m=\u001b[0m \u001b[0mself\u001b[0m\u001b[1;33m.\u001b[0m\u001b[0m_accessor\u001b[0m\u001b[1;33m(\u001b[0m\u001b[0mobj\u001b[0m\u001b[1;33m)\u001b[0m\u001b[1;33m\u001b[0m\u001b[1;33m\u001b[0m\u001b[0m\n\u001b[0m\u001b[0;32m    181\u001b[0m         \u001b[1;31m# Replace the property with the accessor object. Inspired by:\u001b[0m\u001b[1;33m\u001b[0m\u001b[1;33m\u001b[0m\u001b[1;33m\u001b[0m\u001b[0m\n\u001b[0;32m    182\u001b[0m         \u001b[1;31m# https://www.pydanny.com/cached-property.html\u001b[0m\u001b[1;33m\u001b[0m\u001b[1;33m\u001b[0m\u001b[1;33m\u001b[0m\u001b[0m\n",
      "\u001b[1;32mD:\\Other\\anaconda\\lib\\site-packages\\pandas\\core\\strings\\accessor.py\u001b[0m in \u001b[0;36m__init__\u001b[1;34m(self, data)\u001b[0m\n\u001b[0;32m    152\u001b[0m         \u001b[1;32mfrom\u001b[0m \u001b[0mpandas\u001b[0m\u001b[1;33m.\u001b[0m\u001b[0mcore\u001b[0m\u001b[1;33m.\u001b[0m\u001b[0marrays\u001b[0m\u001b[1;33m.\u001b[0m\u001b[0mstring_\u001b[0m \u001b[1;32mimport\u001b[0m \u001b[0mStringDtype\u001b[0m\u001b[1;33m\u001b[0m\u001b[1;33m\u001b[0m\u001b[0m\n\u001b[0;32m    153\u001b[0m \u001b[1;33m\u001b[0m\u001b[0m\n\u001b[1;32m--> 154\u001b[1;33m         \u001b[0mself\u001b[0m\u001b[1;33m.\u001b[0m\u001b[0m_inferred_dtype\u001b[0m \u001b[1;33m=\u001b[0m \u001b[0mself\u001b[0m\u001b[1;33m.\u001b[0m\u001b[0m_validate\u001b[0m\u001b[1;33m(\u001b[0m\u001b[0mdata\u001b[0m\u001b[1;33m)\u001b[0m\u001b[1;33m\u001b[0m\u001b[1;33m\u001b[0m\u001b[0m\n\u001b[0m\u001b[0;32m    155\u001b[0m         \u001b[0mself\u001b[0m\u001b[1;33m.\u001b[0m\u001b[0m_is_categorical\u001b[0m \u001b[1;33m=\u001b[0m \u001b[0mis_categorical_dtype\u001b[0m\u001b[1;33m(\u001b[0m\u001b[0mdata\u001b[0m\u001b[1;33m.\u001b[0m\u001b[0mdtype\u001b[0m\u001b[1;33m)\u001b[0m\u001b[1;33m\u001b[0m\u001b[1;33m\u001b[0m\u001b[0m\n\u001b[0;32m    156\u001b[0m         \u001b[0mself\u001b[0m\u001b[1;33m.\u001b[0m\u001b[0m_is_string\u001b[0m \u001b[1;33m=\u001b[0m \u001b[0misinstance\u001b[0m\u001b[1;33m(\u001b[0m\u001b[0mdata\u001b[0m\u001b[1;33m.\u001b[0m\u001b[0mdtype\u001b[0m\u001b[1;33m,\u001b[0m \u001b[0mStringDtype\u001b[0m\u001b[1;33m)\u001b[0m\u001b[1;33m\u001b[0m\u001b[1;33m\u001b[0m\u001b[0m\n",
      "\u001b[1;32mD:\\Other\\anaconda\\lib\\site-packages\\pandas\\core\\strings\\accessor.py\u001b[0m in \u001b[0;36m_validate\u001b[1;34m(data)\u001b[0m\n\u001b[0;32m    215\u001b[0m \u001b[1;33m\u001b[0m\u001b[0m\n\u001b[0;32m    216\u001b[0m         \u001b[1;32mif\u001b[0m \u001b[0minferred_dtype\u001b[0m \u001b[1;32mnot\u001b[0m \u001b[1;32min\u001b[0m \u001b[0mallowed_types\u001b[0m\u001b[1;33m:\u001b[0m\u001b[1;33m\u001b[0m\u001b[1;33m\u001b[0m\u001b[0m\n\u001b[1;32m--> 217\u001b[1;33m             \u001b[1;32mraise\u001b[0m \u001b[0mAttributeError\u001b[0m\u001b[1;33m(\u001b[0m\u001b[1;34m\"Can only use .str accessor with string values!\"\u001b[0m\u001b[1;33m)\u001b[0m\u001b[1;33m\u001b[0m\u001b[1;33m\u001b[0m\u001b[0m\n\u001b[0m\u001b[0;32m    218\u001b[0m         \u001b[1;32mreturn\u001b[0m \u001b[0minferred_dtype\u001b[0m\u001b[1;33m\u001b[0m\u001b[1;33m\u001b[0m\u001b[0m\n\u001b[0;32m    219\u001b[0m \u001b[1;33m\u001b[0m\u001b[0m\n",
      "\u001b[1;31mAttributeError\u001b[0m: Can only use .str accessor with string values!"
     ]
    }
   ],
   "source": [
    "data[data.Latitude.str.contains(r'\\.')]"
   ]
  },
  {
   "cell_type": "code",
   "execution_count": 71,
   "id": "40e339e1",
   "metadata": {},
   "outputs": [
    {
     "ename": "AttributeError",
     "evalue": "Can only use .str accessor with string values!",
     "output_type": "error",
     "traceback": [
      "\u001b[1;31m---------------------------------------------------------------------------\u001b[0m",
      "\u001b[1;31mAttributeError\u001b[0m                            Traceback (most recent call last)",
      "\u001b[1;32m<ipython-input-71-bd8cb1d764dd>\u001b[0m in \u001b[0;36m<module>\u001b[1;34m\u001b[0m\n\u001b[1;32m----> 1\u001b[1;33m \u001b[0mdata\u001b[0m\u001b[1;33m[\u001b[0m\u001b[1;33m~\u001b[0m\u001b[0mdata\u001b[0m\u001b[1;33m.\u001b[0m\u001b[0mLatitude\u001b[0m\u001b[1;33m.\u001b[0m\u001b[0mstr\u001b[0m\u001b[1;33m.\u001b[0m\u001b[0mcontains\u001b[0m\u001b[1;33m(\u001b[0m\u001b[1;34m'\\.'\u001b[0m\u001b[1;33m)\u001b[0m\u001b[1;33m]\u001b[0m\u001b[1;33m\u001b[0m\u001b[1;33m\u001b[0m\u001b[0m\n\u001b[0m",
      "\u001b[1;32mD:\\Other\\anaconda\\lib\\site-packages\\pandas\\core\\generic.py\u001b[0m in \u001b[0;36m__getattr__\u001b[1;34m(self, name)\u001b[0m\n\u001b[0;32m   5459\u001b[0m             \u001b[1;32mor\u001b[0m \u001b[0mname\u001b[0m \u001b[1;32min\u001b[0m \u001b[0mself\u001b[0m\u001b[1;33m.\u001b[0m\u001b[0m_accessors\u001b[0m\u001b[1;33m\u001b[0m\u001b[1;33m\u001b[0m\u001b[0m\n\u001b[0;32m   5460\u001b[0m         ):\n\u001b[1;32m-> 5461\u001b[1;33m             \u001b[1;32mreturn\u001b[0m \u001b[0mobject\u001b[0m\u001b[1;33m.\u001b[0m\u001b[0m__getattribute__\u001b[0m\u001b[1;33m(\u001b[0m\u001b[0mself\u001b[0m\u001b[1;33m,\u001b[0m \u001b[0mname\u001b[0m\u001b[1;33m)\u001b[0m\u001b[1;33m\u001b[0m\u001b[1;33m\u001b[0m\u001b[0m\n\u001b[0m\u001b[0;32m   5462\u001b[0m         \u001b[1;32melse\u001b[0m\u001b[1;33m:\u001b[0m\u001b[1;33m\u001b[0m\u001b[1;33m\u001b[0m\u001b[0m\n\u001b[0;32m   5463\u001b[0m             \u001b[1;32mif\u001b[0m \u001b[0mself\u001b[0m\u001b[1;33m.\u001b[0m\u001b[0m_info_axis\u001b[0m\u001b[1;33m.\u001b[0m\u001b[0m_can_hold_identifiers_and_holds_name\u001b[0m\u001b[1;33m(\u001b[0m\u001b[0mname\u001b[0m\u001b[1;33m)\u001b[0m\u001b[1;33m:\u001b[0m\u001b[1;33m\u001b[0m\u001b[1;33m\u001b[0m\u001b[0m\n",
      "\u001b[1;32mD:\\Other\\anaconda\\lib\\site-packages\\pandas\\core\\accessor.py\u001b[0m in \u001b[0;36m__get__\u001b[1;34m(self, obj, cls)\u001b[0m\n\u001b[0;32m    178\u001b[0m             \u001b[1;31m# we're accessing the attribute of the class, i.e., Dataset.geo\u001b[0m\u001b[1;33m\u001b[0m\u001b[1;33m\u001b[0m\u001b[1;33m\u001b[0m\u001b[0m\n\u001b[0;32m    179\u001b[0m             \u001b[1;32mreturn\u001b[0m \u001b[0mself\u001b[0m\u001b[1;33m.\u001b[0m\u001b[0m_accessor\u001b[0m\u001b[1;33m\u001b[0m\u001b[1;33m\u001b[0m\u001b[0m\n\u001b[1;32m--> 180\u001b[1;33m         \u001b[0maccessor_obj\u001b[0m \u001b[1;33m=\u001b[0m \u001b[0mself\u001b[0m\u001b[1;33m.\u001b[0m\u001b[0m_accessor\u001b[0m\u001b[1;33m(\u001b[0m\u001b[0mobj\u001b[0m\u001b[1;33m)\u001b[0m\u001b[1;33m\u001b[0m\u001b[1;33m\u001b[0m\u001b[0m\n\u001b[0m\u001b[0;32m    181\u001b[0m         \u001b[1;31m# Replace the property with the accessor object. Inspired by:\u001b[0m\u001b[1;33m\u001b[0m\u001b[1;33m\u001b[0m\u001b[1;33m\u001b[0m\u001b[0m\n\u001b[0;32m    182\u001b[0m         \u001b[1;31m# https://www.pydanny.com/cached-property.html\u001b[0m\u001b[1;33m\u001b[0m\u001b[1;33m\u001b[0m\u001b[1;33m\u001b[0m\u001b[0m\n",
      "\u001b[1;32mD:\\Other\\anaconda\\lib\\site-packages\\pandas\\core\\strings\\accessor.py\u001b[0m in \u001b[0;36m__init__\u001b[1;34m(self, data)\u001b[0m\n\u001b[0;32m    152\u001b[0m         \u001b[1;32mfrom\u001b[0m \u001b[0mpandas\u001b[0m\u001b[1;33m.\u001b[0m\u001b[0mcore\u001b[0m\u001b[1;33m.\u001b[0m\u001b[0marrays\u001b[0m\u001b[1;33m.\u001b[0m\u001b[0mstring_\u001b[0m \u001b[1;32mimport\u001b[0m \u001b[0mStringDtype\u001b[0m\u001b[1;33m\u001b[0m\u001b[1;33m\u001b[0m\u001b[0m\n\u001b[0;32m    153\u001b[0m \u001b[1;33m\u001b[0m\u001b[0m\n\u001b[1;32m--> 154\u001b[1;33m         \u001b[0mself\u001b[0m\u001b[1;33m.\u001b[0m\u001b[0m_inferred_dtype\u001b[0m \u001b[1;33m=\u001b[0m \u001b[0mself\u001b[0m\u001b[1;33m.\u001b[0m\u001b[0m_validate\u001b[0m\u001b[1;33m(\u001b[0m\u001b[0mdata\u001b[0m\u001b[1;33m)\u001b[0m\u001b[1;33m\u001b[0m\u001b[1;33m\u001b[0m\u001b[0m\n\u001b[0m\u001b[0;32m    155\u001b[0m         \u001b[0mself\u001b[0m\u001b[1;33m.\u001b[0m\u001b[0m_is_categorical\u001b[0m \u001b[1;33m=\u001b[0m \u001b[0mis_categorical_dtype\u001b[0m\u001b[1;33m(\u001b[0m\u001b[0mdata\u001b[0m\u001b[1;33m.\u001b[0m\u001b[0mdtype\u001b[0m\u001b[1;33m)\u001b[0m\u001b[1;33m\u001b[0m\u001b[1;33m\u001b[0m\u001b[0m\n\u001b[0;32m    156\u001b[0m         \u001b[0mself\u001b[0m\u001b[1;33m.\u001b[0m\u001b[0m_is_string\u001b[0m \u001b[1;33m=\u001b[0m \u001b[0misinstance\u001b[0m\u001b[1;33m(\u001b[0m\u001b[0mdata\u001b[0m\u001b[1;33m.\u001b[0m\u001b[0mdtype\u001b[0m\u001b[1;33m,\u001b[0m \u001b[0mStringDtype\u001b[0m\u001b[1;33m)\u001b[0m\u001b[1;33m\u001b[0m\u001b[1;33m\u001b[0m\u001b[0m\n",
      "\u001b[1;32mD:\\Other\\anaconda\\lib\\site-packages\\pandas\\core\\strings\\accessor.py\u001b[0m in \u001b[0;36m_validate\u001b[1;34m(data)\u001b[0m\n\u001b[0;32m    215\u001b[0m \u001b[1;33m\u001b[0m\u001b[0m\n\u001b[0;32m    216\u001b[0m         \u001b[1;32mif\u001b[0m \u001b[0minferred_dtype\u001b[0m \u001b[1;32mnot\u001b[0m \u001b[1;32min\u001b[0m \u001b[0mallowed_types\u001b[0m\u001b[1;33m:\u001b[0m\u001b[1;33m\u001b[0m\u001b[1;33m\u001b[0m\u001b[0m\n\u001b[1;32m--> 217\u001b[1;33m             \u001b[1;32mraise\u001b[0m \u001b[0mAttributeError\u001b[0m\u001b[1;33m(\u001b[0m\u001b[1;34m\"Can only use .str accessor with string values!\"\u001b[0m\u001b[1;33m)\u001b[0m\u001b[1;33m\u001b[0m\u001b[1;33m\u001b[0m\u001b[0m\n\u001b[0m\u001b[0;32m    218\u001b[0m         \u001b[1;32mreturn\u001b[0m \u001b[0minferred_dtype\u001b[0m\u001b[1;33m\u001b[0m\u001b[1;33m\u001b[0m\u001b[0m\n\u001b[0;32m    219\u001b[0m \u001b[1;33m\u001b[0m\u001b[0m\n",
      "\u001b[1;31mAttributeError\u001b[0m: Can only use .str accessor with string values!"
     ]
    }
   ],
   "source": [
    "data[~data.Latitude.str.contains('\\.')]"
   ]
  },
  {
   "cell_type": "code",
   "execution_count": 72,
   "id": "2e66bb11",
   "metadata": {},
   "outputs": [
    {
     "ename": "SyntaxError",
     "evalue": "invalid syntax (<ipython-input-72-b87d7754ab67>, line 1)",
     "output_type": "error",
     "traceback": [
      "\u001b[1;36m  File \u001b[1;32m\"<ipython-input-72-b87d7754ab67>\"\u001b[1;36m, line \u001b[1;32m1\u001b[0m\n\u001b[1;33m    data.[['Longitude','Latitude']].apply(pd.to_numeric)\u001b[0m\n\u001b[1;37m         ^\u001b[0m\n\u001b[1;31mSyntaxError\u001b[0m\u001b[1;31m:\u001b[0m invalid syntax\n"
     ]
    }
   ],
   "source": [
    "data.[['Longitude','Latitude']].apply(pd.to_numeric)"
   ]
  },
  {
   "cell_type": "code",
   "execution_count": null,
   "id": "990b4b9d",
   "metadata": {},
   "outputs": [],
   "source": []
  }
 ],
 "metadata": {
  "kernelspec": {
   "display_name": "Python 3",
   "language": "python",
   "name": "python3"
  },
  "language_info": {
   "codemirror_mode": {
    "name": "ipython",
    "version": 3
   },
   "file_extension": ".py",
   "mimetype": "text/x-python",
   "name": "python",
   "nbconvert_exporter": "python",
   "pygments_lexer": "ipython3",
   "version": "3.8.8"
  }
 },
 "nbformat": 4,
 "nbformat_minor": 5
}
