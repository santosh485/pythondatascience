{
 "cells": [
  {
   "cell_type": "code",
   "execution_count": 1,
   "id": "cec3961b",
   "metadata": {},
   "outputs": [],
   "source": [
    "import datetime"
   ]
  },
  {
   "cell_type": "code",
   "execution_count": 7,
   "id": "036ca43e",
   "metadata": {},
   "outputs": [
    {
     "name": "stdout",
     "output_type": "stream",
     "text": [
      "ctime:  Wed Jul 21 16:40:37 2021\n",
      "Utc Now 2021-07-21 10:55:37.632670\n",
      "time: 16:40:37.631687 >> 16:40:37.631687\n"
     ]
    }
   ],
   "source": [
    "now = datetime.datetime.now()\n",
    "now\n",
    "\"Now :\",str(now)\n",
    "print(\"ctime: \",str(now.ctime()))\n",
    "print('Utc Now',datetime.datetime.utcnow())\n",
    "t = datetime.time(now.hour,now.minute,now.second,now.microsecond)\n",
    "print(\"time:\",t, \">>\",str(t))"
   ]
  },
  {
   "cell_type": "code",
   "execution_count": 8,
   "id": "333fcd43",
   "metadata": {},
   "outputs": [
    {
     "name": "stdout",
     "output_type": "stream",
     "text": [
      "2021-07-21 16:42:16.590425\n",
      "2021-07-21 16:42:16.590425\n",
      "2021-07-21 16:42:16.590425\n",
      "2021-07-21\n",
      "737992\n"
     ]
    }
   ],
   "source": [
    "today = datetime.datetime.today()\n",
    "print(today)\n",
    "print(str(today))\n",
    "print(datetime.datetime.today())\n",
    "print(str(datetime.date.today()))\n",
    "print(today.toordinal())"
   ]
  },
  {
   "cell_type": "code",
   "execution_count": 11,
   "id": "bf207b42",
   "metadata": {},
   "outputs": [
    {
     "name": "stdout",
     "output_type": "stream",
     "text": [
      "Date: 2021-07-21\n"
     ]
    },
    {
     "ename": "NameError",
     "evalue": "name 'pirnt' is not defined",
     "output_type": "error",
     "traceback": [
      "\u001b[1;31m---------------------------------------------------------------------------\u001b[0m",
      "\u001b[1;31mNameError\u001b[0m                                 Traceback (most recent call last)",
      "\u001b[1;32m<ipython-input-11-55b28834dc4d>\u001b[0m in \u001b[0;36m<module>\u001b[1;34m\u001b[0m\n\u001b[0;32m      1\u001b[0m \u001b[0mprint\u001b[0m\u001b[1;33m(\u001b[0m\u001b[1;34m\"Date:\"\u001b[0m\u001b[1;33m,\u001b[0m\u001b[0mstr\u001b[0m\u001b[1;33m(\u001b[0m\u001b[0mtoday\u001b[0m\u001b[1;33m.\u001b[0m\u001b[0mdate\u001b[0m\u001b[1;33m(\u001b[0m\u001b[1;33m)\u001b[0m\u001b[1;33m)\u001b[0m\u001b[1;33m)\u001b[0m\u001b[1;33m\u001b[0m\u001b[1;33m\u001b[0m\u001b[0m\n\u001b[1;32m----> 2\u001b[1;33m \u001b[0mpirnt\u001b[0m\u001b[1;33m(\u001b[0m\u001b[1;34m\"Time: \"\u001b[0m\u001b[1;33m,\u001b[0m\u001b[0mstr\u001b[0m\u001b[1;33m(\u001b[0m\u001b[0mtoday\u001b[0m\u001b[1;33m.\u001b[0m\u001b[0mtime\u001b[0m\u001b[1;33m(\u001b[0m\u001b[1;33m)\u001b[0m\u001b[1;33m)\u001b[0m\u001b[1;33m)\u001b[0m\u001b[1;33m\u001b[0m\u001b[1;33m\u001b[0m\u001b[0m\n\u001b[0m",
      "\u001b[1;31mNameError\u001b[0m: name 'pirnt' is not defined"
     ]
    }
   ],
   "source": [
    "print(\"Date:\",str(today.date()))\n",
    "pirnt(\"Time: \",str(today.time()))"
   ]
  },
  {
   "cell_type": "code",
   "execution_count": 13,
   "id": "099fc92b",
   "metadata": {},
   "outputs": [
    {
     "name": "stdout",
     "output_type": "stream",
     "text": [
      "2021\n",
      "7\n",
      "21\n",
      "16\n",
      "42\n",
      "16\n",
      "2\n",
      "(2021, 29, 3)\n",
      "2021-07-21T16:42:16.590425\n"
     ]
    }
   ],
   "source": [
    "print(today.year)\n",
    "print(today.month)\n",
    "print(today.day)\n",
    "print(today.hour)\n",
    "print(today.minute)\n",
    "print(today.second)\n",
    "print(today.weekday())\n",
    "print(today.isocalendar())\n",
    "print(today.isoformat())"
   ]
  },
  {
   "cell_type": "code",
   "execution_count": 14,
   "id": "f0545823",
   "metadata": {},
   "outputs": [
    {
     "name": "stdout",
     "output_type": "stream",
     "text": [
      "<built-in method timetuple of datetime.datetime object at 0x000001B94B26B960>\n"
     ]
    }
   ],
   "source": [
    "print(today.timetuple)"
   ]
  },
  {
   "cell_type": "code",
   "execution_count": 16,
   "id": "55a29a1a",
   "metadata": {},
   "outputs": [
    {
     "ename": "NameError",
     "evalue": "name 'tt' is not defined",
     "output_type": "error",
     "traceback": [
      "\u001b[1;31m---------------------------------------------------------------------------\u001b[0m",
      "\u001b[1;31mNameError\u001b[0m                                 Traceback (most recent call last)",
      "\u001b[1;32m<ipython-input-16-16db215066be>\u001b[0m in \u001b[0;36m<module>\u001b[1;34m\u001b[0m\n\u001b[1;32m----> 1\u001b[1;33m \u001b[0mtt\u001b[0m \u001b[1;33m==\u001b[0m \u001b[0mtoday\u001b[0m\u001b[1;33m.\u001b[0m\u001b[0mtimetuple\u001b[0m\u001b[1;33m(\u001b[0m\u001b[1;33m)\u001b[0m\u001b[1;33m\u001b[0m\u001b[1;33m\u001b[0m\u001b[0m\n\u001b[0m\u001b[0;32m      2\u001b[0m \u001b[0mprint\u001b[0m\u001b[1;33m(\u001b[0m\u001b[0mtt\u001b[0m\u001b[1;33m.\u001b[0m\u001b[0mtm_year\u001b[0m\u001b[1;33m)\u001b[0m\u001b[1;33m\u001b[0m\u001b[1;33m\u001b[0m\u001b[0m\n",
      "\u001b[1;31mNameError\u001b[0m: name 'tt' is not defined"
     ]
    }
   ],
   "source": [
    "tt == today.timetuple()\n",
    "print(tt.tm_year)"
   ]
  },
  {
   "cell_type": "code",
   "execution_count": 19,
   "id": "7de18906",
   "metadata": {},
   "outputs": [
    {
     "name": "stdout",
     "output_type": "stream",
     "text": [
      "2021-07-21 16:42:16.590425\n"
     ]
    },
    {
     "ename": "NameError",
     "evalue": "name 'days1' is not defined",
     "output_type": "error",
     "traceback": [
      "\u001b[1;31m---------------------------------------------------------------------------\u001b[0m",
      "\u001b[1;31mNameError\u001b[0m                                 Traceback (most recent call last)",
      "\u001b[1;32m<ipython-input-19-f15a27f93387>\u001b[0m in \u001b[0;36m<module>\u001b[1;34m\u001b[0m\n\u001b[0;32m      1\u001b[0m \u001b[0mprint\u001b[0m\u001b[1;33m(\u001b[0m\u001b[0mtoday\u001b[0m\u001b[1;33m)\u001b[0m\u001b[1;33m\u001b[0m\u001b[1;33m\u001b[0m\u001b[0m\n\u001b[1;32m----> 2\u001b[1;33m \u001b[0mprint\u001b[0m\u001b[1;33m(\u001b[0m\u001b[0mtoday\u001b[0m\u001b[1;33m-\u001b[0m\u001b[0mdatetime\u001b[0m\u001b[1;33m.\u001b[0m\u001b[0mtimedelta\u001b[0m\u001b[1;33m(\u001b[0m\u001b[0mdays1\u001b[0m\u001b[1;33m)\u001b[0m\u001b[1;33m)\u001b[0m\u001b[1;33m\u001b[0m\u001b[1;33m\u001b[0m\u001b[0m\n\u001b[0m",
      "\u001b[1;31mNameError\u001b[0m: name 'days1' is not defined"
     ]
    }
   ],
   "source": [
    "print(today)\n",
    "print(today-datetime.timedelta(days1))"
   ]
  },
  {
   "cell_type": "code",
   "execution_count": 20,
   "id": "0ba7fa03",
   "metadata": {},
   "outputs": [
    {
     "name": "stdout",
     "output_type": "stream",
     "text": [
      "2021-04-12 16:42:16.590425\n"
     ]
    }
   ],
   "source": [
    "print(str(today-datetime.timedelta(days=100)))"
   ]
  },
  {
   "cell_type": "code",
   "execution_count": 22,
   "id": "44f4d78a",
   "metadata": {},
   "outputs": [
    {
     "ename": "TypeError",
     "evalue": "'month' is an invalid keyword argument for __new__()",
     "output_type": "error",
     "traceback": [
      "\u001b[1;31m---------------------------------------------------------------------------\u001b[0m",
      "\u001b[1;31mTypeError\u001b[0m                                 Traceback (most recent call last)",
      "\u001b[1;32m<ipython-input-22-966aa3ffc429>\u001b[0m in \u001b[0;36m<module>\u001b[1;34m\u001b[0m\n\u001b[1;32m----> 1\u001b[1;33m \u001b[0mprint\u001b[0m\u001b[1;33m(\u001b[0m\u001b[0mstr\u001b[0m\u001b[1;33m(\u001b[0m\u001b[0mtoday\u001b[0m\u001b[1;33m+\u001b[0m\u001b[0mdatetime\u001b[0m\u001b[1;33m.\u001b[0m\u001b[0mtimedelta\u001b[0m\u001b[1;33m(\u001b[0m\u001b[0mmonth\u001b[0m\u001b[1;33m=\u001b[0m\u001b[1;36m1\u001b[0m\u001b[1;33m)\u001b[0m\u001b[1;33m)\u001b[0m\u001b[1;33m)\u001b[0m\u001b[1;33m\u001b[0m\u001b[1;33m\u001b[0m\u001b[0m\n\u001b[0m",
      "\u001b[1;31mTypeError\u001b[0m: 'month' is an invalid keyword argument for __new__()"
     ]
    }
   ],
   "source": [
    "print(str(today+datetime.timedelta(month=1)))"
   ]
  },
  {
   "cell_type": "code",
   "execution_count": 23,
   "id": "429d33c3",
   "metadata": {},
   "outputs": [],
   "source": [
    "import calendar"
   ]
  },
  {
   "cell_type": "code",
   "execution_count": 28,
   "id": "51059062",
   "metadata": {},
   "outputs": [
    {
     "name": "stdout",
     "output_type": "stream",
     "text": [
      "                   2021\n",
      "\n",
      "      January               February\n",
      "Su Mo Tu We Th Fr Sa  Su Mo Tu We Th Fr Sa\n",
      "                1  2      1  2  3  4  5  6\n",
      " 3  4  5  6  7  8  9   7  8  9 10 11 12 13\n",
      "10 11 12 13 14 15 16  14 15 16 17 18 19 20\n",
      "17 18 19 20 21 22 23  21 22 23 24 25 26 27\n",
      "24 25 26 27 28 29 30  28\n",
      "31\n",
      "\n",
      "       March                 April\n",
      "Su Mo Tu We Th Fr Sa  Su Mo Tu We Th Fr Sa\n",
      "    1  2  3  4  5  6               1  2  3\n",
      " 7  8  9 10 11 12 13   4  5  6  7  8  9 10\n",
      "14 15 16 17 18 19 20  11 12 13 14 15 16 17\n",
      "21 22 23 24 25 26 27  18 19 20 21 22 23 24\n",
      "28 29 30 31           25 26 27 28 29 30\n",
      "\n",
      "        May                   June\n",
      "Su Mo Tu We Th Fr Sa  Su Mo Tu We Th Fr Sa\n",
      "                   1         1  2  3  4  5\n",
      " 2  3  4  5  6  7  8   6  7  8  9 10 11 12\n",
      " 9 10 11 12 13 14 15  13 14 15 16 17 18 19\n",
      "16 17 18 19 20 21 22  20 21 22 23 24 25 26\n",
      "23 24 25 26 27 28 29  27 28 29 30\n",
      "30 31\n",
      "\n",
      "        July                 August\n",
      "Su Mo Tu We Th Fr Sa  Su Mo Tu We Th Fr Sa\n",
      "             1  2  3   1  2  3  4  5  6  7\n",
      " 4  5  6  7  8  9 10   8  9 10 11 12 13 14\n",
      "11 12 13 14 15 16 17  15 16 17 18 19 20 21\n",
      "18 19 20 21 22 23 24  22 23 24 25 26 27 28\n",
      "25 26 27 28 29 30 31  29 30 31\n",
      "\n",
      "     September              October\n",
      "Su Mo Tu We Th Fr Sa  Su Mo Tu We Th Fr Sa\n",
      "          1  2  3  4                  1  2\n",
      " 5  6  7  8  9 10 11   3  4  5  6  7  8  9\n",
      "12 13 14 15 16 17 18  10 11 12 13 14 15 16\n",
      "19 20 21 22 23 24 25  17 18 19 20 21 22 23\n",
      "26 27 28 29 30        24 25 26 27 28 29 30\n",
      "                      31\n",
      "\n",
      "      November              December\n",
      "Su Mo Tu We Th Fr Sa  Su Mo Tu We Th Fr Sa\n",
      "    1  2  3  4  5  6            1  2  3  4\n",
      " 7  8  9 10 11 12 13   5  6  7  8  9 10 11\n",
      "14 15 16 17 18 19 20  12 13 14 15 16 17 18\n",
      "21 22 23 24 25 26 27  19 20 21 22 23 24 25\n",
      "28 29 30              26 27 28 29 30 31\n",
      "\n"
     ]
    }
   ],
   "source": [
    "cal = calendar.TextCalendar(calendar.SUNDAY)\n",
    "print(cal.formatyear(2021, 2, 1, 1, 2))"
   ]
  },
  {
   "cell_type": "code",
   "execution_count": 29,
   "id": "e7cfc6f6",
   "metadata": {},
   "outputs": [
    {
     "name": "stdout",
     "output_type": "stream",
     "text": [
      "    August 2020\n",
      "Su Mo Tu We Th Fr Sa\n",
      "                   1\n",
      " 2  3  4  5  6  7  8\n",
      " 9 10 11 12 13 14 15\n",
      "16 17 18 19 20 21 22\n",
      "23 24 25 26 27 28 29\n",
      "30 31\n",
      "\n"
     ]
    }
   ],
   "source": [
    "print(cal.formatmonth(2020,8))"
   ]
  },
  {
   "cell_type": "code",
   "execution_count": 30,
   "id": "b6a62fcf",
   "metadata": {},
   "outputs": [
    {
     "name": "stdout",
     "output_type": "stream",
     "text": [
      "<table border=\"0\" cellpadding=\"0\" cellspacing=\"0\" class=\"month\">\n",
      "<tr><th colspan=\"7\" class=\"month\">August 2021</th></tr>\n",
      "<tr><th class=\"fri\">Fri</th><th class=\"sat\">Sat</th><th class=\"sun\">Sun</th><th class=\"mon\">Mon</th><th class=\"tue\">Tue</th><th class=\"wed\">Wed</th><th class=\"thu\">Thu</th></tr>\n",
      "<tr><td class=\"noday\">&nbsp;</td><td class=\"noday\">&nbsp;</td><td class=\"sun\">1</td><td class=\"mon\">2</td><td class=\"tue\">3</td><td class=\"wed\">4</td><td class=\"thu\">5</td></tr>\n",
      "<tr><td class=\"fri\">6</td><td class=\"sat\">7</td><td class=\"sun\">8</td><td class=\"mon\">9</td><td class=\"tue\">10</td><td class=\"wed\">11</td><td class=\"thu\">12</td></tr>\n",
      "<tr><td class=\"fri\">13</td><td class=\"sat\">14</td><td class=\"sun\">15</td><td class=\"mon\">16</td><td class=\"tue\">17</td><td class=\"wed\">18</td><td class=\"thu\">19</td></tr>\n",
      "<tr><td class=\"fri\">20</td><td class=\"sat\">21</td><td class=\"sun\">22</td><td class=\"mon\">23</td><td class=\"tue\">24</td><td class=\"wed\">25</td><td class=\"thu\">26</td></tr>\n",
      "<tr><td class=\"fri\">27</td><td class=\"sat\">28</td><td class=\"sun\">29</td><td class=\"mon\">30</td><td class=\"tue\">31</td><td class=\"noday\">&nbsp;</td><td class=\"noday\">&nbsp;</td></tr>\n",
      "</table>\n",
      "\n"
     ]
    }
   ],
   "source": [
    "c = calendar.HTMLCalendar(calendar.FRIDAY)\n",
    "print(c.formatmonth(2021,8))"
   ]
  },
  {
   "cell_type": "code",
   "execution_count": 32,
   "id": "04a350e7",
   "metadata": {},
   "outputs": [],
   "source": [
    "import pprint\n"
   ]
  },
  {
   "cell_type": "code",
   "execution_count": 34,
   "id": "25b0e532",
   "metadata": {},
   "outputs": [
    {
     "ename": "SyntaxError",
     "evalue": "unexpected EOF while parsing (<ipython-input-34-f3d774b9e25f>, line 1)",
     "output_type": "error",
     "traceback": [
      "\u001b[1;36m  File \u001b[1;32m\"<ipython-input-34-f3d774b9e25f>\"\u001b[1;36m, line \u001b[1;32m1\u001b[0m\n\u001b[1;33m    pprint.pprint(calendar.monthcalendar(2018, 2)\u001b[0m\n\u001b[1;37m                                                 ^\u001b[0m\n\u001b[1;31mSyntaxError\u001b[0m\u001b[1;31m:\u001b[0m unexpected EOF while parsing\n"
     ]
    }
   ],
   "source": [
    "pprint.pprint(calendar.monthcalendar(2018, 2)"
   ]
  },
  {
   "cell_type": "code",
   "execution_count": null,
   "id": "d4c9c3e1",
   "metadata": {},
   "outputs": [],
   "source": []
  }
 ],
 "metadata": {
  "kernelspec": {
   "display_name": "Python 3",
   "language": "python",
   "name": "python3"
  },
  "language_info": {
   "codemirror_mode": {
    "name": "ipython",
    "version": 3
   },
   "file_extension": ".py",
   "mimetype": "text/x-python",
   "name": "python",
   "nbconvert_exporter": "python",
   "pygments_lexer": "ipython3",
   "version": "3.8.8"
  }
 },
 "nbformat": 4,
 "nbformat_minor": 5
}
