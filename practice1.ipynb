{
 "cells": [
  {
   "cell_type": "code",
   "execution_count": 1,
   "id": "a1167dac",
   "metadata": {},
   "outputs": [
    {
     "name": "stdout",
     "output_type": "stream",
     "text": [
      "string: C:\\desktop\\santosh\n"
     ]
    }
   ],
   "source": [
    "path = \"C:\\\\desktop\\\\santosh\"\n",
    "print(\"string:\",path)"
   ]
  },
  {
   "cell_type": "code",
   "execution_count": 2,
   "id": "afac46fc",
   "metadata": {},
   "outputs": [
    {
     "name": "stdout",
     "output_type": "stream",
     "text": [
      "raw string C:\\\\desktop\\\\santsh\n"
     ]
    }
   ],
   "source": [
    "path = r\"C:\\\\desktop\\\\santsh\"\n",
    "print(\"raw string\",path)"
   ]
  },
  {
   "cell_type": "code",
   "execution_count": 3,
   "id": "d404578e",
   "metadata": {},
   "outputs": [
    {
     "name": "stdout",
     "output_type": "stream",
     "text": [
      "hi how are you? \n",
      " answer:\n"
     ]
    }
   ],
   "source": [
    "sen = \"hi how are you? \\n answer:\"\n",
    "print(sen)"
   ]
  },
  {
   "cell_type": "code",
   "execution_count": 4,
   "id": "8cd011d2",
   "metadata": {},
   "outputs": [
    {
     "name": "stdout",
     "output_type": "stream",
     "text": [
      "hi how are you? \\n answer:\n"
     ]
    }
   ],
   "source": [
    "sen = r\"hi how are you? \\n answer:\"\n",
    "print(sen)"
   ]
  },
  {
   "cell_type": "code",
   "execution_count": 5,
   "id": "e3dbe411",
   "metadata": {},
   "outputs": [],
   "source": [
    "import re\n"
   ]
  },
  {
   "cell_type": "code",
   "execution_count": 6,
   "id": "405b348c",
   "metadata": {},
   "outputs": [],
   "source": [
    "name=['vivek','aliza','ram','dipesh','pragati','anish','govinda']"
   ]
  },
  {
   "cell_type": "code",
   "execution_count": 7,
   "id": "3b7ae07f",
   "metadata": {},
   "outputs": [
    {
     "data": {
      "text/plain": [
       "7"
      ]
     },
     "execution_count": 7,
     "metadata": {},
     "output_type": "execute_result"
    }
   ],
   "source": [
    "len(name)"
   ]
  },
  {
   "cell_type": "code",
   "execution_count": 8,
   "id": "5ad025b8",
   "metadata": {},
   "outputs": [
    {
     "data": {
      "text/plain": [
       "[5, 5, 3, 6, 7, 5, 7]"
      ]
     },
     "execution_count": 8,
     "metadata": {},
     "output_type": "execute_result"
    }
   ],
   "source": [
    "[len(x) for x in name]"
   ]
  },
  {
   "cell_type": "code",
   "execution_count": 9,
   "id": "fc769fa2",
   "metadata": {},
   "outputs": [
    {
     "data": {
      "text/plain": [
       "[5, 5, 3, 6, 7, 5, 7]"
      ]
     },
     "execution_count": 9,
     "metadata": {},
     "output_type": "execute_result"
    }
   ],
   "source": [
    "list(map(lambda x: len(x),name))"
   ]
  },
  {
   "cell_type": "code",
   "execution_count": 10,
   "id": "3a0342bd",
   "metadata": {},
   "outputs": [
    {
     "data": {
      "text/plain": [
       "['aliza', 'anish']"
      ]
     },
     "execution_count": 10,
     "metadata": {},
     "output_type": "execute_result"
    }
   ],
   "source": [
    "list(filter((lambda x: re.match(r'a', x)),name))"
   ]
  },
  {
   "cell_type": "code",
   "execution_count": 11,
   "id": "5a2e8f14",
   "metadata": {},
   "outputs": [
    {
     "data": {
      "text/plain": [
       "['dipesh', 'anish']"
      ]
     },
     "execution_count": 11,
     "metadata": {},
     "output_type": "execute_result"
    }
   ],
   "source": [
    "list(filter((lambda x: re.match(r'.*sh$', x)),name))"
   ]
  },
  {
   "cell_type": "code",
   "execution_count": 12,
   "id": "73996e64",
   "metadata": {},
   "outputs": [
    {
     "data": {
      "text/plain": [
       "['aliza', 'ram', 'pragati', 'anish', 'govinda']"
      ]
     },
     "execution_count": 12,
     "metadata": {},
     "output_type": "execute_result"
    }
   ],
   "source": [
    "list(filter((lambda x: re.match(r'.*a.*', x)),name))"
   ]
  },
  {
   "cell_type": "code",
   "execution_count": 15,
   "id": "6327b44d",
   "metadata": {},
   "outputs": [
    {
     "data": {
      "text/plain": [
       "['vivek', 'aliza', 'ram', 'anish']"
      ]
     },
     "execution_count": 15,
     "metadata": {},
     "output_type": "execute_result"
    }
   ],
   "source": [
    "list(filter(lambda x: re.match(r'(a|v|r)', x),name))"
   ]
  },
  {
   "cell_type": "code",
   "execution_count": 14,
   "id": "604ee056",
   "metadata": {},
   "outputs": [
    {
     "data": {
      "text/plain": [
       "[<re.Match object; span=(0, 5), match='vivek'>,\n",
       " <re.Match object; span=(0, 5), match='aliza'>,\n",
       " <re.Match object; span=(0, 3), match='ram'>,\n",
       " None,\n",
       " None,\n",
       " <re.Match object; span=(0, 5), match='anish'>,\n",
       " None]"
      ]
     },
     "execution_count": 14,
     "metadata": {},
     "output_type": "execute_result"
    }
   ],
   "source": [
    "list(map(lambda x: re.match(r'(a|v|r).*',x),name))"
   ]
  },
  {
   "cell_type": "code",
   "execution_count": 17,
   "id": "f8a433c3",
   "metadata": {},
   "outputs": [
    {
     "name": "stdout",
     "output_type": "stream",
     "text": [
      "[<re.Match object; span=(0, 5), match='vivek'>, <re.Match object; span=(0, 5), match='aliza'>, <re.Match object; span=(0, 3), match='ram'>, None, None, <re.Match object; span=(0, 5), match='anish'>, None]\n",
      "\n",
      "\n",
      "Total matches : 7\n"
     ]
    }
   ],
   "source": [
    "l = list(map(lambda x: re.match(r'(a|v|r).*', x),name))\n",
    "print(l)\n",
    "print(\"\\n\")\n",
    "print(\"Total matches :\",len(l))"
   ]
  },
  {
   "cell_type": "code",
   "execution_count": 2,
   "id": "bb69e664",
   "metadata": {},
   "outputs": [
    {
     "name": "stdout",
     "output_type": "stream",
     "text": [
      "<re.Match object; span=(0, 6), match='Python'>\n",
      "Python\n"
     ]
    }
   ],
   "source": [
    "import re\n",
    "result = re.match('Python',r'Python and data science, huge group of programmers choose Python')\n",
    "print(result)\n",
    "print(result.group())"
   ]
  },
  {
   "cell_type": "code",
   "execution_count": 19,
   "id": "de207478",
   "metadata": {},
   "outputs": [
    {
     "name": "stdout",
     "output_type": "stream",
     "text": [
      "None\n"
     ]
    }
   ],
   "source": [
    "import re\n",
    "result = re.match('Programming',r'Python and data science, huge group of programmers choose Python')\n",
    "print(result)"
   ]
  },
  {
   "cell_type": "code",
   "execution_count": 5,
   "id": "fd970738",
   "metadata": {},
   "outputs": [
    {
     "name": "stdout",
     "output_type": "stream",
     "text": [
      "<re.Match object; span=(11, 15), match='data'>\n",
      "data\n"
     ]
    }
   ],
   "source": [
    "result = re.search('data',r'Python and data science, huge group of programmers use Python')\n",
    "print(result)\n",
    "print(result.group())"
   ]
  },
  {
   "cell_type": "code",
   "execution_count": 7,
   "id": "cdb9e3a2",
   "metadata": {},
   "outputs": [
    {
     "name": "stdout",
     "output_type": "stream",
     "text": [
      "['data', 'science']\n"
     ]
    }
   ],
   "source": [
    "result = re.findall('(data|python|science)',r'Python and data science, huge group of programmers use Python')\n",
    "print(result)\n"
   ]
  },
  {
   "cell_type": "code",
   "execution_count": 9,
   "id": "d85cfa53",
   "metadata": {},
   "outputs": [
    {
     "name": "stdout",
     "output_type": "stream",
     "text": [
      "['Python', 'data', 'science', 'Python']\n",
      "{'data', 'science', 'Python'}\n"
     ]
    }
   ],
   "source": [
    "result = re.findall('(data|python|science)',r'Python and data science, huge group of programmers use Python',re.IGNORECASE)\n",
    "print(result)\n",
    "print(set(result))"
   ]
  },
  {
   "cell_type": "code",
   "execution_count": 13,
   "id": "c89b992e",
   "metadata": {},
   "outputs": [
    {
     "data": {
      "text/plain": [
       "['A',\n",
       " 'fat',\n",
       " 'cat',\n",
       " 'doesn',\n",
       " 't',\n",
       " 'eat',\n",
       " 'oat',\n",
       " 'but',\n",
       " 'a',\n",
       " 'car',\n",
       " 'eats',\n",
       " 'bats']"
      ]
     },
     "execution_count": 13,
     "metadata": {},
     "output_type": "execute_result"
    }
   ],
   "source": [
    "cat = \"A fat cat doesn't eat oat but a car eats bats\"\n",
    "catmatch = re.split(r\"\\W+\",cat)\n",
    "catmatch\n",
    "                    "
   ]
  },
  {
   "cell_type": "code",
   "execution_count": 15,
   "id": "fdbc8a9a",
   "metadata": {
    "scrolled": true
   },
   "outputs": [
    {
     "ename": "TypeError",
     "evalue": "expected string or bytes-like object",
     "output_type": "error",
     "traceback": [
      "\u001b[1;31m---------------------------------------------------------------------------\u001b[0m",
      "\u001b[1;31mTypeError\u001b[0m                                 Traceback (most recent call last)",
      "\u001b[1;32m<ipython-input-15-c184eda48240>\u001b[0m in \u001b[0;36m<module>\u001b[1;34m\u001b[0m\n\u001b[0;32m      1\u001b[0m \u001b[0ma\u001b[0m \u001b[1;33m=\u001b[0m \u001b[1;34m' 2 India 1,380,004,385 2.02 %17.7 % '\u001b[0m\u001b[1;33m,\u001b[0m \u001b[1;34m' 3 United States 331,002,651 1.19 %4.2 % '\u001b[0m\u001b[1;33m,\u001b[0m \u001b[1;34m' 4 Indonesia 273,523,615 2.19 %3.5 % '\u001b[0m\u001b[1;33m,\u001b[0m \u001b[1;34m' 5 Pakistan 220,892,340 4.08 %2.8 % '\u001b[0m\u001b[1;33m\u001b[0m\u001b[1;33m\u001b[0m\u001b[0m\n\u001b[1;32m----> 2\u001b[1;33m \u001b[0mamatch\u001b[0m \u001b[1;33m=\u001b[0m \u001b[0mre\u001b[0m\u001b[1;33m.\u001b[0m\u001b[0msplit\u001b[0m\u001b[1;33m(\u001b[0m\u001b[1;34mr\"\\W+\"\u001b[0m\u001b[1;33m,\u001b[0m\u001b[0ma\u001b[0m\u001b[1;33m)\u001b[0m\u001b[1;33m\u001b[0m\u001b[1;33m\u001b[0m\u001b[0m\n\u001b[0m\u001b[0;32m      3\u001b[0m \u001b[0mamatch\u001b[0m\u001b[1;33m\u001b[0m\u001b[1;33m\u001b[0m\u001b[0m\n",
      "\u001b[1;32mD:\\Other\\anaconda\\lib\\re.py\u001b[0m in \u001b[0;36msplit\u001b[1;34m(pattern, string, maxsplit, flags)\u001b[0m\n\u001b[0;32m    229\u001b[0m     \u001b[1;32mand\u001b[0m \u001b[0mthe\u001b[0m \u001b[0mremainder\u001b[0m \u001b[0mof\u001b[0m \u001b[0mthe\u001b[0m \u001b[0mstring\u001b[0m \u001b[1;32mis\u001b[0m \u001b[0mreturned\u001b[0m \u001b[1;32mas\u001b[0m \u001b[0mthe\u001b[0m \u001b[0mfinal\u001b[0m \u001b[0melement\u001b[0m\u001b[1;33m\u001b[0m\u001b[1;33m\u001b[0m\u001b[0m\n\u001b[0;32m    230\u001b[0m     of the list.\"\"\"\n\u001b[1;32m--> 231\u001b[1;33m     \u001b[1;32mreturn\u001b[0m \u001b[0m_compile\u001b[0m\u001b[1;33m(\u001b[0m\u001b[0mpattern\u001b[0m\u001b[1;33m,\u001b[0m \u001b[0mflags\u001b[0m\u001b[1;33m)\u001b[0m\u001b[1;33m.\u001b[0m\u001b[0msplit\u001b[0m\u001b[1;33m(\u001b[0m\u001b[0mstring\u001b[0m\u001b[1;33m,\u001b[0m \u001b[0mmaxsplit\u001b[0m\u001b[1;33m)\u001b[0m\u001b[1;33m\u001b[0m\u001b[1;33m\u001b[0m\u001b[0m\n\u001b[0m\u001b[0;32m    232\u001b[0m \u001b[1;33m\u001b[0m\u001b[0m\n\u001b[0;32m    233\u001b[0m \u001b[1;32mdef\u001b[0m \u001b[0mfindall\u001b[0m\u001b[1;33m(\u001b[0m\u001b[0mpattern\u001b[0m\u001b[1;33m,\u001b[0m \u001b[0mstring\u001b[0m\u001b[1;33m,\u001b[0m \u001b[0mflags\u001b[0m\u001b[1;33m=\u001b[0m\u001b[1;36m0\u001b[0m\u001b[1;33m)\u001b[0m\u001b[1;33m:\u001b[0m\u001b[1;33m\u001b[0m\u001b[1;33m\u001b[0m\u001b[0m\n",
      "\u001b[1;31mTypeError\u001b[0m: expected string or bytes-like object"
     ]
    }
   ],
   "source": [
    "a = ' 2 India 1,380,004,385 2.02 %17.7 % ', ' 3 United States 331,002,651 1.19 %4.2 % ', ' 4 Indonesia 273,523,615 2.19 %3.5 % ', ' 5 Pakistan 220,892,340 4.08 %2.8 % '\n",
    "amatch = re.split(r\"\\W+\",a)\n",
    "amatch"
   ]
  },
  {
   "cell_type": "code",
   "execution_count": 16,
   "id": "97cfb63f",
   "metadata": {},
   "outputs": [
    {
     "name": "stdout",
     "output_type": "stream",
     "text": [
      "['Towards']\n",
      "['Towards']\n"
     ]
    }
   ],
   "source": [
    "str = r'Towardsdatascience.com is the largest data science community' \n",
    "x = re.findall(\"\\ATowards\", str)\n",
    "print(x)\n",
    "\n",
    "x1 = re.findall(\"^Towards\", str)\n",
    "print(x1)"
   ]
  },
  {
   "cell_type": "code",
   "execution_count": 17,
   "id": "70a96ae8",
   "metadata": {},
   "outputs": [
    {
     "name": "stdout",
     "output_type": "stream",
     "text": [
      "[]\n"
     ]
    }
   ],
   "source": [
    "str = r'Towardsdatascience.com is the largest data science community'\n",
    "x = re.findall(\"\\APython\", str)\n",
    "print(x)"
   ]
  },
  {
   "cell_type": "code",
   "execution_count": 20,
   "id": "799362d5",
   "metadata": {},
   "outputs": [
    {
     "name": "stdout",
     "output_type": "stream",
     "text": [
      "[]\n"
     ]
    }
   ],
   "source": [
    "x = re.findall(r\"it\\b\", str)\n",
    "print(x)"
   ]
  },
  {
   "cell_type": "code",
   "execution_count": 21,
   "id": "b02f2859",
   "metadata": {},
   "outputs": [
    {
     "name": "stdout",
     "output_type": "stream",
     "text": [
      "['enc', 'enc']\n"
     ]
    }
   ],
   "source": [
    "x = re.findall(r\"\\Benc\", str)\n",
    "print(x)"
   ]
  },
  {
   "cell_type": "code",
   "execution_count": 23,
   "id": "59d16b32",
   "metadata": {},
   "outputs": [
    {
     "name": "stdout",
     "output_type": "stream",
     "text": [
      "['2', '1', '9']\n",
      "yes, there is at least one match!\n"
     ]
    }
   ],
   "source": [
    "strTest = \"2 million monthly visits since Jan'19.\"\n",
    "x = re.findall(\"\\d\", strTest)\n",
    "print(x)\n",
    "if (x):\n",
    "    print(\"yes, there is at least one match!\")\n",
    "else:\n",
    "    print(\"No match\")"
   ]
  },
  {
   "cell_type": "code",
   "execution_count": 27,
   "id": "99ebec82",
   "metadata": {},
   "outputs": [
    {
     "name": "stdout",
     "output_type": "stream",
     "text": [
      "['20', '2019']\n",
      "Yes, there is at least one match!\n"
     ]
    }
   ],
   "source": [
    "str = \" 20 million monthly visits in Jan' 2019.\"\n",
    "x = re.findall(\"\\d+\", str)\n",
    "print(x)\n",
    "if (x):\n",
    "    print(\"Yes, there is at least one match!\")\n",
    "else:\n",
    "    print(\"No match\")"
   ]
  },
  {
   "cell_type": "code",
   "execution_count": 28,
   "id": "1269b074",
   "metadata": {},
   "outputs": [
    {
     "name": "stdout",
     "output_type": "stream",
     "text": [
      "[' ', 'm', 'i', 'l', 'l', 'i', 'o', 'n', ' ', 'm', 'o', 'n', 't', 'h', 'l', 'y', ' ', 'v', 'i', 's', 'i', 't', 's', ' ', 'i', 'n', ' ', 'J', 'a', 'n', \"'\", ' ']\n",
      "Yes, there is at least one match!\n"
     ]
    }
   ],
   "source": [
    "str = \"2 million monthly visits in Jan' 2019\"\n",
    "x = re.findall(\"\\D\", str)\n",
    "print(x)\n",
    "if (x):\n",
    "    print(\"Yes, there is at least one match!\")\n",
    "else:\n",
    "    print(\"No match\")"
   ]
  },
  {
   "cell_type": "code",
   "execution_count": 29,
   "id": "f6468eb3",
   "metadata": {},
   "outputs": [
    {
     "name": "stdout",
     "output_type": "stream",
     "text": [
      "[\" million monthly visits'\"]\n"
     ]
    }
   ],
   "source": [
    "str = \"2 million monthly visits'19\"\n",
    "x = re.findall(\"\\D+\", str)\n",
    "print(x)"
   ]
  },
  {
   "cell_type": "code",
   "execution_count": 30,
   "id": "463a6cc3",
   "metadata": {},
   "outputs": [
    {
     "name": "stdout",
     "output_type": "stream",
     "text": [
      "['2', 'm', 'i', 'l', 'l', 'i', 'o', 'n', 'm', 'o', 'n', 't', 'h', 'l', 'y', 'v', 'i', 's', 'i', 't', 's']\n",
      "Yes, there is at least one match!\n"
     ]
    }
   ],
   "source": [
    "str = \"2 million monthly visits\"\n",
    "x = re.findall(\"\\w\", str)\n",
    "print(x)\n",
    "if (x):\n",
    "    print(\"Yes, there is at least one match!\")\n",
    "else:\n",
    "    print(\"Nom match\")"
   ]
  },
  {
   "cell_type": "code",
   "execution_count": 31,
   "id": "d25ba9be",
   "metadata": {},
   "outputs": [
    {
     "name": "stdout",
     "output_type": "stream",
     "text": [
      "['2', 'million', 'monthly', 'visits']\n",
      "Yes, there is at least one match!\n"
     ]
    }
   ],
   "source": [
    "str  = \"2 million monthly visits\"\n",
    "x = re.findall(\"\\w+\", str)\n",
    "print(x)\n",
    "if (x):\n",
    "    print(\"Yes, there is at least one match!\")\n",
    "else:\n",
    "    print(\"No match\")"
   ]
  },
  {
   "cell_type": "code",
   "execution_count": 32,
   "id": "3607fffd",
   "metadata": {},
   "outputs": [
    {
     "name": "stdout",
     "output_type": "stream",
     "text": [
      "['2', 'India', '1', '380', '004', '385', '2', '02', '17', '7', '3', 'United', 'States', '331', '002', '651', '1', '19', '4', '2', '4', 'Indonesia', '273', '523', '615', '2', '19', '3', '5', '5', 'Pakistan', '220', '892', '340', '4', '08', '2', '8']\n",
      "Yes, there is at least one match!\n"
     ]
    }
   ],
   "source": [
    "str  = \"[' 2 India 1,380,004,385 2.02 %17.7 % ', ' 3 United States 331,002,651 1.19 %4.2 % ', ' 4 Indonesia 273,523,615 2.19 %3.5 % ', ' 5 Pakistan 220,892,340 4.08 %2.8 % ']\"\n",
    "x = re.findall(\"\\w+\", str)\n",
    "print(x)\n",
    "if (x):\n",
    "    print(\"Yes, there is at least one match!\")\n",
    "else:\n",
    "    print(\"No match\")"
   ]
  },
  {
   "cell_type": "code",
   "execution_count": 33,
   "id": "d36dd8df",
   "metadata": {},
   "outputs": [
    {
     "name": "stdout",
     "output_type": "stream",
     "text": [
      "[' ', ' ', ' ', '!']\n",
      "yes, there is at least one match!\n"
     ]
    }
   ],
   "source": [
    "str = \"2 million monthly visits9!\"\n",
    "x = re.findall(\"\\W\", str)\n",
    "print(x)\n",
    "if (x):\n",
    "    print(\"yes, there is at least one match!\")\n",
    "else:\n",
    "    print(\"No match\")"
   ]
  },
  {
   "cell_type": "code",
   "execution_count": 37,
   "id": "06d54328",
   "metadata": {},
   "outputs": [
    {
     "name": "stdout",
     "output_type": "stream",
     "text": [
      "['roh', 'roh']\n",
      "['rohan', 'rohit']\n",
      "['rohan and rohit recently published a research paper ']\n"
     ]
    }
   ],
   "source": [
    "str = \"rohan and rohit recently published a research paper !\"\n",
    "x = re.findall(\"ro.\", str)\n",
    "x2 = re.findall(\"ro...\", str)\n",
    "x3 = re.findall(\"ro.+\\s\", str)\n",
    "\n",
    "print(x)\n",
    "print(x2)\n",
    "print(x3)"
   ]
  },
  {
   "cell_type": "code",
   "execution_count": 39,
   "id": "10ed2baf",
   "metadata": {},
   "outputs": [
    {
     "name": "stdout",
     "output_type": "stream",
     "text": [
      "['Data']\n",
      "Yes, the string starts with 'Data'\n"
     ]
    }
   ],
   "source": [
    "str = \"Data Science\"\n",
    "x = re.findall(\"^Data\", str)\n",
    "print(x)\n",
    "if (x):\n",
    "    print(\"Yes, the string starts with 'Data'\")\n",
    "else:\n",
    "    print(\"No match\")"
   ]
  },
  {
   "cell_type": "code",
   "execution_count": 40,
   "id": "1a309f65",
   "metadata": {},
   "outputs": [
    {
     "name": "stdout",
     "output_type": "stream",
     "text": [
      "[]\n",
      "No match\n"
     ]
    }
   ],
   "source": [
    "str2 = \"Big Data\"\n",
    "x2 = re.findall(\"^Data\", str2)\n",
    "print(x2)\n",
    "if (x2):\n",
    "    print(\"Yes the string with 'data'\")\n",
    "else:\n",
    "    print(\"No match\")"
   ]
  },
  {
   "cell_type": "code",
   "execution_count": 41,
   "id": "58fd5213",
   "metadata": {},
   "outputs": [
    {
     "name": "stdout",
     "output_type": "stream",
     "text": [
      "['Science']\n",
      "yes, the string ends with 'Science'\n"
     ]
    }
   ],
   "source": [
    "str = \"Data Science\"\n",
    "x = re.findall(\"Science$\", str)\n",
    "print(x)\n",
    "if (x):\n",
    "    print(\"yes, the string ends with 'Science'\")\n",
    "else:\n",
    "    print(\"No match\")"
   ]
  },
  {
   "cell_type": "code",
   "execution_count": 42,
   "id": "7c85b0de",
   "metadata": {},
   "outputs": [
    {
     "name": "stdout",
     "output_type": "stream",
     "text": [
      "['easy', 'easssy', 'eay']\n",
      "Yes, there is at least one match!\n"
     ]
    }
   ],
   "source": [
    "str = \"easy easssy eay ey\"\n",
    "x = re.findall(\"eas*y\", str)\n",
    "print(x)\n",
    "if (x):\n",
    "    print(\"Yes, there is at least one match!\")\n",
    "else:\n",
    "    print(\"No match\")"
   ]
  },
  {
   "cell_type": "code",
   "execution_count": 43,
   "id": "d73fa747",
   "metadata": {},
   "outputs": [
    {
     "name": "stdout",
     "output_type": "stream",
     "text": [
      "['easy', 'easssy']\n",
      "yes, there is at least one match!\n"
     ]
    }
   ],
   "source": [
    "x = re.findall(\"eas+y\", str)\n",
    "print(x)\n",
    "if (x):\n",
    "    print(\"yes, there is at least one match!\")\n",
    "else:\n",
    "    print(\"No match\")"
   ]
  },
  {
   "cell_type": "code",
   "execution_count": 44,
   "id": "9331850c",
   "metadata": {},
   "outputs": [
    {
     "name": "stdout",
     "output_type": "stream",
     "text": [
      "['easy', 'eay']\n",
      "Yes, ther is at least one match!\n"
     ]
    }
   ],
   "source": [
    "x = re.findall(\"eas?y\", str)\n",
    "print(x)\n",
    "if (x):\n",
    "    print(\"Yes, ther is at least one match!\")\n",
    "else:\n",
    "    print(\"No match\")"
   ]
  },
  {
   "cell_type": "code",
   "execution_count": 45,
   "id": "f229cd80",
   "metadata": {},
   "outputs": [
    {
     "name": "stdout",
     "output_type": "stream",
     "text": [
      "['data', 'science', 'data', 'science']\n"
     ]
    }
   ],
   "source": [
    "str = \"Towardsdatascience.com is the largest data science community\"\n",
    "x = re.findall(\"data|science\", str)\n",
    "print(x)"
   ]
  },
  {
   "cell_type": "code",
   "execution_count": 2,
   "id": "46501f13",
   "metadata": {},
   "outputs": [
    {
     "ename": "NameError",
     "evalue": "name 're' is not defined",
     "output_type": "error",
     "traceback": [
      "\u001b[1;31m---------------------------------------------------------------------------\u001b[0m",
      "\u001b[1;31mNameError\u001b[0m                                 Traceback (most recent call last)",
      "\u001b[1;32m<ipython-input-2-7d231ca5a2c0>\u001b[0m in \u001b[0;36m<module>\u001b[1;34m\u001b[0m\n\u001b[0;32m      1\u001b[0m \u001b[0mstr\u001b[0m \u001b[1;33m=\u001b[0m \u001b[1;34m\"Towardsdatascience.com is the largest data science community\"\u001b[0m\u001b[1;33m\u001b[0m\u001b[1;33m\u001b[0m\u001b[0m\n\u001b[1;32m----> 2\u001b[1;33m \u001b[0mx\u001b[0m \u001b[1;33m=\u001b[0m \u001b[0mre\u001b[0m\u001b[1;33m.\u001b[0m\u001b[0mfindall\u001b[0m\u001b[1;33m(\u001b[0m\u001b[1;34m\"[ydh]\"\u001b[0m\u001b[1;33m,\u001b[0m \u001b[0mstr\u001b[0m\u001b[1;33m)\u001b[0m\u001b[1;33m\u001b[0m\u001b[1;33m\u001b[0m\u001b[0m\n\u001b[0m\u001b[0;32m      3\u001b[0m \u001b[0mprint\u001b[0m\u001b[1;33m(\u001b[0m\u001b[0mx\u001b[0m\u001b[1;33m)\u001b[0m\u001b[1;33m\u001b[0m\u001b[1;33m\u001b[0m\u001b[0m\n",
      "\u001b[1;31mNameError\u001b[0m: name 're' is not defined"
     ]
    }
   ],
   "source": [
    "str = \"Towardsdatascience.com is the largest data science community\"\n",
    "x = re.findall(\"[ydh]\", str)\n",
    "print(x)"
   ]
  },
  {
   "cell_type": "code",
   "execution_count": null,
   "id": "1d0f9e33",
   "metadata": {},
   "outputs": [],
   "source": []
  }
 ],
 "metadata": {
  "kernelspec": {
   "display_name": "Python 3",
   "language": "python",
   "name": "python3"
  },
  "language_info": {
   "codemirror_mode": {
    "name": "ipython",
    "version": 3
   },
   "file_extension": ".py",
   "mimetype": "text/x-python",
   "name": "python",
   "nbconvert_exporter": "python",
   "pygments_lexer": "ipython3",
   "version": "3.8.8"
  }
 },
 "nbformat": 4,
 "nbformat_minor": 5
}
